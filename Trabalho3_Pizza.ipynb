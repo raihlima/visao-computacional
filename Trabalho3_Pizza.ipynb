{
  "nbformat": 4,
  "nbformat_minor": 0,
  "metadata": {
    "colab": {
      "provenance": [],
      "collapsed_sections": [
        "I_ALN_9KdgkB",
        "2xSNiXnMdlXR",
        "zi8cGRjdzlIz",
        "fD55TVJBbp-R"
      ],
      "gpuType": "T4"
    },
    "kernelspec": {
      "name": "python3",
      "display_name": "Python 3"
    },
    "language_info": {
      "name": "python"
    },
    "accelerator": "GPU"
  },
  "cells": [
    {
      "cell_type": "code",
      "source": [
        "!pip install numba"
      ],
      "metadata": {
        "colab": {
          "base_uri": "https://localhost:8080/"
        },
        "id": "dwcoN3VK2VDm",
        "outputId": "167b2738-34cd-4811-fcce-456e2f0645af"
      },
      "execution_count": null,
      "outputs": [
        {
          "output_type": "stream",
          "name": "stdout",
          "text": [
            "Requirement already satisfied: numba in /usr/local/lib/python3.10/dist-packages (0.58.1)\n",
            "Requirement already satisfied: llvmlite<0.42,>=0.41.0dev0 in /usr/local/lib/python3.10/dist-packages (from numba) (0.41.1)\n",
            "Requirement already satisfied: numpy<1.27,>=1.22 in /usr/local/lib/python3.10/dist-packages (from numba) (1.23.5)\n"
          ]
        }
      ]
    },
    {
      "cell_type": "markdown",
      "source": [
        "# Importações"
      ],
      "metadata": {
        "id": "I_ALN_9KdgkB"
      }
    },
    {
      "cell_type": "code",
      "source": [
        "import tensorflow as tf\n",
        "from tensorflow import keras\n",
        "from tensorflow.keras.models import Sequential\n",
        "from tensorflow.keras.layers import Dense, Conv2D, Flatten, Dropout, MaxPooling2D, Resizing\n",
        "from tensorflow.keras.optimizers import SGD\n",
        "from tensorflow.keras.utils import to_categorical\n",
        "from tensorflow.keras import layers\n",
        "from sklearn.metrics import classification_report, confusion_matrix\n",
        "import numpy as np\n",
        "import matplotlib.pyplot as plt\n",
        "\n",
        "tf.random.set_seed(42)\n",
        "np.random.seed(42)\n",
        "\n",
        "from google.colab import drive\n",
        "import os\n",
        "\n",
        "from numba import cuda\n",
        "\n",
        "import gc\n",
        "\n",
        "from PIL import Image"
      ],
      "metadata": {
        "id": "TSphE4Vx34hi"
      },
      "execution_count": null,
      "outputs": []
    },
    {
      "cell_type": "code",
      "source": [
        "drive.mount('/content/drive')\n",
        "\n",
        "# Caminho para a pasta no Drive\n",
        "pasta_drive = '/content/drive/MyDrive/Dataset'\n",
        "\n",
        "# Mude o diretório atual para a pasta do Drive\n",
        "os.chdir(pasta_drive)\n"
      ],
      "metadata": {
        "colab": {
          "base_uri": "https://localhost:8080/"
        },
        "id": "UxrftqKO6Pvi",
        "outputId": "aff21204-19c4-4632-e977-df559410cc1b"
      },
      "execution_count": null,
      "outputs": [
        {
          "output_type": "stream",
          "name": "stdout",
          "text": [
            "Drive already mounted at /content/drive; to attempt to forcibly remount, call drive.mount(\"/content/drive\", force_remount=True).\n"
          ]
        }
      ]
    },
    {
      "cell_type": "code",
      "source": [
        "train_dir = '/content/drive/MyDrive/Dataset/dataset/train'\n",
        "test_dir = '/content/drive/MyDrive/Dataset/dataset/test'"
      ],
      "metadata": {
        "id": "vtibZj5ityuA"
      },
      "execution_count": null,
      "outputs": []
    },
    {
      "cell_type": "code",
      "source": [
        "print(tf.__version__)\n",
        "print(tf.config.list_physical_devices('GPU'))\n"
      ],
      "metadata": {
        "id": "ja9fZzSzi1pX",
        "outputId": "13af0878-be58-4119-9dd9-eaf0922f608c",
        "colab": {
          "base_uri": "https://localhost:8080/"
        }
      },
      "execution_count": null,
      "outputs": [
        {
          "output_type": "stream",
          "name": "stdout",
          "text": [
            "2.14.0\n",
            "[PhysicalDevice(name='/physical_device:GPU:0', device_type='GPU')]\n"
          ]
        }
      ]
    },
    {
      "cell_type": "code",
      "source": [
        "TRAIN_DIR = '/content/drive/MyDrive/Dataset/dataset/train'\n",
        "VAL_DIR = '/content/drive/MyDrive/Dataset/dataset/valid'\n",
        "TEST_DIR = '/content/drive/MyDrive/Dataset/dataset/test'\n",
        "BATCH_SIZE=32"
      ],
      "metadata": {
        "id": "jssZ94hD9yGD"
      },
      "execution_count": null,
      "outputs": []
    },
    {
      "cell_type": "code",
      "source": [
        "train_datagen = tf.keras.preprocessing.image.ImageDataGenerator(\n",
        "    rescale=1./255,\n",
        "    shear_range=0.2,\n",
        "    zoom_range=0.2,\n",
        "    horizontal_flip=True\n",
        ")\n",
        "\n",
        "train_generator = train_datagen.flow_from_directory(\n",
        "    TRAIN_DIR,\n",
        "    target_size=(417, 626),\n",
        "    batch_size=BATCH_SIZE,\n",
        "    class_mode='binary'\n",
        ")\n",
        "\n"
      ],
      "metadata": {
        "colab": {
          "base_uri": "https://localhost:8080/"
        },
        "id": "XUhs0kCLG11c",
        "outputId": "8e2ad36e-ec0b-4fe1-dfaa-a27981400860"
      },
      "execution_count": null,
      "outputs": [
        {
          "output_type": "stream",
          "name": "stdout",
          "text": [
            "Found 718 images belonging to 2 classes.\n"
          ]
        }
      ]
    },
    {
      "cell_type": "code",
      "source": [
        "val_datagen = tf.keras.preprocessing.image.ImageDataGenerator(\n",
        "    rescale=1./255\n",
        ")\n",
        "\n",
        "val_generator = val_datagen.flow_from_directory(\n",
        "    VAL_DIR,\n",
        "    target_size=(417, 626),batch_size=BATCH_SIZE,\n",
        "    class_mode='binary'\n",
        ")"
      ],
      "metadata": {
        "colab": {
          "base_uri": "https://localhost:8080/"
        },
        "id": "ez30a0aJG_4t",
        "outputId": "cb8985c3-17bf-4c37-b4ae-93e2018a90ff"
      },
      "execution_count": null,
      "outputs": [
        {
          "output_type": "stream",
          "name": "stdout",
          "text": [
            "Found 208 images belonging to 2 classes.\n"
          ]
        }
      ]
    },
    {
      "cell_type": "code",
      "source": [
        "test_datagen = tf.keras.preprocessing.image.ImageDataGenerator(\n",
        "    rescale=1./255\n",
        ")\n",
        "\n",
        "test_generator = test_datagen.flow_from_directory(\n",
        "    TEST_DIR,\n",
        "    target_size=(417, 626),batch_size=BATCH_SIZE,\n",
        "    class_mode='binary'\n",
        ")\n",
        "test_generator.class_indices"
      ],
      "metadata": {
        "colab": {
          "base_uri": "https://localhost:8080/"
        },
        "id": "dmeJQX4HHAhn",
        "outputId": "13bf680f-2fc7-4cd2-a995-837dfe2c252f"
      },
      "execution_count": null,
      "outputs": [
        {
          "output_type": "stream",
          "name": "stdout",
          "text": [
            "Found 106 images belonging to 2 classes.\n"
          ]
        },
        {
          "output_type": "execute_result",
          "data": {
            "text/plain": [
              "{'icecream': 0, 'pizza': 1}"
            ]
          },
          "metadata": {},
          "execution_count": 8
        }
      ]
    },
    {
      "cell_type": "code",
      "source": [
        "from tensorflow.compat.v1 import ConfigProto\n",
        "from tensorflow.compat.v1 import InteractiveSession\n",
        "config = ConfigProto()\n",
        "config.gpu_options.allow_growth = True\n",
        "session = InteractiveSession(config=config)"
      ],
      "metadata": {
        "id": "hCshffYomTYZ"
      },
      "execution_count": null,
      "outputs": []
    },
    {
      "cell_type": "code",
      "source": [
        "list_learn_rate = [1e-2,1e-3,1e-4]\n",
        "list_batch_size = [32,64,128]\n",
        "list_epochs = [5,10,15]"
      ],
      "metadata": {
        "id": "4YMp1rAzwbSO"
      },
      "execution_count": null,
      "outputs": []
    },
    {
      "cell_type": "markdown",
      "source": [],
      "metadata": {
        "id": "S-k4bUoodpOc"
      }
    },
    {
      "cell_type": "markdown",
      "source": [
        "# Definindo modelos"
      ],
      "metadata": {
        "id": "2xSNiXnMdlXR"
      }
    },
    {
      "cell_type": "markdown",
      "source": [
        "AlexNet https://pt.d2l.ai/chapter_convolutional-modern/alexnet.html"
      ],
      "metadata": {
        "id": "MIf4wSLJgFqP"
      }
    },
    {
      "cell_type": "code",
      "source": [
        "def create_alexnet(num_classes=1, batch_normalization = False, dropout = False):\n",
        "  # Definindo a arquitetura da AlexNet\n",
        "  model = tf.keras.models.Sequential()\n",
        "\n",
        "  # Adicionando as camadas convolucionais417, 626, 3\n",
        "  #model.add(tf.keras.layers.Resizing(32, 32, input_shape=(None, None, 3)))\n",
        "  #model.add(tf.keras.layers.Conv2D(96, (11, 11), strides=(4, 4), input_shape=(32, 32, 3)))\n",
        "  model.add(tf.keras.layers.Conv2D(96, (11, 11), strides=(4, 4), input_shape=(417, 626, 3)))\n",
        "  #model.add(tf.keras.layers.Conv2D(96, (11, 11), strides=(4, 4), padding='valid'))\n",
        "  if batch_normalization:\n",
        "    model.add(tf.keras.layers.BatchNormalization())\n",
        "  model.add(tf.keras.layers.Activation('relu'))\n",
        "  model.add(tf.keras.layers.MaxPooling2D(pool_size=(3, 3), strides=(2, 2)))\n",
        "\n",
        "  model.add(tf.keras.layers.Conv2D(256, (5, 5), padding='same'))\n",
        "  if batch_normalization:\n",
        "    model.add(tf.keras.layers.BatchNormalization())\n",
        "  model.add(tf.keras.layers.Activation('relu'))\n",
        "  model.add(tf.keras.layers.MaxPooling2D(pool_size=(3, 3), strides=(2, 2)))\n",
        "\n",
        "  model.add(tf.keras.layers.Conv2D(384, (3, 3), padding='same'))\n",
        "  if batch_normalization:\n",
        "    model.add(tf.keras.layers.BatchNormalization())\n",
        "  model.add(tf.keras.layers.Activation('relu'))\n",
        "\n",
        "  model.add(tf.keras.layers.Conv2D(384, (3, 3), padding='same'))\n",
        "  if batch_normalization:\n",
        "    model.add(tf.keras.layers.BatchNormalization())\n",
        "  model.add(tf.keras.layers.Activation('relu'))\n",
        "\n",
        "  model.add(tf.keras.layers.Conv2D(256, (3, 3), padding='same'))\n",
        "  if batch_normalization:\n",
        "    model.add(tf.keras.layers.BatchNormalization())\n",
        "  model.add(tf.keras.layers.Activation('relu'))\n",
        "  model.add(tf.keras.layers.MaxPooling2D(pool_size=(3, 3), strides=(2, 2)))\n",
        "\n",
        "  # Flatten para as camadas totalmente conectadas\n",
        "  model.add(tf.keras.layers.Flatten())\n",
        "\n",
        "  # Adicionando as camadas totalmente conectadas\n",
        "  model.add(tf.keras.layers.Dense(4096))\n",
        "  if batch_normalization:\n",
        "    model.add(tf.keras.layers.BatchNormalization())\n",
        "  model.add(tf.keras.layers.Activation('relu'))\n",
        "  if dropout:\n",
        "    model.add(tf.keras.layers.Dropout(0.5))\n",
        "  model.add(tf.keras.layers.Dense(4096))\n",
        "  if batch_normalization:\n",
        "    model.add(tf.keras.layers.BatchNormalization())\n",
        "  model.add(tf.keras.layers.Activation('relu'))\n",
        "  if dropout:\n",
        "    model.add(tf.keras.layers.Dropout(0.5))\n",
        "  model.add(tf.keras.layers.Dense(num_classes, activation='sigmoid'))\n",
        "\n",
        "  return model  # Número de classes para classificação\n",
        "  \"\"\"\n",
        "    model_alex = Sequential([\n",
        "        Resizing(224, 224, input_shape=(None, None, 3)),  # Add Resizing layer\n",
        "        Conv2D(96, (11, 11), strides=(4, 4), activation='relu'),\n",
        "        MaxPooling2D((3, 3), strides=(2, 2)),\n",
        "        Conv2D(256, (5, 5), padding='same', activation='relu'),\n",
        "        MaxPooling2D(pool_size=(3, 3), strides=(2, 2)),\n",
        "        Conv2D(384, (3, 3), padding='same', activation='relu'),\n",
        "        Conv2D(384, (3, 3), padding='same', activation='relu'),\n",
        "        Conv2D(256, (3, 3), padding='same', activation='relu'),\n",
        "        MaxPooling2D((3, 3), strides=(2, 2)),\n",
        "        Flatten(),\n",
        "        Dense(4096, activation='relu'),\n",
        "        Dense(4096, activation='relu'),\n",
        "        Dense(nodes, activation='softmax')\n",
        "    ])\n",
        "      return model_alex\n",
        "    \"\"\"\n",
        "\n",
        "\n",
        "\n"
      ],
      "metadata": {
        "id": "HX-6qr3of_Y2"
      },
      "execution_count": null,
      "outputs": []
    },
    {
      "cell_type": "markdown",
      "source": [
        "### VGG16"
      ],
      "metadata": {
        "id": "SYtG_O6tmXpe"
      }
    },
    {
      "cell_type": "code",
      "source": [
        "def create_vgg16(num_classes=1, batch_normalization = False, dropout = False):\n",
        "    model = tf.keras.models.Sequential()\n",
        "\n",
        "    model.add(tf.keras.layers.Resizing(128, 128, input_shape=(None, None, 3)))\n",
        "    model.add(tf.keras.layers.Conv2D(64, (3, 3), padding='same', input_shape=(128, 128, 3)))\n",
        "    if batch_normalization:\n",
        "      model.add(tf.keras.layers.BatchNormalization())\n",
        "    model.add(tf.keras.layers.Activation('relu'))\n",
        "    model.add(tf.keras.layers.Conv2D(64, (3, 3), padding='same', input_shape=(128, 128, 3)))\n",
        "    if batch_normalization:\n",
        "      model.add(tf.keras.layers.BatchNormalization())\n",
        "    model.add(tf.keras.layers.Activation('relu'))\n",
        "    model.add(tf.keras.layers.MaxPooling2D((2, 2), strides=(2, 2)))\n",
        "\n",
        "    # Bloco 2\n",
        "    model.add(tf.keras.layers.Conv2D(128, (3, 3), padding='same'))\n",
        "    if batch_normalization:\n",
        "      model.add(tf.keras.layers.BatchNormalization())\n",
        "    model.add(tf.keras.layers.Activation('relu'))\n",
        "    model.add(tf.keras.layers.Conv2D(128, (3, 3), padding='same'))\n",
        "    if batch_normalization:\n",
        "      model.add(tf.keras.layers.BatchNormalization())\n",
        "    model.add(tf.keras.layers.Activation('relu'))\n",
        "    model.add(tf.keras.layers.MaxPooling2D((2, 2), strides=(2, 2)))\n",
        "\n",
        "    # Bloco 3\n",
        "    model.add(tf.keras.layers.Conv2D(256, (3, 3), padding='same'))\n",
        "    if batch_normalization:\n",
        "      model.add(tf.keras.layers.BatchNormalization())\n",
        "    model.add(tf.keras.layers.Activation('relu'))\n",
        "    model.add(tf.keras.layers.Conv2D(256, (3, 3), padding='same'))\n",
        "    if batch_normalization:\n",
        "      model.add(tf.keras.layers.BatchNormalization())\n",
        "    model.add(tf.keras.layers.Activation('relu'))\n",
        "    model.add(tf.keras.layers.Conv2D(256, (3, 3), padding='same'))\n",
        "    if batch_normalization:\n",
        "      model.add(tf.keras.layers.BatchNormalization())\n",
        "    model.add(tf.keras.layers.Activation('relu'))\n",
        "    model.add(tf.keras.layers.MaxPooling2D((2, 2), strides=(2, 2)))\n",
        "\n",
        "    # Bloco 4\n",
        "    model.add(tf.keras.layers.Conv2D(512, (3, 3), padding='same'))\n",
        "    if batch_normalization:\n",
        "      model.add(tf.keras.layers.BatchNormalization())\n",
        "    model.add(tf.keras.layers.Activation('relu'))\n",
        "    model.add(tf.keras.layers.Conv2D(512, (3, 3), padding='same'))\n",
        "    if batch_normalization:\n",
        "      model.add(tf.keras.layers.BatchNormalization())\n",
        "    model.add(tf.keras.layers.Activation('relu'))\n",
        "    model.add(tf.keras.layers.Conv2D(512, (3, 3), padding='same'))\n",
        "    if batch_normalization:\n",
        "      model.add(tf.keras.layers.BatchNormalization())\n",
        "    model.add(tf.keras.layers.Activation('relu'))\n",
        "    model.add(tf.keras.layers.MaxPooling2D((2, 2), strides=(2, 2)))\n",
        "\n",
        "    # Bloco 5\n",
        "    model.add(tf.keras.layers.Conv2D(512, (3, 3), padding='same'))\n",
        "    if batch_normalization:\n",
        "      model.add(tf.keras.layers.BatchNormalization())\n",
        "    model.add(tf.keras.layers.Activation('relu'))\n",
        "    model.add(tf.keras.layers.Conv2D(512, (3, 3), padding='same'))\n",
        "    if batch_normalization:\n",
        "      model.add(tf.keras.layers.BatchNormalization())\n",
        "    model.add(tf.keras.layers.Activation('relu'))\n",
        "    model.add(tf.keras.layers.Conv2D(512, (3, 3), padding='same'))\n",
        "    if batch_normalization:\n",
        "      model.add(tf.keras.layers.BatchNormalization())\n",
        "    model.add(tf.keras.layers.Activation('relu'))\n",
        "    model.add(tf.keras.layers.MaxPooling2D((2, 2), strides=(2, 2)))\n",
        "\n",
        "    # Camada densa\n",
        "    model.add(tf.keras.layers.Flatten())\n",
        "    model.add(tf.keras.layers.Dense(4096))\n",
        "    if batch_normalization:\n",
        "      model.add(tf.keras.layers.BatchNormalization())\n",
        "    model.add(tf.keras.layers.Activation('relu'))\n",
        "    if dropout:\n",
        "      model.add(tf.keras.layers.Dropout(0.5))\n",
        "    model.add(tf.keras.layers.Dense(4096))\n",
        "    if batch_normalization:\n",
        "      model.add(tf.keras.layers.BatchNormalization())\n",
        "    model.add(tf.keras.layers.Activation('relu'))\n",
        "    if dropout:\n",
        "      model.add(tf.keras.layers.Dropout(0.5))\n",
        "    model.add(tf.keras.layers.Dense(num_classes, activation='sigmoid'))\n",
        "\n",
        "    return model"
      ],
      "metadata": {
        "id": "EYvh04f2ZAfn"
      },
      "execution_count": null,
      "outputs": []
    },
    {
      "cell_type": "code",
      "source": [
        "def retornarAnalise(model):\n",
        "  # Fazer previsões no conjunto de teste\n",
        "  predictions = model.predict(test_generator).ravel()\n",
        "\n",
        "  # Converter as previsões para classes (0 ou 1 em um problema binário)\n",
        "  predicted_classes = (predictions > 0.5).astype('int32')\n",
        "  print(\"predicted_classes \",predictions)\n",
        "  #predicted_classes = np.argmax(predictions, axis=1)\n",
        "  # Obter rótulos verdadeiros do conjunto de teste\n",
        "  true_classes = test_generator.classes\n",
        "  confusion_mtx = confusion_matrix(true_classes, predicted_classes)\n",
        "\n",
        "  # Imprimir a matriz de confusão\n",
        "  print(\"Matriz de Confusão:\")\n",
        "  print(confusion_mtx)\n",
        "  report = classification_report(true_classes, predicted_classes)\n",
        "  return report"
      ],
      "metadata": {
        "id": "1ERrvJZM_sOZ"
      },
      "execution_count": null,
      "outputs": []
    },
    {
      "cell_type": "code",
      "source": [
        "print(test_generator.classes)"
      ],
      "metadata": {
        "colab": {
          "base_uri": "https://localhost:8080/"
        },
        "id": "sNGzxR7KDdYH",
        "outputId": "aea35e72-d658-45cb-d078-8299913950f1"
      },
      "execution_count": null,
      "outputs": [
        {
          "output_type": "stream",
          "name": "stdout",
          "text": [
            "[0 0 0 0 0 0 0 0 0 0 0 0 0 0 0 0 0 0 0 0 0 0 0 0 0 0 0 0 0 0 0 0 0 0 0 0 0\n",
            " 0 0 0 0 0 0 0 0 0 0 0 0 0 0 0 0 0 0 0 0 0 0 1 1 1 1 1 1 1 1 1 1 1 1 1 1 1\n",
            " 1 1 1 1 1 1 1 1 1 1 1 1 1 1 1 1 1 1 1 1 1 1 1 1 1 1 1 1 1 1 1 1]\n"
          ]
        }
      ]
    },
    {
      "cell_type": "markdown",
      "source": [
        "# Outra rede neural de teste"
      ],
      "metadata": {
        "id": "zi8cGRjdzlIz"
      }
    },
    {
      "cell_type": "code",
      "source": [
        "model = tf.keras.Sequential([\n",
        "    layers.Conv2D(64, (3, 3), activation='relu', input_shape=(417, 626, 3)),\n",
        "    layers.MaxPool2D((2, 2)),\n",
        "    layers.Conv2D(128, (3, 3), activation='relu', input_shape=(417, 626, 3)),\n",
        "    layers.MaxPool2D((2, 2)),\n",
        "    layers.Flatten(),\n",
        "    layers.Dense(1, activation='sigmoid')\n",
        "])\n",
        "\n",
        "model.summary()\n",
        "\n",
        "model.compile(\n",
        "    optimizer='adam',\n",
        "    loss='binary_crossentropy',\n",
        "    metrics=['accuracy']\n",
        ")\n",
        "\n",
        "history = model.fit(\n",
        "    train_generator,\n",
        "    steps_per_epoch=len(train_generator),\n",
        "    epochs=1,\n",
        "    validation_steps=len(val_generator),\n",
        "    validation_data=val_generator\n",
        ")"
      ],
      "metadata": {
        "id": "aAyMQshHzkH5"
      },
      "execution_count": null,
      "outputs": []
    },
    {
      "cell_type": "code",
      "source": [
        "print(retornarAnalise(model))"
      ],
      "metadata": {
        "id": "KSTuSXwMzpEs"
      },
      "execution_count": null,
      "outputs": []
    },
    {
      "cell_type": "markdown",
      "source": [
        "# Testes AlexNet"
      ],
      "metadata": {
        "id": "fD55TVJBbp-R"
      }
    },
    {
      "cell_type": "markdown",
      "source": [
        "##AlexNet Parte 1"
      ],
      "metadata": {
        "id": "HbB09Jtgli6Q"
      }
    },
    {
      "cell_type": "code",
      "source": [
        "learn_rate_history = []\n",
        "learn_rate_history_test = []\n",
        "\n",
        "#for learn_rate in list_learn_rate:\n",
        "\n",
        "for learn_rate in list_learn_rate:\n",
        "  model_alexnet = create_alexnet()\n",
        "  model_alexnet.compile(optimizer=SGD(learning_rate=learn_rate),\n",
        "                loss='binary_crossentropy',\n",
        "      metrics=['accuracy'])\n",
        "  learn_rate_history.append(model_alexnet.fit(train_generator, steps_per_epoch=len(train_generator), epochs=5,\n",
        "      validation_steps=len(val_generator),\n",
        "      validation_data=val_generator))\n",
        "  learn_rate_history_test = model_alexnet.evaluate(test_generator, verbose=5)\n",
        "  print(retornarAnalise(model_alexnet))\n",
        "#learn_rate_history_test = model_alexnet.evaluate(test_generator, verbose=5)"
      ],
      "metadata": {
        "colab": {
          "base_uri": "https://localhost:8080/"
        },
        "id": "bYIPL2zWh1SS",
        "outputId": "de82ef47-4589-4944-d251-5ce787d83717"
      },
      "execution_count": null,
      "outputs": [
        {
          "output_type": "stream",
          "name": "stdout",
          "text": [
            "Epoch 1/5\n",
            "23/23 [==============================] - 58s 2s/step - loss: 0.6863 - accuracy: 0.5989 - val_loss: 0.6770 - val_accuracy: 0.5481\n",
            "Epoch 2/5\n",
            "23/23 [==============================] - 51s 2s/step - loss: 0.6599 - accuracy: 0.6323 - val_loss: 0.6976 - val_accuracy: 0.4567\n",
            "Epoch 3/5\n",
            "23/23 [==============================] - 54s 2s/step - loss: 0.6232 - accuracy: 0.6838 - val_loss: 0.6106 - val_accuracy: 0.6154\n",
            "Epoch 4/5\n",
            "23/23 [==============================] - 50s 2s/step - loss: 0.5877 - accuracy: 0.6978 - val_loss: 0.5272 - val_accuracy: 0.7885\n",
            "Epoch 5/5\n",
            "23/23 [==============================] - 49s 2s/step - loss: 0.5148 - accuracy: 0.7591 - val_loss: 0.6661 - val_accuracy: 0.6683\n",
            "4/4 [==============================] - 2s 471ms/step\n",
            "predicted_classes  [0.05570111 0.5109367  0.3719101  0.48405996 0.24972038 0.19170702\n",
            " 0.69790983 0.11406012 0.11794568 0.16233061 0.5382819  0.03981597\n",
            " 0.28338677 0.7091253  0.67503667 0.33000392 0.3046422  0.16515817\n",
            " 0.16576657 0.26319546 0.2429471  0.04668667 0.07668144 0.1836208\n",
            " 0.2724422  0.03957558 0.39546633 0.39150667 0.26440972 0.30852437\n",
            " 0.06352831 0.05740581 0.72924656 0.10906231 0.08237674 0.11414786\n",
            " 0.05088926 0.1266844  0.08189933 0.05570111 0.52919894 0.51458865\n",
            " 0.58153707 0.6953228  0.12984163 0.56166714 0.11091942 0.65889734\n",
            " 0.5779941  0.14779325 0.17813562 0.06113085 0.04432425 0.6419646\n",
            " 0.13046637 0.24977419 0.04788559 0.0671067  0.05179249 0.26933506\n",
            " 0.0927842  0.04388659 0.58886683 0.1224708  0.33547294 0.21526733\n",
            " 0.18064275 0.13742469 0.14716713 0.08150107 0.19344732 0.14255868\n",
            " 0.35453868 0.06242273 0.11333565 0.33892462 0.28099707 0.18972921\n",
            " 0.04850762 0.22473407 0.04432425 0.09208451 0.03639797 0.17226689\n",
            " 0.05117371 0.06352597 0.07139804 0.06679489 0.24318925 0.21302135\n",
            " 0.702783   0.22138558 0.76992387 0.13226965 0.0671067  0.22987144\n",
            " 0.169803   0.51363736 0.5419609  0.17643847 0.3485329  0.2959596\n",
            " 0.0786263  0.06416104 0.46204647 0.6468806 ]\n",
            "Matriz de Confusão:\n",
            "[[45 14]\n",
            " [41  6]]\n",
            "              precision    recall  f1-score   support\n",
            "\n",
            "           0       0.52      0.76      0.62        59\n",
            "           1       0.30      0.13      0.18        47\n",
            "\n",
            "    accuracy                           0.48       106\n",
            "   macro avg       0.41      0.45      0.40       106\n",
            "weighted avg       0.42      0.48      0.42       106\n",
            "\n",
            "Epoch 1/5\n",
            "23/23 [==============================] - 51s 2s/step - loss: 0.6920 - accuracy: 0.5279 - val_loss: 0.6907 - val_accuracy: 0.5385\n",
            "Epoch 2/5\n",
            "23/23 [==============================] - 50s 2s/step - loss: 0.6901 - accuracy: 0.5362 - val_loss: 0.6892 - val_accuracy: 0.5433\n",
            "Epoch 3/5\n",
            "23/23 [==============================] - 49s 2s/step - loss: 0.6885 - accuracy: 0.5376 - val_loss: 0.6877 - val_accuracy: 0.5481\n",
            "Epoch 4/5\n",
            "23/23 [==============================] - 52s 2s/step - loss: 0.6871 - accuracy: 0.5432 - val_loss: 0.6860 - val_accuracy: 0.5481\n",
            "Epoch 5/5\n",
            "23/23 [==============================] - 50s 2s/step - loss: 0.6853 - accuracy: 0.5460 - val_loss: 0.6842 - val_accuracy: 0.5481\n",
            "4/4 [==============================] - 1s 234ms/step\n",
            "predicted_classes  [0.4687824  0.4634636  0.47928926 0.4784566  0.47845608 0.47322693\n",
            " 0.48111132 0.48306817 0.47134617 0.48560676 0.4858942  0.47392023\n",
            " 0.48539484 0.48126414 0.47736168 0.4627663  0.48204297 0.4715081\n",
            " 0.47094935 0.4869664  0.48804095 0.488037   0.46591938 0.48842695\n",
            " 0.47421467 0.4826659  0.47306553 0.47607452 0.48136604 0.4842967\n",
            " 0.46876594 0.4944364  0.4594076  0.475734   0.4767026  0.494958\n",
            " 0.46740264 0.48426652 0.4870333  0.4815694  0.4885598  0.4811937\n",
            " 0.48799053 0.48864296 0.4652184  0.48128197 0.46704575 0.47985592\n",
            " 0.48860982 0.48737484 0.4789731  0.48859084 0.48976004 0.46567753\n",
            " 0.47189164 0.4855987  0.47765997 0.47847477 0.48269024 0.46471143\n",
            " 0.4657262  0.4804549  0.48234385 0.4934812  0.4872787  0.47717094\n",
            " 0.47650677 0.47185802 0.48900288 0.46221164 0.4866351  0.4922906\n",
            " 0.4888187  0.49243358 0.4837169  0.46876594 0.47223985 0.48706356\n",
            " 0.48215538 0.48561934 0.4763614  0.48169458 0.48274207 0.46529448\n",
            " 0.49597993 0.46992633 0.47401705 0.4872597  0.4822954  0.48468086\n",
            " 0.46298558 0.49146393 0.46632913 0.46704575 0.48306856 0.48525566\n",
            " 0.48771787 0.4721235  0.48236516 0.4627662  0.47281042 0.4843806\n",
            " 0.48687595 0.4918312  0.49257317 0.4616628 ]\n",
            "Matriz de Confusão:\n",
            "[[59  0]\n",
            " [47  0]]\n",
            "              precision    recall  f1-score   support\n",
            "\n",
            "           0       0.56      1.00      0.72        59\n",
            "           1       0.00      0.00      0.00        47\n",
            "\n",
            "    accuracy                           0.56       106\n",
            "   macro avg       0.28      0.50      0.36       106\n",
            "weighted avg       0.31      0.56      0.40       106\n",
            "\n"
          ]
        },
        {
          "output_type": "stream",
          "name": "stderr",
          "text": [
            "/usr/local/lib/python3.10/dist-packages/sklearn/metrics/_classification.py:1344: UndefinedMetricWarning: Precision and F-score are ill-defined and being set to 0.0 in labels with no predicted samples. Use `zero_division` parameter to control this behavior.\n",
            "  _warn_prf(average, modifier, msg_start, len(result))\n",
            "/usr/local/lib/python3.10/dist-packages/sklearn/metrics/_classification.py:1344: UndefinedMetricWarning: Precision and F-score are ill-defined and being set to 0.0 in labels with no predicted samples. Use `zero_division` parameter to control this behavior.\n",
            "  _warn_prf(average, modifier, msg_start, len(result))\n",
            "/usr/local/lib/python3.10/dist-packages/sklearn/metrics/_classification.py:1344: UndefinedMetricWarning: Precision and F-score are ill-defined and being set to 0.0 in labels with no predicted samples. Use `zero_division` parameter to control this behavior.\n",
            "  _warn_prf(average, modifier, msg_start, len(result))\n"
          ]
        },
        {
          "output_type": "stream",
          "name": "stdout",
          "text": [
            "Epoch 1/5\n",
            "23/23 [==============================] - 51s 2s/step - loss: 0.6927 - accuracy: 0.5390 - val_loss: 0.6923 - val_accuracy: 0.5481\n",
            "Epoch 2/5\n",
            "23/23 [==============================] - 50s 2s/step - loss: 0.6923 - accuracy: 0.5390 - val_loss: 0.6921 - val_accuracy: 0.5481\n",
            "Epoch 3/5\n",
            "23/23 [==============================] - 50s 2s/step - loss: 0.6921 - accuracy: 0.5292 - val_loss: 0.6919 - val_accuracy: 0.5433\n",
            "Epoch 4/5\n",
            "23/23 [==============================] - 64s 3s/step - loss: 0.6920 - accuracy: 0.5390 - val_loss: 0.6917 - val_accuracy: 0.5433\n",
            "Epoch 5/5\n",
            "23/23 [==============================] - 48s 2s/step - loss: 0.6919 - accuracy: 0.5376 - val_loss: 0.6915 - val_accuracy: 0.5433\n",
            "4/4 [==============================] - 1s 227ms/step\n",
            "predicted_classes  [0.49776956 0.49723873 0.49193537 0.4905998  0.49247116 0.4930947\n",
            " 0.49491856 0.49325952 0.49519995 0.49324003 0.49582154 0.49154657\n",
            " 0.4916681  0.4955718  0.49669075 0.4927675  0.49454275 0.49336314\n",
            " 0.4960109  0.49603343 0.49231157 0.49702123 0.49533886 0.49335298\n",
            " 0.49395356 0.4974554  0.493245   0.49362502 0.49402782 0.49524942\n",
            " 0.49199152 0.49758923 0.4930947  0.4954945  0.49633157 0.49440208\n",
            " 0.49385488 0.49341983 0.4947563  0.49356732 0.492343   0.4947988\n",
            " 0.49185842 0.49705827 0.49371153 0.49445656 0.4924644  0.49490926\n",
            " 0.49445564 0.49341983 0.4937009  0.4921932  0.49263555 0.49392018\n",
            " 0.49376947 0.49630237 0.4961379  0.49934223 0.49503127 0.4957193\n",
            " 0.4931585  0.49503258 0.49710512 0.4928663  0.49493822 0.4917055\n",
            " 0.49287394 0.49205682 0.4955921  0.4955244  0.49538466 0.49486202\n",
            " 0.49178344 0.4954479  0.49374226 0.49362502 0.49500558 0.49727237\n",
            " 0.49398306 0.49139795 0.49420452 0.4938183  0.49425393 0.4976946\n",
            " 0.49616557 0.4943165  0.49021292 0.49300152 0.4938462  0.49326664\n",
            " 0.49522972 0.49153587 0.49306908 0.49679604 0.4948417  0.49377498\n",
            " 0.4947594  0.49463233 0.49661276 0.49647814 0.49356627 0.49754474\n",
            " 0.49310055 0.4908611  0.4939063  0.49407855]\n",
            "Matriz de Confusão:\n",
            "[[59  0]\n",
            " [47  0]]\n",
            "              precision    recall  f1-score   support\n",
            "\n",
            "           0       0.56      1.00      0.72        59\n",
            "           1       0.00      0.00      0.00        47\n",
            "\n",
            "    accuracy                           0.56       106\n",
            "   macro avg       0.28      0.50      0.36       106\n",
            "weighted avg       0.31      0.56      0.40       106\n",
            "\n"
          ]
        },
        {
          "output_type": "stream",
          "name": "stderr",
          "text": [
            "/usr/local/lib/python3.10/dist-packages/sklearn/metrics/_classification.py:1344: UndefinedMetricWarning: Precision and F-score are ill-defined and being set to 0.0 in labels with no predicted samples. Use `zero_division` parameter to control this behavior.\n",
            "  _warn_prf(average, modifier, msg_start, len(result))\n",
            "/usr/local/lib/python3.10/dist-packages/sklearn/metrics/_classification.py:1344: UndefinedMetricWarning: Precision and F-score are ill-defined and being set to 0.0 in labels with no predicted samples. Use `zero_division` parameter to control this behavior.\n",
            "  _warn_prf(average, modifier, msg_start, len(result))\n",
            "/usr/local/lib/python3.10/dist-packages/sklearn/metrics/_classification.py:1344: UndefinedMetricWarning: Precision and F-score are ill-defined and being set to 0.0 in labels with no predicted samples. Use `zero_division` parameter to control this behavior.\n",
            "  _warn_prf(average, modifier, msg_start, len(result))\n"
          ]
        }
      ]
    },
    {
      "cell_type": "code",
      "source": [
        "import matplotlib.pyplot as plt\n",
        "\n",
        "for i in range (len(learn_rate_history)):\n",
        "  plt.plot(learn_rate_history[i].history[\"loss\"],label=f'loss: {list_learn_rate[i]}')\n",
        "  plt.legend()\n",
        "\n"
      ],
      "metadata": {
        "id": "mGKM_-enk7aI",
        "colab": {
          "base_uri": "https://localhost:8080/",
          "height": 432
        },
        "outputId": "b0a5c376-bf8f-4f54-de6b-158375ea18ca"
      },
      "execution_count": null,
      "outputs": [
        {
          "output_type": "display_data",
          "data": {
            "text/plain": [
              "<Figure size 640x480 with 1 Axes>"
            ],
            "image/png": "[encoded data removed]"
          },
          "metadata": {}
        }
      ]
    },
    {
      "cell_type": "code",
      "source": [
        "for i in range (len(learn_rate_history)):\n",
        "  plt.plot(learn_rate_history[i].history[\"accuracy\"],label=f'accuracy: {list_learn_rate[i]}')\n",
        "  plt.legend()"
      ],
      "metadata": {
        "colab": {
          "base_uri": "https://localhost:8080/",
          "height": 430
        },
        "id": "e94miAIJ19ua",
        "outputId": "060f6d56-2911-4254-bc85-1e91c0567c27"
      },
      "execution_count": null,
      "outputs": [
        {
          "output_type": "display_data",
          "data": {
            "text/plain": [
              "<Figure size 640x480 with 1 Axes>"
            ],
            "image/png": "[encoded data removed]"
          },
          "metadata": {}
        }
      ]
    },
    {
      "cell_type": "code",
      "source": [
        "accuracies = [history.history[\"accuracy\"] for history in learn_rate_history]\n",
        "best_accuracy_index = max(range(len(accuracies)), key=lambda i: accuracies[i][-1])\n",
        "best_learn_rate_for_accuracy = list_learn_rate[best_accuracy_index]\n",
        "\n",
        "print(f\"Melhor taxa de aprendizado para a maior accuracy: {best_learn_rate_for_accuracy}\")\n"
      ],
      "metadata": {
        "colab": {
          "base_uri": "https://localhost:8080/"
        },
        "id": "XFX1zBuE3yzv",
        "outputId": "81381301-3f6c-4124-c80e-e9833745e904"
      },
      "execution_count": null,
      "outputs": [
        {
          "output_type": "stream",
          "name": "stdout",
          "text": [
            "Melhor taxa de aprendizado para a maior accuracy: 0.01\n"
          ]
        }
      ]
    },
    {
      "cell_type": "code",
      "source": [
        "history_batchsize = []\n",
        "history_test_batchsize = []\n",
        "best_accuracy = 0\n",
        "best_learn_rate_for_accuracy = 0.01\n",
        "best_batch_size = None\n",
        "contador = 0\n",
        "\n",
        "for batch_size in list_batch_size:\n",
        "  model_alexnet = create_alexnet()\n",
        "  model_alexnet.compile(optimizer=SGD(learning_rate=best_learn_rate_for_accuracy),\n",
        "                loss='binary_crossentropy',\n",
        "      metrics=['accuracy'])\n",
        "  history_batchsize.append(model_alexnet.fit(train_generator, batch_size=batch_size, steps_per_epoch=len(train_generator), epochs=5,\n",
        "      validation_steps=len(val_generator),\n",
        "      validation_data=val_generator))\n",
        "  history_test_batchsize = model_alexnet.evaluate(test_generator, verbose=5)\n",
        "\n",
        "  print(retornarAnalise(model_alexnet))\n"
      ],
      "metadata": {
        "colab": {
          "base_uri": "https://localhost:8080/"
        },
        "id": "Z-Ivq9Z64MWC",
        "outputId": "284f8357-6a1c-4486-b0ad-117db06abf28"
      },
      "execution_count": null,
      "outputs": [
        {
          "output_type": "stream",
          "name": "stdout",
          "text": [
            "Epoch 1/5\n",
            "23/23 [==============================] - 58s 2s/step - loss: 0.6886 - accuracy: 0.5501 - val_loss: 0.6792 - val_accuracy: 0.7308\n",
            "Epoch 2/5\n",
            "23/23 [==============================] - 50s 2s/step - loss: 0.6701 - accuracy: 0.6295 - val_loss: 0.6397 - val_accuracy: 0.7981\n",
            "Epoch 3/5\n",
            "23/23 [==============================] - 51s 2s/step - loss: 0.6412 - accuracy: 0.6699 - val_loss: 0.6308 - val_accuracy: 0.7404\n",
            "Epoch 4/5\n",
            "23/23 [==============================] - 49s 2s/step - loss: 0.6025 - accuracy: 0.7187 - val_loss: 0.5634 - val_accuracy: 0.7308\n",
            "Epoch 5/5\n",
            "23/23 [==============================] - 49s 2s/step - loss: 0.5400 - accuracy: 0.7465 - val_loss: 0.4604 - val_accuracy: 0.8077\n",
            "4/4 [==============================] - 1s 213ms/step\n",
            "predicted_classes  [0.30821437 0.19669354 0.7072524  0.5646602  0.91088426 0.81781226\n",
            " 0.6205606  0.57333314 0.23821463 0.6002675  0.7809189  0.6977451\n",
            " 0.29780775 0.3265786  0.50048953 0.18844293 0.64991057 0.2725033\n",
            " 0.18673816 0.86780035 0.91076595 0.9065204  0.17938569 0.75019294\n",
            " 0.6192057  0.37039283 0.8213296  0.72871304 0.3408441  0.37090668\n",
            " 0.33289048 0.48779157 0.13684878 0.528733   0.38641012 0.46382272\n",
            " 0.13770518 0.756462   0.70160407 0.33416003 0.8691378  0.37323257\n",
            " 0.80147135 0.91481465 0.19844905 0.52097297 0.30540192 0.84754926\n",
            " 0.8781764  0.5234357  0.90009093 0.4074078  0.79201347 0.26356032\n",
            " 0.84771323 0.753689   0.7402308  0.7955036  0.58682644 0.23323727\n",
            " 0.15320916 0.60214674 0.31837007 0.75886685 0.8889761  0.7902787\n",
            " 0.54319364 0.28231895 0.7439461  0.31044286 0.8638322  0.54127985\n",
            " 0.59011143 0.5880339  0.8293753  0.33289048 0.2664866  0.88272613\n",
            " 0.6582165  0.853819   0.24531591 0.55973405 0.717026   0.25506136\n",
            " 0.45379964 0.36425087 0.43229908 0.7970903  0.89169395 0.6064\n",
            " 0.21869436 0.8694478  0.1797188  0.30540192 0.84254694 0.85375506\n",
            " 0.8588252  0.21039212 0.36038077 0.18844292 0.40367737 0.36678135\n",
            " 0.8433238  0.59169924 0.7708088  0.14849292]\n",
            "Matriz de Confusão:\n",
            "[[24 35]\n",
            " [21 26]]\n",
            "              precision    recall  f1-score   support\n",
            "\n",
            "           0       0.53      0.41      0.46        59\n",
            "           1       0.43      0.55      0.48        47\n",
            "\n",
            "    accuracy                           0.47       106\n",
            "   macro avg       0.48      0.48      0.47       106\n",
            "weighted avg       0.49      0.47      0.47       106\n",
            "\n",
            "Epoch 1/5\n",
            "23/23 [==============================] - 51s 2s/step - loss: 0.6865 - accuracy: 0.5836 - val_loss: 0.6784 - val_accuracy: 0.5481\n",
            "Epoch 2/5\n",
            "23/23 [==============================] - 48s 2s/step - loss: 0.6584 - accuracy: 0.6685 - val_loss: 0.6173 - val_accuracy: 0.7933\n",
            "Epoch 3/5\n",
            "23/23 [==============================] - 48s 2s/step - loss: 0.6287 - accuracy: 0.6685 - val_loss: 0.7325 - val_accuracy: 0.4760\n",
            "Epoch 4/5\n",
            "23/23 [==============================] - 51s 2s/step - loss: 0.5817 - accuracy: 0.6978 - val_loss: 0.6082 - val_accuracy: 0.6250\n",
            "Epoch 5/5\n",
            "23/23 [==============================] - 52s 2s/step - loss: 0.5939 - accuracy: 0.7187 - val_loss: 0.4526 - val_accuracy: 0.8173\n",
            "4/4 [==============================] - 1s 290ms/step\n",
            "predicted_classes  [0.1829077  0.1418953  0.21541163 0.2291443  0.6246294  0.07654078\n",
            " 0.19353658 0.09291098 0.8457007  0.55643153 0.17076065 0.36695614\n",
            " 0.5183503  0.85524356 0.16702178 0.66893417 0.36922118 0.21119192\n",
            " 0.72922766 0.6959397  0.81989706 0.39192048 0.10697123 0.8634423\n",
            " 0.72325826 0.1029636  0.701368   0.85308254 0.7001466  0.8248787\n",
            " 0.4243441  0.3432315  0.42593148 0.25023904 0.05689897 0.15714511\n",
            " 0.18384476 0.74787086 0.45593312 0.73553634 0.3699073  0.70397943\n",
            " 0.2236557  0.4965244  0.4170891  0.8514484  0.8201555  0.52743995\n",
            " 0.37013566 0.09280277 0.09163933 0.4850489  0.25585946 0.89214104\n",
            " 0.2826826  0.5952764  0.44497368 0.17192902 0.08802127 0.6824095\n",
            " 0.2764163  0.23868443 0.2900804  0.3570406  0.18904407 0.7472186\n",
            " 0.08805287 0.13059817 0.41879508 0.14149307 0.09842863 0.28286964\n",
            " 0.12200872 0.63832146 0.16702178 0.16340919 0.42832553 0.6955368\n",
            " 0.44793683 0.7178027  0.89608556 0.07014149 0.9018751  0.82618904\n",
            " 0.5423406  0.81022805 0.16340919 0.73892957 0.22633092 0.0973585\n",
            " 0.74053353 0.14865756 0.7198541  0.8184103  0.43740416 0.5307052\n",
            " 0.08802133 0.7008082  0.14365442 0.22307807 0.83436525 0.06676453\n",
            " 0.12273383 0.33684915 0.86799073 0.20847374]\n",
            "Matriz de Confusão:\n",
            "[[36 23]\n",
            " [29 18]]\n",
            "              precision    recall  f1-score   support\n",
            "\n",
            "           0       0.55      0.61      0.58        59\n",
            "           1       0.44      0.38      0.41        47\n",
            "\n",
            "    accuracy                           0.51       106\n",
            "   macro avg       0.50      0.50      0.49       106\n",
            "weighted avg       0.50      0.51      0.50       106\n",
            "\n",
            "Epoch 1/5\n",
            "23/23 [==============================] - 50s 2s/step - loss: 0.6837 - accuracy: 0.5599 - val_loss: 0.6844 - val_accuracy: 0.4808\n",
            "Epoch 2/5\n",
            "23/23 [==============================] - 50s 2s/step - loss: 0.6699 - accuracy: 0.6295 - val_loss: 0.6375 - val_accuracy: 0.7452\n",
            "Epoch 3/5\n",
            "23/23 [==============================] - 52s 2s/step - loss: 0.6384 - accuracy: 0.6685 - val_loss: 0.5640 - val_accuracy: 0.7548\n",
            "Epoch 4/5\n",
            "23/23 [==============================] - 53s 2s/step - loss: 0.5793 - accuracy: 0.7214 - val_loss: 0.5043 - val_accuracy: 0.7933\n",
            "Epoch 5/5\n",
            "23/23 [==============================] - 49s 2s/step - loss: 0.5837 - accuracy: 0.7298 - val_loss: 0.5310 - val_accuracy: 0.7596\n",
            "4/4 [==============================] - 1s 228ms/step\n",
            "predicted_classes  [0.62735903 0.70209354 0.80676347 0.28077045 0.38353387 0.6881079\n",
            " 0.61204475 0.34209993 0.3834632  0.6832692  0.67613107 0.4883657\n",
            " 0.40970272 0.4969806  0.5799395  0.77829546 0.8027825  0.4191436\n",
            " 0.4237841  0.3691452  0.5343287  0.7376147  0.7047868  0.21659495\n",
            " 0.5693027  0.8228945  0.79524904 0.16433126 0.8004218  0.45445\n",
            " 0.6199735  0.23226315 0.6795589  0.42852786 0.7619899  0.5446676\n",
            " 0.6152457  0.29319817 0.5382886  0.5879698  0.35864216 0.69569683\n",
            " 0.66574967 0.64947915 0.40383044 0.5645372  0.76707655 0.57974964\n",
            " 0.7430869  0.7625156  0.29665115 0.498294   0.54202217 0.7542849\n",
            " 0.6428192  0.73976445 0.5059013  0.37821215 0.75472325 0.39325204\n",
            " 0.59752613 0.5086295  0.48784882 0.6952287  0.48283538 0.6795215\n",
            " 0.76264745 0.6864918  0.45933968 0.76171577 0.5985847  0.42031422\n",
            " 0.29665115 0.5952129  0.7329383  0.7465975  0.7329744  0.6965016\n",
            " 0.6658485  0.6952109  0.42016333 0.61917907 0.48283538 0.5970232\n",
            " 0.37350327 0.2907446  0.26545966 0.7212786  0.45556298 0.30452615\n",
            " 0.79914397 0.24975759 0.5929175  0.40832806 0.22953075 0.45486358\n",
            " 0.38197786 0.74814713 0.27394286 0.37896997 0.76229686 0.423785\n",
            " 0.58627945 0.44053346 0.7580795  0.7814816 ]\n",
            "Matriz de Confusão:\n",
            "[[21 38]\n",
            " [22 25]]\n",
            "              precision    recall  f1-score   support\n",
            "\n",
            "           0       0.49      0.36      0.41        59\n",
            "           1       0.40      0.53      0.45        47\n",
            "\n",
            "    accuracy                           0.43       106\n",
            "   macro avg       0.44      0.44      0.43       106\n",
            "weighted avg       0.45      0.43      0.43       106\n",
            "\n"
          ]
        }
      ]
    },
    {
      "cell_type": "code",
      "source": [
        "print(f\"Melhor batchsize para a maior accuracy: {best_batch_size}\")"
      ],
      "metadata": {
        "colab": {
          "base_uri": "https://localhost:8080/"
        },
        "id": "oV_cgxOk4ezf",
        "outputId": "3cc6b6b0-070c-4a60-8821-49b6519ce9fb"
      },
      "execution_count": null,
      "outputs": [
        {
          "output_type": "stream",
          "name": "stdout",
          "text": [
            "Melhor batchsize para a maior accuracy: 128\n"
          ]
        }
      ]
    },
    {
      "cell_type": "markdown",
      "source": [
        "## AlexNet parte 2"
      ],
      "metadata": {
        "id": "5PlSyEsplXje"
      }
    },
    {
      "cell_type": "code",
      "source": [
        "best_learn_rate_for_accuracy = 0.01\n",
        "best_batch_size = 32"
      ],
      "metadata": {
        "id": "KlPTo3XVlLaD"
      },
      "execution_count": null,
      "outputs": []
    },
    {
      "cell_type": "code",
      "source": [
        "epochs_history = []\n",
        "epochs_history_test = []\n",
        "\n",
        "best_accuracy = 0\n",
        "best_epochs = None\n",
        "contador = 0\n",
        "\n",
        "for epoch in list_epochs:\n",
        "  model_alexnet = create_alexnet()\n",
        "  model_alexnet.compile(optimizer=SGD(learning_rate=best_learn_rate_for_accuracy),\n",
        "                loss='binary_crossentropy',\n",
        "      metrics=['accuracy'])\n",
        "  epochs_history.append(model_alexnet.fit(train_generator, batch_size=best_batch_size, epochs=epoch, steps_per_epoch=len(train_generator),\n",
        "      validation_steps=len(val_generator),\n",
        "      validation_data=val_generator))\n",
        "  epochs_history_test = model_alexnet.evaluate(test_generator, verbose=5)\n",
        "\n",
        "  print(retornarAnalise(model_alexnet))"
      ],
      "metadata": {
        "colab": {
          "base_uri": "https://localhost:8080/"
        },
        "id": "SwXNL4Pu4M-J",
        "outputId": "b2c7bb3a-93d0-4931-9220-09f3d29bbe4a"
      },
      "execution_count": null,
      "outputs": [
        {
          "output_type": "stream",
          "name": "stdout",
          "text": [
            "Epoch 1/5\n",
            "23/23 [==============================] - 59s 2s/step - loss: 0.6853 - accuracy: 0.5543 - val_loss: 0.6765 - val_accuracy: 0.5481\n",
            "Epoch 2/5\n",
            "23/23 [==============================] - 49s 2s/step - loss: 0.6551 - accuracy: 0.6560 - val_loss: 0.6267 - val_accuracy: 0.6010\n",
            "Epoch 3/5\n",
            "23/23 [==============================] - 49s 2s/step - loss: 0.6416 - accuracy: 0.6407 - val_loss: 0.6498 - val_accuracy: 0.5673\n",
            "Epoch 4/5\n",
            "23/23 [==============================] - 49s 2s/step - loss: 0.6724 - accuracy: 0.5571 - val_loss: 0.6855 - val_accuracy: 0.4567\n",
            "Epoch 5/5\n",
            "23/23 [==============================] - 49s 2s/step - loss: 0.6698 - accuracy: 0.5571 - val_loss: 0.6516 - val_accuracy: 0.5673\n",
            "4/4 [==============================] - 1s 221ms/step\n",
            "predicted_classes  [0.5168616  0.49405754 0.583264   0.55050164 0.65024966 0.60214186\n",
            " 0.5422851  0.5489066  0.5169125  0.52811605 0.5795301  0.57962745\n",
            " 0.5062898  0.5037418  0.5302957  0.49151278 0.5734948  0.5223619\n",
            " 0.48324493 0.61350656 0.64820534 0.646552   0.48635858 0.5707268\n",
            " 0.5783269  0.5166958  0.6055629  0.5922045  0.50478023 0.5007014\n",
            " 0.5218965  0.49085143 0.482516   0.56197715 0.5385494  0.49970382\n",
            " 0.43178737 0.57394147 0.55513316 0.52820873 0.6265214  0.5242813\n",
            " 0.5837393  0.65224516 0.49051276 0.51092577 0.5186082  0.6112919\n",
            " 0.6283515  0.51358604 0.6322802  0.5031147  0.5865099  0.5077031\n",
            " 0.6151509  0.5704283  0.57402945 0.59843636 0.5383532  0.5212124\n",
            " 0.48872587 0.56257683 0.49252674 0.56178045 0.6307551  0.60646725\n",
            " 0.557119   0.53152627 0.55455893 0.51235735 0.6147805  0.5050947\n",
            " 0.5331777  0.5151008  0.59853405 0.5218965  0.5205571  0.63013947\n",
            " 0.54239994 0.61671185 0.4903287  0.54346913 0.5729317  0.5246262\n",
            " 0.49053323 0.5271489  0.52744573 0.58861834 0.6273293  0.557249\n",
            " 0.50861174 0.6131153  0.4948029  0.5186082  0.61578524 0.6132329\n",
            " 0.61198616 0.4889998  0.51145047 0.49151278 0.5291516  0.5089924\n",
            " 0.60236394 0.53780884 0.57115036 0.4842415 ]\n",
            "Matriz de Confusão:\n",
            "[[ 9 50]\n",
            " [ 8 39]]\n",
            "              precision    recall  f1-score   support\n",
            "\n",
            "           0       0.53      0.15      0.24        59\n",
            "           1       0.44      0.83      0.57        47\n",
            "\n",
            "    accuracy                           0.45       106\n",
            "   macro avg       0.48      0.49      0.41       106\n",
            "weighted avg       0.49      0.45      0.39       106\n",
            "\n",
            "Epoch 1/10\n",
            "23/23 [==============================] - 51s 2s/step - loss: 0.6863 - accuracy: 0.5905 - val_loss: 0.6710 - val_accuracy: 0.5529\n",
            "Epoch 2/10\n",
            "23/23 [==============================] - 50s 2s/step - loss: 0.6501 - accuracy: 0.6811 - val_loss: 0.6009 - val_accuracy: 0.7644\n",
            "Epoch 3/10\n",
            "23/23 [==============================] - 49s 2s/step - loss: 0.6354 - accuracy: 0.6727 - val_loss: 0.6265 - val_accuracy: 0.7933\n",
            "Epoch 4/10\n",
            "23/23 [==============================] - 49s 2s/step - loss: 0.5704 - accuracy: 0.7382 - val_loss: 0.4541 - val_accuracy: 0.8029\n",
            "Epoch 5/10\n",
            "23/23 [==============================] - 49s 2s/step - loss: 0.5744 - accuracy: 0.7493 - val_loss: 0.5587 - val_accuracy: 0.8221\n",
            "Epoch 6/10\n",
            "23/23 [==============================] - 49s 2s/step - loss: 0.4758 - accuracy: 0.7967 - val_loss: 0.4637 - val_accuracy: 0.7596\n",
            "Epoch 7/10\n",
            "23/23 [==============================] - 49s 2s/step - loss: 0.5237 - accuracy: 0.7827 - val_loss: 0.4273 - val_accuracy: 0.8125\n",
            "Epoch 8/10\n",
            "23/23 [==============================] - 49s 2s/step - loss: 0.4869 - accuracy: 0.7939 - val_loss: 0.4985 - val_accuracy: 0.7500\n",
            "Epoch 9/10\n",
            "23/23 [==============================] - 49s 2s/step - loss: 0.4695 - accuracy: 0.8008 - val_loss: 0.4179 - val_accuracy: 0.8317\n",
            "Epoch 10/10\n",
            "23/23 [==============================] - 52s 2s/step - loss: 0.4276 - accuracy: 0.8245 - val_loss: 0.5198 - val_accuracy: 0.7981\n",
            "4/4 [==============================] - 1s 227ms/step\n",
            "predicted_classes  [0.23107934 0.6381399  0.89558357 0.07011482 0.92271036 0.69461554\n",
            " 0.0655232  0.01841115 0.32374159 0.8422931  0.0869695  0.11168278\n",
            " 0.05824301 0.10466734 0.74106395 0.01927672 0.09901216 0.08661192\n",
            " 0.22896032 0.7752699  0.40376288 0.7812195  0.22432494 0.7230003\n",
            " 0.11150938 0.4805393  0.1677123  0.03399161 0.00901197 0.39531887\n",
            " 0.66965324 0.08503229 0.05164403 0.5824134  0.03032081 0.08518569\n",
            " 0.7007323  0.5009806  0.04009429 0.0209605  0.91048217 0.613257\n",
            " 0.6754403  0.01956642 0.017337   0.11690032 0.01892499 0.01216192\n",
            " 0.34186354 0.8579989  0.8108685  0.3391269  0.895781   0.2371847\n",
            " 0.0517984  0.5926162  0.27371433 0.872047   0.81240326 0.01916294\n",
            " 0.21915911 0.24949539 0.79021305 0.03399161 0.017337   0.01291337\n",
            " 0.03416897 0.40384287 0.63930964 0.0207897  0.03020404 0.6386123\n",
            " 0.12039512 0.44498026 0.04512074 0.09299026 0.05763128 0.77300096\n",
            " 0.0376655  0.8854648  0.15911092 0.7702831  0.8342157  0.02987983\n",
            " 0.14856982 0.4244682  0.0375962  0.08904402 0.0154828  0.6013081\n",
            " 0.20429952 0.05164403 0.07272913 0.59687024 0.4363471  0.02409384\n",
            " 0.24600284 0.73401487 0.21759273 0.06043143 0.18867154 0.05591412\n",
            " 0.02373214 0.68503696 0.06792653 0.280823  ]\n",
            "Matriz de Confusão:\n",
            "[[37 22]\n",
            " [36 11]]\n",
            "              precision    recall  f1-score   support\n",
            "\n",
            "           0       0.51      0.63      0.56        59\n",
            "           1       0.33      0.23      0.28        47\n",
            "\n",
            "    accuracy                           0.45       106\n",
            "   macro avg       0.42      0.43      0.42       106\n",
            "weighted avg       0.43      0.45      0.43       106\n",
            "\n",
            "Epoch 1/15\n",
            "23/23 [==============================] - 51s 2s/step - loss: 0.6875 - accuracy: 0.5794 - val_loss: 0.6804 - val_accuracy: 0.7067\n",
            "Epoch 2/15\n",
            "23/23 [==============================] - 49s 2s/step - loss: 0.6672 - accuracy: 0.6643 - val_loss: 0.6619 - val_accuracy: 0.5481\n",
            "Epoch 3/15\n",
            "23/23 [==============================] - 49s 2s/step - loss: 0.6411 - accuracy: 0.6546 - val_loss: 0.6135 - val_accuracy: 0.6635\n",
            "Epoch 4/15\n",
            "23/23 [==============================] - 49s 2s/step - loss: 0.6144 - accuracy: 0.6908 - val_loss: 0.7340 - val_accuracy: 0.5673\n",
            "Epoch 5/15\n",
            "23/23 [==============================] - 49s 2s/step - loss: 0.5710 - accuracy: 0.7521 - val_loss: 0.9392 - val_accuracy: 0.5529\n",
            "Epoch 6/15\n",
            "23/23 [==============================] - 49s 2s/step - loss: 0.5464 - accuracy: 0.7591 - val_loss: 0.4319 - val_accuracy: 0.7981\n",
            "Epoch 7/15\n",
            "23/23 [==============================] - 49s 2s/step - loss: 0.5176 - accuracy: 0.7674 - val_loss: 0.5004 - val_accuracy: 0.8029\n",
            "Epoch 8/15\n",
            "23/23 [==============================] - 48s 2s/step - loss: 0.4836 - accuracy: 0.7827 - val_loss: 0.4833 - val_accuracy: 0.8125\n",
            "Epoch 9/15\n",
            "23/23 [==============================] - 49s 2s/step - loss: 0.4672 - accuracy: 0.7813 - val_loss: 0.4059 - val_accuracy: 0.8221\n",
            "Epoch 10/15\n",
            "23/23 [==============================] - 49s 2s/step - loss: 0.4598 - accuracy: 0.8106 - val_loss: 0.3948 - val_accuracy: 0.8317\n",
            "Epoch 11/15\n",
            "23/23 [==============================] - 48s 2s/step - loss: 0.4269 - accuracy: 0.7953 - val_loss: 0.4433 - val_accuracy: 0.8125\n",
            "Epoch 12/15\n",
            "23/23 [==============================] - 49s 2s/step - loss: 0.4235 - accuracy: 0.8189 - val_loss: 0.3847 - val_accuracy: 0.8365\n",
            "Epoch 13/15\n",
            "23/23 [==============================] - 48s 2s/step - loss: 0.4383 - accuracy: 0.8050 - val_loss: 0.4036 - val_accuracy: 0.8413\n",
            "Epoch 14/15\n",
            "23/23 [==============================] - 49s 2s/step - loss: 0.4219 - accuracy: 0.8175 - val_loss: 0.3877 - val_accuracy: 0.8462\n",
            "Epoch 15/15\n",
            "23/23 [==============================] - 48s 2s/step - loss: 0.4004 - accuracy: 0.8231 - val_loss: 0.3762 - val_accuracy: 0.8365\n",
            "4/4 [==============================] - 1s 231ms/step\n",
            "predicted_classes  [0.71088845 0.85391027 0.81164604 0.8616344  0.26493946 0.93376046\n",
            " 0.3842467  0.9767443  0.965185   0.6875916  0.40390638 0.9553193\n",
            " 0.98158044 0.0284618  0.14448339 0.27461234 0.5072091  0.06511296\n",
            " 0.90431815 0.35184553 0.08267506 0.98859346 0.1827461  0.4653177\n",
            " 0.9881803  0.06768707 0.03900097 0.96817446 0.90474564 0.12703224\n",
            " 0.08142712 0.62044895 0.9451764  0.07554587 0.95578974 0.85253423\n",
            " 0.07610754 0.5799698  0.20677185 0.8714799  0.68238115 0.07052213\n",
            " 0.15476657 0.8050955  0.9399456  0.15476657 0.3727111  0.613847\n",
            " 0.9575163  0.11193885 0.14153174 0.068584   0.94872063 0.68263376\n",
            " 0.05900522 0.21292458 0.95816195 0.6953818  0.25440395 0.03722578\n",
            " 0.07148166 0.87612665 0.708148   0.8068658  0.11700235 0.10653971\n",
            " 0.26493946 0.4032642  0.39156634 0.9516783  0.6917388  0.975267\n",
            " 0.8054323  0.7806771  0.93747514 0.4129251  0.06768707 0.5356603\n",
            " 0.22587828 0.33571523 0.08394355 0.33158478 0.984463   0.92071325\n",
            " 0.10855131 0.47465187 0.12871902 0.81025183 0.7242675  0.54306614\n",
            " 0.91090953 0.20716798 0.14095053 0.43031213 0.9767114  0.9778897\n",
            " 0.9370906  0.88328743 0.09581012 0.4535838  0.67039496 0.08294123\n",
            " 0.15032281 0.03538276 0.05152349 0.2214814 ]\n",
            "Matriz de Confusão:\n",
            "[[28 31]\n",
            " [26 21]]\n",
            "              precision    recall  f1-score   support\n",
            "\n",
            "           0       0.52      0.47      0.50        59\n",
            "           1       0.40      0.45      0.42        47\n",
            "\n",
            "    accuracy                           0.46       106\n",
            "   macro avg       0.46      0.46      0.46       106\n",
            "weighted avg       0.47      0.46      0.46       106\n",
            "\n"
          ]
        }
      ]
    },
    {
      "cell_type": "code",
      "source": [
        "best_learn_rate_for_accuracy = 0.01\n",
        "best_batch_size = 32\n",
        "best_epochs = 15"
      ],
      "metadata": {
        "id": "tKUfu8IZTt0Y"
      },
      "execution_count": null,
      "outputs": []
    },
    {
      "cell_type": "code",
      "source": [
        "dropout_history = []\n",
        "dropout_history_test = []\n",
        "\n",
        "model_alexnet = create_alexnet(dropout = True)\n",
        "model_alexnet.compile(optimizer=SGD(learning_rate=best_learn_rate_for_accuracy),\n",
        "                loss='binary_crossentropy',\n",
        "      metrics=['accuracy'])\n",
        "dropout_history.append(model_alexnet.fit(train_generator, batch_size=best_batch_size, epochs=best_epochs, steps_per_epoch=len(train_generator),\n",
        "      validation_steps=len(val_generator),\n",
        "      validation_data=val_generator))\n",
        "dropout_history_test = model_alexnet.evaluate(test_generator, verbose=5)\n",
        "\n",
        "print(retornarAnalise(model_alexnet))"
      ],
      "metadata": {
        "id": "Pfj3V24tlIvM",
        "colab": {
          "base_uri": "https://localhost:8080/"
        },
        "outputId": "0a563339-4f61-4f60-bd44-813cad6cd698"
      },
      "execution_count": null,
      "outputs": [
        {
          "output_type": "stream",
          "name": "stdout",
          "text": [
            "Epoch 1/15\n",
            "23/23 [==============================] - 58s 2s/step - loss: 0.6898 - accuracy: 0.5432 - val_loss: 0.6798 - val_accuracy: 0.5481\n",
            "Epoch 2/15\n",
            "23/23 [==============================] - 54s 2s/step - loss: 0.6778 - accuracy: 0.5905 - val_loss: 0.6582 - val_accuracy: 0.5481\n",
            "Epoch 3/15\n",
            "23/23 [==============================] - 49s 2s/step - loss: 0.6397 - accuracy: 0.6755 - val_loss: 0.5772 - val_accuracy: 0.7740\n",
            "Epoch 4/15\n",
            "23/23 [==============================] - 49s 2s/step - loss: 0.6342 - accuracy: 0.6727 - val_loss: 0.5239 - val_accuracy: 0.7981\n",
            "Epoch 5/15\n",
            "23/23 [==============================] - 49s 2s/step - loss: 0.5878 - accuracy: 0.7214 - val_loss: 0.4975 - val_accuracy: 0.8173\n",
            "Epoch 6/15\n",
            "23/23 [==============================] - 49s 2s/step - loss: 0.5256 - accuracy: 0.7786 - val_loss: 0.5256 - val_accuracy: 0.7644\n",
            "Epoch 7/15\n",
            "23/23 [==============================] - 48s 2s/step - loss: 0.5060 - accuracy: 0.7688 - val_loss: 0.4147 - val_accuracy: 0.8269\n",
            "Epoch 8/15\n",
            "23/23 [==============================] - 49s 2s/step - loss: 0.4687 - accuracy: 0.7911 - val_loss: 0.4294 - val_accuracy: 0.8125\n",
            "Epoch 9/15\n",
            "23/23 [==============================] - 49s 2s/step - loss: 0.4711 - accuracy: 0.7813 - val_loss: 0.7262 - val_accuracy: 0.7019\n",
            "Epoch 10/15\n",
            "23/23 [==============================] - 50s 2s/step - loss: 0.5067 - accuracy: 0.7786 - val_loss: 0.3859 - val_accuracy: 0.8221\n",
            "Epoch 11/15\n",
            "23/23 [==============================] - 48s 2s/step - loss: 0.4494 - accuracy: 0.8092 - val_loss: 0.3990 - val_accuracy: 0.8269\n",
            "Epoch 12/15\n",
            "23/23 [==============================] - 49s 2s/step - loss: 0.4207 - accuracy: 0.8273 - val_loss: 0.4332 - val_accuracy: 0.8077\n",
            "Epoch 13/15\n",
            "23/23 [==============================] - 49s 2s/step - loss: 0.4442 - accuracy: 0.8078 - val_loss: 0.3931 - val_accuracy: 0.8365\n",
            "Epoch 14/15\n",
            "23/23 [==============================] - 49s 2s/step - loss: 0.4234 - accuracy: 0.8343 - val_loss: 0.4815 - val_accuracy: 0.7788\n",
            "Epoch 15/15\n",
            "23/23 [==============================] - 49s 2s/step - loss: 0.4054 - accuracy: 0.8287 - val_loss: 0.4105 - val_accuracy: 0.8077\n",
            "4/4 [==============================] - 1s 260ms/step\n",
            "predicted_classes  [0.9758897  0.06709596 0.96828675 0.98627245 0.9763777  0.05482972\n",
            " 0.97785497 0.03231497 0.29977542 0.5653953  0.9600167  0.9678084\n",
            " 0.94650126 0.22232036 0.9920542  0.21702243 0.17300116 0.8269693\n",
            " 0.06709596 0.43364456 0.07044314 0.8718145  0.25403592 0.33650005\n",
            " 0.87494457 0.98771507 0.0820272  0.51469564 0.93650305 0.26144102\n",
            " 0.24930945 0.11596869 0.42999917 0.17203577 0.67937493 0.42539427\n",
            " 0.86696136 0.8932949  0.9563695  0.9685449  0.03005682 0.705913\n",
            " 0.05471222 0.09075002 0.5785718  0.9796622  0.5121941  0.58677065\n",
            " 0.81942    0.02529081 0.95812637 0.42539427 0.07414664 0.1868155\n",
            " 0.12870476 0.9604023  0.07333411 0.98498225 0.23262541 0.540071\n",
            " 0.4420631  0.07557043 0.17102553 0.7823375  0.2256846  0.04065597\n",
            " 0.07682283 0.06938034 0.99153113 0.8267642  0.9837764  0.8581505\n",
            " 0.93980867 0.0998826  0.7170147  0.9794063  0.8600047  0.87363076\n",
            " 0.8253376  0.9111885  0.9932181  0.0245317  0.974883   0.8857725\n",
            " 0.77478355 0.1623141  0.14649561 0.05278475 0.12414259 0.5389293\n",
            " 0.26144102 0.9916549  0.99119216 0.765939   0.4482174  0.9563905\n",
            " 0.6894826  0.46546778 0.96941155 0.81325173 0.9339246  0.47229493\n",
            " 0.97366446 0.46030504 0.9737067  0.24611615]\n",
            "Matriz de Confusão:\n",
            "[[29 30]\n",
            " [19 28]]\n",
            "              precision    recall  f1-score   support\n",
            "\n",
            "           0       0.60      0.49      0.54        59\n",
            "           1       0.48      0.60      0.53        47\n",
            "\n",
            "    accuracy                           0.54       106\n",
            "   macro avg       0.54      0.54      0.54       106\n",
            "weighted avg       0.55      0.54      0.54       106\n",
            "\n"
          ]
        }
      ]
    },
    {
      "cell_type": "code",
      "source": [
        "batch_normalization_history = []\n",
        "batch_normalization_history_test = []\n",
        "\n",
        "model_alexnet = create_alexnet(dropout = True, batch_normalization = True)\n",
        "model_alexnet.compile(optimizer=SGD(learning_rate=best_learn_rate_for_accuracy),\n",
        "                loss='binary_crossentropy',\n",
        "      metrics=['accuracy'])\n",
        "batch_normalization_history.append(model_alexnet.fit(train_generator, batch_size=best_batch_size, epochs=best_epochs, steps_per_epoch=len(train_generator),\n",
        "      validation_steps=len(val_generator),\n",
        "      validation_data=val_generator))\n",
        "batch_normalization_history_test = model_alexnet.evaluate(test_generator, verbose=5)\n",
        "\n",
        "print(retornarAnalise(model_alexnet))"
      ],
      "metadata": {
        "colab": {
          "base_uri": "https://localhost:8080/"
        },
        "id": "zN77axTKZuVA",
        "outputId": "3abbfb75-4f84-4924-ec99-de9dab84e539"
      },
      "execution_count": null,
      "outputs": [
        {
          "output_type": "stream",
          "name": "stdout",
          "text": [
            "Epoch 1/15\n",
            "23/23 [==============================] - 56s 2s/step - loss: 0.4732 - accuracy: 0.7994 - val_loss: 0.7238 - val_accuracy: 0.5481\n",
            "Epoch 2/15\n",
            "23/23 [==============================] - 53s 2s/step - loss: 0.3485 - accuracy: 0.8677 - val_loss: 0.9555 - val_accuracy: 0.5481\n",
            "Epoch 3/15\n",
            "23/23 [==============================] - 52s 2s/step - loss: 0.3469 - accuracy: 0.8593 - val_loss: 1.3129 - val_accuracy: 0.5481\n",
            "Epoch 4/15\n",
            "23/23 [==============================] - 53s 2s/step - loss: 0.2345 - accuracy: 0.9109 - val_loss: 1.5323 - val_accuracy: 0.5481\n",
            "Epoch 5/15\n",
            "23/23 [==============================] - 54s 2s/step - loss: 0.2195 - accuracy: 0.9150 - val_loss: 1.6565 - val_accuracy: 0.5481\n",
            "Epoch 6/15\n",
            "23/23 [==============================] - 50s 2s/step - loss: 0.1999 - accuracy: 0.9234 - val_loss: 1.5978 - val_accuracy: 0.5481\n",
            "Epoch 7/15\n",
            "23/23 [==============================] - 52s 2s/step - loss: 0.1797 - accuracy: 0.9318 - val_loss: 2.2482 - val_accuracy: 0.5481\n",
            "Epoch 8/15\n",
            "23/23 [==============================] - 52s 2s/step - loss: 0.1540 - accuracy: 0.9359 - val_loss: 2.0560 - val_accuracy: 0.5481\n",
            "Epoch 9/15\n",
            "23/23 [==============================] - 52s 2s/step - loss: 0.1924 - accuracy: 0.9345 - val_loss: 2.2222 - val_accuracy: 0.5481\n",
            "Epoch 10/15\n",
            "23/23 [==============================] - 49s 2s/step - loss: 0.1441 - accuracy: 0.9540 - val_loss: 1.4438 - val_accuracy: 0.5673\n",
            "Epoch 11/15\n",
            "23/23 [==============================] - 52s 2s/step - loss: 0.1345 - accuracy: 0.9401 - val_loss: 0.4251 - val_accuracy: 0.8462\n",
            "Epoch 12/15\n",
            "23/23 [==============================] - 53s 2s/step - loss: 0.1375 - accuracy: 0.9485 - val_loss: 0.3880 - val_accuracy: 0.8750\n",
            "Epoch 13/15\n",
            "23/23 [==============================] - 53s 2s/step - loss: 0.1313 - accuracy: 0.9471 - val_loss: 0.4719 - val_accuracy: 0.8317\n",
            "Epoch 14/15\n",
            "23/23 [==============================] - 52s 2s/step - loss: 0.1223 - accuracy: 0.9526 - val_loss: 1.4156 - val_accuracy: 0.6298\n",
            "Epoch 15/15\n",
            "23/23 [==============================] - 52s 2s/step - loss: 0.1440 - accuracy: 0.9457 - val_loss: 0.3444 - val_accuracy: 0.8894\n",
            "4/4 [==============================] - 2s 286ms/step\n",
            "predicted_classes  [9.87115264e-01 5.17889798e-01 1.36434838e-01 1.18447961e-02\n",
            " 6.10443294e-01 2.11164914e-02 3.36438343e-02 1.51812276e-02\n",
            " 7.98088834e-02 2.13498428e-01 9.03346956e-01 1.44706089e-02\n",
            " 1.16718188e-02 7.70537257e-01 6.24267850e-05 9.96386290e-01\n",
            " 3.66420113e-02 9.94718552e-01 9.92797673e-01 9.73679006e-01\n",
            " 9.99815524e-01 4.55223769e-02 5.01907468e-01 9.99775231e-01\n",
            " 5.05107224e-01 6.04708795e-04 9.99471724e-01 2.12692484e-01\n",
            " 9.45574999e-01 1.16718188e-02 9.80566144e-01 8.68048668e-01\n",
            " 5.14034741e-03 2.97184531e-02 1.07634068e-03 1.51018123e-03\n",
            " 4.41366713e-03 1.43816387e-02 9.83213902e-01 8.22188035e-02\n",
            " 4.46128339e-01 9.99424815e-01 8.08456659e-01 2.84430245e-03\n",
            " 6.97849452e-01 3.49739240e-03 3.72781162e-03 9.97870088e-01\n",
            " 9.86129463e-01 1.97327882e-02 1.39309214e-02 9.92659628e-01\n",
            " 8.10378138e-03 2.27238815e-02 4.15335484e-02 8.88552424e-03\n",
            " 9.99943376e-01 9.81146574e-01 8.91618490e-01 1.18229883e-02\n",
            " 1.72058237e-03 1.94775604e-03 2.58348091e-03 9.83329583e-03\n",
            " 2.00075731e-01 1.74022704e-01 8.97927761e-01 9.60573316e-01\n",
            " 3.05504585e-03 7.88302422e-01 9.23334479e-01 3.12498868e-01\n",
            " 1.04084484e-01 4.05307673e-03 2.62253708e-03 9.17219743e-02\n",
            " 9.68727887e-01 9.95929539e-01 1.51018123e-03 7.94181321e-03\n",
            " 1.94329638e-02 9.95032549e-01 9.68502402e-01 2.78521270e-01\n",
            " 3.96649949e-02 4.39060805e-03 7.64286472e-03 9.98173237e-01\n",
            " 4.39060805e-03 9.96381104e-01 9.37738456e-03 9.99922752e-01\n",
            " 8.78660619e-01 4.13612783e-01 1.61113427e-03 9.40101163e-04\n",
            " 9.92960751e-01 4.21831161e-02 1.75069068e-02 2.09126189e-01\n",
            " 4.14414069e-04 1.55551091e-01 2.22890899e-01 5.03816060e-04\n",
            " 9.91357788e-02 3.33343446e-01]\n",
            "Matriz de Confusão:\n",
            "[[32 27]\n",
            " [34 13]]\n",
            "              precision    recall  f1-score   support\n",
            "\n",
            "           0       0.48      0.54      0.51        59\n",
            "           1       0.33      0.28      0.30        47\n",
            "\n",
            "    accuracy                           0.42       106\n",
            "   macro avg       0.40      0.41      0.41       106\n",
            "weighted avg       0.41      0.42      0.42       106\n",
            "\n"
          ]
        }
      ]
    },
    {
      "cell_type": "markdown",
      "source": [
        "# Testes VGG16"
      ],
      "metadata": {
        "id": "0gMo5Y0ZcHiF"
      }
    },
    {
      "cell_type": "markdown",
      "source": [
        "## VGG16 Parte 1"
      ],
      "metadata": {
        "id": "QA-J6sp92hm0"
      }
    },
    {
      "cell_type": "code",
      "source": [
        "learn_rate_history = []\n",
        "learn_rate_history_test = []\n",
        "for learn_rate in list_learn_rate:\n",
        "  model_vgg16 = create_vgg16()\n",
        "  model_vgg16.compile(optimizer=SGD(learning_rate=learn_rate),\n",
        "                loss='binary_crossentropy',\n",
        "      metrics=['accuracy'])\n",
        "  learn_rate_history.append(model_vgg16.fit(train_generator, epochs=5, steps_per_epoch=len(train_generator),\n",
        "      validation_steps=len(val_generator),\n",
        "      validation_data=val_generator))\n",
        "  learn_rate_history_test = model_vgg16.evaluate(test_generator, verbose=5)\n",
        "\n",
        "  print(retornarAnalise(model_vgg16))"
      ],
      "metadata": {
        "id": "1_fWZH8lcHiH",
        "colab": {
          "base_uri": "https://localhost:8080/"
        },
        "outputId": "79d7fa40-f717-4ee4-aac1-74b3a0f129e9"
      },
      "execution_count": null,
      "outputs": [
        {
          "output_type": "stream",
          "name": "stdout",
          "text": [
            "Epoch 1/5\n",
            "23/23 [==============================] - 62s 2s/step - loss: 0.6927 - accuracy: 0.5418 - val_loss: 0.6919 - val_accuracy: 0.5481\n",
            "Epoch 2/5\n",
            "23/23 [==============================] - 49s 2s/step - loss: 0.6918 - accuracy: 0.5446 - val_loss: 0.6911 - val_accuracy: 0.5481\n",
            "Epoch 3/5\n",
            "23/23 [==============================] - 49s 2s/step - loss: 0.6910 - accuracy: 0.5446 - val_loss: 0.6905 - val_accuracy: 0.5481\n",
            "Epoch 4/5\n",
            "23/23 [==============================] - 49s 2s/step - loss: 0.6906 - accuracy: 0.5446 - val_loss: 0.6899 - val_accuracy: 0.5481\n",
            "Epoch 5/5\n",
            "23/23 [==============================] - 48s 2s/step - loss: 0.6901 - accuracy: 0.5446 - val_loss: 0.6895 - val_accuracy: 0.5481\n",
            "4/4 [==============================] - 1s 232ms/step\n",
            "predicted_classes  [0.47675434 0.47635362 0.4771628  0.47741917 0.47727206 0.4771235\n",
            " 0.47740346 0.47755823 0.47687733 0.47771454 0.47798455 0.47713485\n",
            " 0.47734854 0.47724262 0.47714353 0.4763106  0.47736603 0.4769335\n",
            " 0.47699177 0.47791004 0.4776237  0.4779136  0.4767293  0.47780538\n",
            " 0.4771919  0.47723055 0.47694185 0.47708705 0.47787607 0.47771236\n",
            " 0.47668537 0.4779083  0.47624165 0.47721112 0.47728825 0.47794637\n",
            " 0.47671127 0.47721297 0.47769168 0.4773218  0.47746167 0.47763994\n",
            " 0.47742602 0.47788075 0.4766229  0.4775599  0.47653165 0.47730225\n",
            " 0.4776224  0.47748548 0.4776708  0.47791082 0.4778939  0.47673175\n",
            " 0.4770778  0.47771645 0.47752118 0.477155   0.4776961  0.4765868\n",
            " 0.47651553 0.47736982 0.47752032 0.47789872 0.47800133 0.47719473\n",
            " 0.47692457 0.47687647 0.47761837 0.47645518 0.47770616 0.47780836\n",
            " 0.47786126 0.47780052 0.4781022  0.47668537 0.47679797 0.47788358\n",
            " 0.47756478 0.47765002 0.47724175 0.4772232  0.47734278 0.47669816\n",
            " 0.478036   0.47672263 0.4768756  0.47778288 0.47732538 0.47751397\n",
            " 0.47686335 0.4780225  0.4766214  0.47653165 0.47703767 0.47756213\n",
            " 0.47769952 0.47699475 0.4769822  0.4763106  0.4771354  0.47791192\n",
            " 0.47782826 0.47767973 0.47778103 0.47645387]\n",
            "Matriz de Confusão:\n",
            "[[59  0]\n",
            " [47  0]]\n",
            "              precision    recall  f1-score   support\n",
            "\n",
            "           0       0.56      1.00      0.72        59\n",
            "           1       0.00      0.00      0.00        47\n",
            "\n",
            "    accuracy                           0.56       106\n",
            "   macro avg       0.28      0.50      0.36       106\n",
            "weighted avg       0.31      0.56      0.40       106\n",
            "\n"
          ]
        },
        {
          "output_type": "stream",
          "name": "stderr",
          "text": [
            "/usr/local/lib/python3.10/dist-packages/sklearn/metrics/_classification.py:1344: UndefinedMetricWarning: Precision and F-score are ill-defined and being set to 0.0 in labels with no predicted samples. Use `zero_division` parameter to control this behavior.\n",
            "  _warn_prf(average, modifier, msg_start, len(result))\n",
            "/usr/local/lib/python3.10/dist-packages/sklearn/metrics/_classification.py:1344: UndefinedMetricWarning: Precision and F-score are ill-defined and being set to 0.0 in labels with no predicted samples. Use `zero_division` parameter to control this behavior.\n",
            "  _warn_prf(average, modifier, msg_start, len(result))\n",
            "/usr/local/lib/python3.10/dist-packages/sklearn/metrics/_classification.py:1344: UndefinedMetricWarning: Precision and F-score are ill-defined and being set to 0.0 in labels with no predicted samples. Use `zero_division` parameter to control this behavior.\n",
            "  _warn_prf(average, modifier, msg_start, len(result))\n"
          ]
        },
        {
          "output_type": "stream",
          "name": "stdout",
          "text": [
            "Epoch 1/5\n",
            "23/23 [==============================] - 53s 2s/step - loss: 0.6931 - accuracy: 0.5348 - val_loss: 0.6930 - val_accuracy: 0.5481\n",
            "Epoch 2/5\n",
            "23/23 [==============================] - 64s 3s/step - loss: 0.6929 - accuracy: 0.5446 - val_loss: 0.6929 - val_accuracy: 0.5481\n",
            "Epoch 3/5\n",
            "23/23 [==============================] - 49s 2s/step - loss: 0.6928 - accuracy: 0.5446 - val_loss: 0.6927 - val_accuracy: 0.5481\n",
            "Epoch 4/5\n",
            "23/23 [==============================] - 50s 2s/step - loss: 0.6927 - accuracy: 0.5446 - val_loss: 0.6926 - val_accuracy: 0.5481\n",
            "Epoch 5/5\n",
            "23/23 [==============================] - 48s 2s/step - loss: 0.6926 - accuracy: 0.5446 - val_loss: 0.6925 - val_accuracy: 0.5481\n",
            "4/4 [==============================] - 1s 230ms/step\n",
            "predicted_classes  [0.49670127 0.49665764 0.4966116  0.49681288 0.49675086 0.4965412\n",
            " 0.4967824  0.49659583 0.4968508  0.49672568 0.49677333 0.49673182\n",
            " 0.4967551  0.4968136  0.49653974 0.4967444  0.49700645 0.49669862\n",
            " 0.49677157 0.49683982 0.4970129  0.49693802 0.49670726 0.49699774\n",
            " 0.49690905 0.49663523 0.49672744 0.496926   0.49690095 0.4969167\n",
            " 0.49682066 0.4967848  0.49672538 0.49679053 0.49659607 0.496583\n",
            " 0.49678877 0.49681258 0.4970353  0.49678382 0.49678686 0.49692735\n",
            " 0.4967029  0.49676368 0.4968183  0.49697778 0.49670568 0.49676794\n",
            " 0.49685514 0.4965039  0.49662066 0.49680558 0.49674767 0.49685743\n",
            " 0.49666938 0.49691483 0.496829   0.49653146 0.49646875 0.49698636\n",
            " 0.49662992 0.49688068 0.49671158 0.49698496 0.49692896 0.49685702\n",
            " 0.4965112  0.49655133 0.49689594 0.49673238 0.49668792 0.4966243\n",
            " 0.4966731  0.4968167  0.49653974 0.49667403 0.4967485  0.49689764\n",
            " 0.49674144 0.49668297 0.49686685 0.49653012 0.4967604  0.4969645\n",
            " 0.4967705  0.49688557 0.49667403 0.4968887  0.49670205 0.49647662\n",
            " 0.49694285 0.49666458 0.49674475 0.49681348 0.49677044 0.49685532\n",
            " 0.49646875 0.4967538  0.49661183 0.496949   0.49691677 0.4964259\n",
            " 0.49662098 0.49676323 0.4967909  0.4966317 ]\n",
            "Matriz de Confusão:\n",
            "[[59  0]\n",
            " [47  0]]\n",
            "              precision    recall  f1-score   support\n",
            "\n",
            "           0       0.56      1.00      0.72        59\n",
            "           1       0.00      0.00      0.00        47\n",
            "\n",
            "    accuracy                           0.56       106\n",
            "   macro avg       0.28      0.50      0.36       106\n",
            "weighted avg       0.31      0.56      0.40       106\n",
            "\n"
          ]
        },
        {
          "output_type": "stream",
          "name": "stderr",
          "text": [
            "/usr/local/lib/python3.10/dist-packages/sklearn/metrics/_classification.py:1344: UndefinedMetricWarning: Precision and F-score are ill-defined and being set to 0.0 in labels with no predicted samples. Use `zero_division` parameter to control this behavior.\n",
            "  _warn_prf(average, modifier, msg_start, len(result))\n",
            "/usr/local/lib/python3.10/dist-packages/sklearn/metrics/_classification.py:1344: UndefinedMetricWarning: Precision and F-score are ill-defined and being set to 0.0 in labels with no predicted samples. Use `zero_division` parameter to control this behavior.\n",
            "  _warn_prf(average, modifier, msg_start, len(result))\n",
            "/usr/local/lib/python3.10/dist-packages/sklearn/metrics/_classification.py:1344: UndefinedMetricWarning: Precision and F-score are ill-defined and being set to 0.0 in labels with no predicted samples. Use `zero_division` parameter to control this behavior.\n",
            "  _warn_prf(average, modifier, msg_start, len(result))\n"
          ]
        },
        {
          "output_type": "stream",
          "name": "stdout",
          "text": [
            "Epoch 1/5\n",
            "23/23 [==============================] - 51s 2s/step - loss: 0.6931 - accuracy: 0.5446 - val_loss: 0.6931 - val_accuracy: 0.5481\n",
            "Epoch 2/5\n",
            "23/23 [==============================] - 49s 2s/step - loss: 0.6931 - accuracy: 0.5446 - val_loss: 0.6930 - val_accuracy: 0.5481\n",
            "Epoch 3/5\n",
            "23/23 [==============================] - 49s 2s/step - loss: 0.6931 - accuracy: 0.5446 - val_loss: 0.6930 - val_accuracy: 0.5481\n",
            "Epoch 4/5\n",
            "23/23 [==============================] - 49s 2s/step - loss: 0.6930 - accuracy: 0.5446 - val_loss: 0.6930 - val_accuracy: 0.5481\n",
            "Epoch 5/5\n",
            "23/23 [==============================] - 48s 2s/step - loss: 0.6930 - accuracy: 0.5446 - val_loss: 0.6930 - val_accuracy: 0.5481\n",
            "4/4 [==============================] - 1s 219ms/step\n",
            "predicted_classes  [0.499297   0.49908942 0.49916634 0.499162   0.49912143 0.49926466\n",
            " 0.49922615 0.49904862 0.49921358 0.49925765 0.49917495 0.4991948\n",
            " 0.4991487  0.499388   0.49927393 0.49905813 0.4992438  0.4992299\n",
            " 0.4990771  0.49934474 0.49947685 0.49917132 0.49921682 0.49912944\n",
            " 0.49914232 0.4990517  0.49917868 0.49914092 0.49908346 0.49924013\n",
            " 0.4992377  0.49908584 0.49916753 0.49925426 0.49909833 0.4991547\n",
            " 0.4992296  0.499187   0.49931133 0.49918267 0.49914852 0.49920318\n",
            " 0.49928457 0.4992696  0.49919835 0.49925396 0.49916014 0.49933937\n",
            " 0.4991159  0.4992633  0.4991539  0.4994751  0.49917233 0.4990768\n",
            " 0.49907428 0.49922135 0.49928552 0.49919668 0.499108   0.4991073\n",
            " 0.499216   0.49912933 0.49914578 0.49913687 0.4991142  0.4992759\n",
            " 0.49922016 0.4992214  0.49943653 0.4991414  0.49926817 0.49914044\n",
            " 0.4991539  0.49923816 0.49918747 0.4992344  0.49908188 0.499168\n",
            " 0.49931377 0.49910122 0.49927187 0.4990972  0.4991142  0.49925286\n",
            " 0.4991776  0.49915642 0.49922657 0.49918765 0.49920493 0.49909577\n",
            " 0.49916247 0.4992589  0.4992427  0.49929395 0.49911323 0.49926937\n",
            " 0.4990239  0.49922633 0.49911544 0.49934307 0.4992293  0.4990771\n",
            " 0.49928102 0.4992614  0.49924666 0.49914202]\n",
            "Matriz de Confusão:\n",
            "[[59  0]\n",
            " [47  0]]\n",
            "              precision    recall  f1-score   support\n",
            "\n",
            "           0       0.56      1.00      0.72        59\n",
            "           1       0.00      0.00      0.00        47\n",
            "\n",
            "    accuracy                           0.56       106\n",
            "   macro avg       0.28      0.50      0.36       106\n",
            "weighted avg       0.31      0.56      0.40       106\n",
            "\n"
          ]
        },
        {
          "output_type": "stream",
          "name": "stderr",
          "text": [
            "/usr/local/lib/python3.10/dist-packages/sklearn/metrics/_classification.py:1344: UndefinedMetricWarning: Precision and F-score are ill-defined and being set to 0.0 in labels with no predicted samples. Use `zero_division` parameter to control this behavior.\n",
            "  _warn_prf(average, modifier, msg_start, len(result))\n",
            "/usr/local/lib/python3.10/dist-packages/sklearn/metrics/_classification.py:1344: UndefinedMetricWarning: Precision and F-score are ill-defined and being set to 0.0 in labels with no predicted samples. Use `zero_division` parameter to control this behavior.\n",
            "  _warn_prf(average, modifier, msg_start, len(result))\n",
            "/usr/local/lib/python3.10/dist-packages/sklearn/metrics/_classification.py:1344: UndefinedMetricWarning: Precision and F-score are ill-defined and being set to 0.0 in labels with no predicted samples. Use `zero_division` parameter to control this behavior.\n",
            "  _warn_prf(average, modifier, msg_start, len(result))\n"
          ]
        }
      ]
    },
    {
      "cell_type": "code",
      "source": [
        "history = []\n",
        "history_test = []\n",
        "model_vgg16 = create_vgg16()\n",
        "model_vgg16.compile(optimizer=SGD(learning_rate=0.1),\n",
        "                loss='binary_crossentropy',\n",
        "      metrics=['accuracy'])\n",
        "history.append(model_vgg16.fit(train_generator, epochs=5, steps_per_epoch=len(train_generator),\n",
        "      validation_steps=len(val_generator),\n",
        "      validation_data=val_generator))\n",
        "history_test = model_vgg16.evaluate(test_generator, verbose=5)\n",
        "\n",
        "print(retornarAnalise(model_vgg16))"
      ],
      "metadata": {
        "colab": {
          "base_uri": "https://localhost:8080/"
        },
        "id": "_T74Z2LZhpMZ",
        "outputId": "c98e3fc9-a037-43df-f4bc-63eac08d2a47"
      },
      "execution_count": null,
      "outputs": [
        {
          "output_type": "stream",
          "name": "stdout",
          "text": [
            "Epoch 1/5\n",
            "23/23 [==============================] - 52s 2s/step - loss: 0.6914 - accuracy: 0.5446 - val_loss: 0.6885 - val_accuracy: 0.5481\n",
            "Epoch 2/5\n",
            "23/23 [==============================] - 50s 2s/step - loss: 0.6887 - accuracy: 0.5446 - val_loss: 0.6883 - val_accuracy: 0.5481\n",
            "Epoch 3/5\n",
            "23/23 [==============================] - 49s 2s/step - loss: 0.6885 - accuracy: 0.5446 - val_loss: 0.6777 - val_accuracy: 0.5481\n",
            "Epoch 4/5\n",
            "23/23 [==============================] - 49s 2s/step - loss: 0.6881 - accuracy: 0.5446 - val_loss: 0.6821 - val_accuracy: 0.5481\n",
            "Epoch 5/5\n",
            "23/23 [==============================] - 49s 2s/step - loss: 0.6864 - accuracy: 0.5446 - val_loss: 0.6899 - val_accuracy: 0.5481\n",
            "4/4 [==============================] - 1s 230ms/step\n",
            "predicted_classes  [0.48657623 0.48627666 0.48650736 0.4853996  0.4861472  0.48609942\n",
            " 0.48743352 0.48606732 0.4796493  0.4855094  0.48735863 0.48567995\n",
            " 0.48657623 0.48629674 0.48553813 0.48711395 0.4865607  0.4854674\n",
            " 0.4862943  0.48678792 0.48711538 0.48645213 0.48747453 0.48636955\n",
            " 0.48637506 0.4852623  0.48677325 0.4862982  0.48668703 0.48635194\n",
            " 0.48769763 0.48719367 0.48784274 0.48269913 0.48512354 0.48758006\n",
            " 0.486674   0.48742628 0.48633942 0.4864184  0.48620096 0.48526302\n",
            " 0.48711458 0.4850951  0.4858072  0.4869483  0.48624212 0.48688084\n",
            " 0.48603588 0.48771986 0.48684442 0.48304835 0.4840751  0.48647836\n",
            " 0.4832298  0.4862943  0.48628715 0.48480415 0.48622972 0.4842521\n",
            " 0.4880925  0.48816013 0.4854669  0.48444876 0.48378682 0.48120588\n",
            " 0.48714852 0.48710218 0.48556426 0.4862367  0.48375413 0.4850297\n",
            " 0.48743844 0.487611   0.48593497 0.4855892  0.486342   0.48699445\n",
            " 0.4850814  0.48574442 0.48810273 0.48572227 0.48650736 0.4862298\n",
            " 0.4845177  0.48590693 0.48590946 0.48642302 0.4869906  0.48761076\n",
            " 0.48488078 0.4879316  0.4867493  0.48541027 0.48574764 0.48676476\n",
            " 0.4864347  0.4872496  0.48591307 0.48668525 0.4877152  0.48266613\n",
            " 0.4849341  0.48703828 0.48718044 0.48462883]\n",
            "Matriz de Confusão:\n",
            "[[59  0]\n",
            " [47  0]]\n",
            "              precision    recall  f1-score   support\n",
            "\n",
            "           0       0.56      1.00      0.72        59\n",
            "           1       0.00      0.00      0.00        47\n",
            "\n",
            "    accuracy                           0.56       106\n",
            "   macro avg       0.28      0.50      0.36       106\n",
            "weighted avg       0.31      0.56      0.40       106\n",
            "\n"
          ]
        },
        {
          "output_type": "stream",
          "name": "stderr",
          "text": [
            "/usr/local/lib/python3.10/dist-packages/sklearn/metrics/_classification.py:1344: UndefinedMetricWarning: Precision and F-score are ill-defined and being set to 0.0 in labels with no predicted samples. Use `zero_division` parameter to control this behavior.\n",
            "  _warn_prf(average, modifier, msg_start, len(result))\n",
            "/usr/local/lib/python3.10/dist-packages/sklearn/metrics/_classification.py:1344: UndefinedMetricWarning: Precision and F-score are ill-defined and being set to 0.0 in labels with no predicted samples. Use `zero_division` parameter to control this behavior.\n",
            "  _warn_prf(average, modifier, msg_start, len(result))\n",
            "/usr/local/lib/python3.10/dist-packages/sklearn/metrics/_classification.py:1344: UndefinedMetricWarning: Precision and F-score are ill-defined and being set to 0.0 in labels with no predicted samples. Use `zero_division` parameter to control this behavior.\n",
            "  _warn_prf(average, modifier, msg_start, len(result))\n"
          ]
        }
      ]
    },
    {
      "cell_type": "code",
      "source": [
        "history = []\n",
        "history_test = []\n",
        "model_vgg16 = create_vgg16(batch_normalization = True, dropout = True)\n",
        "model_vgg16.compile(optimizer=SGD(learning_rate=0.1),\n",
        "                loss='binary_crossentropy',\n",
        "      metrics=['accuracy'])\n",
        "history.append(model_vgg16.fit(train_generator, epochs=10, steps_per_epoch=len(train_generator),\n",
        "      validation_steps=len(val_generator),\n",
        "      validation_data=val_generator))\n",
        "history_test = model_vgg16.evaluate(test_generator, verbose=5)\n",
        "\n",
        "print(retornarAnalise(model_vgg16))"
      ],
      "metadata": {
        "colab": {
          "base_uri": "https://localhost:8080/"
        },
        "id": "ChAVgfucoL4Q",
        "outputId": "02524e49-e87f-44d3-b1c3-b39b6e718fc7"
      },
      "execution_count": null,
      "outputs": [
        {
          "output_type": "stream",
          "name": "stdout",
          "text": [
            "Epoch 1/10\n",
            "23/23 [==============================] - 62s 2s/step - loss: 2.9872 - accuracy: 0.5780 - val_loss: 152.2575 - val_accuracy: 0.5433\n",
            "Epoch 2/10\n",
            "23/23 [==============================] - 51s 2s/step - loss: 2.7148 - accuracy: 0.6142 - val_loss: 2906.6108 - val_accuracy: 0.4712\n",
            "Epoch 3/10\n",
            "23/23 [==============================] - 49s 2s/step - loss: 1.6250 - accuracy: 0.6838 - val_loss: 300.8581 - val_accuracy: 0.4904\n",
            "Epoch 4/10\n",
            "23/23 [==============================] - 49s 2s/step - loss: 3.8138 - accuracy: 0.5877 - val_loss: 452.2959 - val_accuracy: 0.4519\n",
            "Epoch 5/10\n",
            "23/23 [==============================] - 49s 2s/step - loss: 1.5636 - accuracy: 0.7284 - val_loss: 213.0786 - val_accuracy: 0.5337\n",
            "Epoch 6/10\n",
            "23/23 [==============================] - 49s 2s/step - loss: 1.3770 - accuracy: 0.7618 - val_loss: 156.7262 - val_accuracy: 0.5433\n",
            "Epoch 7/10\n",
            "23/23 [==============================] - 49s 2s/step - loss: 1.7960 - accuracy: 0.7479 - val_loss: 295.1166 - val_accuracy: 0.6587\n",
            "Epoch 8/10\n",
            "23/23 [==============================] - 49s 2s/step - loss: 1.6136 - accuracy: 0.7953 - val_loss: 5.6471 - val_accuracy: 0.5240\n",
            "Epoch 9/10\n",
            "23/23 [==============================] - 53s 2s/step - loss: 3.0077 - accuracy: 0.6253 - val_loss: 3171.2354 - val_accuracy: 0.5481\n",
            "Epoch 10/10\n",
            "23/23 [==============================] - 49s 2s/step - loss: 1.8856 - accuracy: 0.7618 - val_loss: 1521.8062 - val_accuracy: 0.5481\n",
            "4/4 [==============================] - 1s 228ms/step\n",
            "predicted_classes  [0.0000000e+00 0.0000000e+00 0.0000000e+00 0.0000000e+00 0.0000000e+00\n",
            " 0.0000000e+00 0.0000000e+00 0.0000000e+00 0.0000000e+00 0.0000000e+00\n",
            " 0.0000000e+00 0.0000000e+00 0.0000000e+00 0.0000000e+00 0.0000000e+00\n",
            " 0.0000000e+00 0.0000000e+00 0.0000000e+00 0.0000000e+00 0.0000000e+00\n",
            " 0.0000000e+00 0.0000000e+00 0.0000000e+00 0.0000000e+00 0.0000000e+00\n",
            " 0.0000000e+00 0.0000000e+00 0.0000000e+00 0.0000000e+00 0.0000000e+00\n",
            " 0.0000000e+00 0.0000000e+00 0.0000000e+00 0.0000000e+00 0.0000000e+00\n",
            " 0.0000000e+00 0.0000000e+00 0.0000000e+00 0.0000000e+00 0.0000000e+00\n",
            " 0.0000000e+00 0.0000000e+00 0.0000000e+00 0.0000000e+00 0.0000000e+00\n",
            " 0.0000000e+00 0.0000000e+00 0.0000000e+00 0.0000000e+00 0.0000000e+00\n",
            " 0.0000000e+00 0.0000000e+00 0.0000000e+00 0.0000000e+00 0.0000000e+00\n",
            " 0.0000000e+00 0.0000000e+00 0.0000000e+00 0.0000000e+00 0.0000000e+00\n",
            " 0.0000000e+00 0.0000000e+00 0.0000000e+00 0.0000000e+00 0.0000000e+00\n",
            " 0.0000000e+00 0.0000000e+00 0.0000000e+00 0.0000000e+00 0.0000000e+00\n",
            " 0.0000000e+00 0.0000000e+00 0.0000000e+00 0.0000000e+00 0.0000000e+00\n",
            " 0.0000000e+00 0.0000000e+00 0.0000000e+00 0.0000000e+00 0.0000000e+00\n",
            " 1.6040542e-22 0.0000000e+00 0.0000000e+00 0.0000000e+00 0.0000000e+00\n",
            " 0.0000000e+00 0.0000000e+00 0.0000000e+00 0.0000000e+00 0.0000000e+00\n",
            " 0.0000000e+00 0.0000000e+00 0.0000000e+00 0.0000000e+00 0.0000000e+00\n",
            " 0.0000000e+00 0.0000000e+00 0.0000000e+00 0.0000000e+00 0.0000000e+00\n",
            " 0.0000000e+00 0.0000000e+00 0.0000000e+00 0.0000000e+00 0.0000000e+00\n",
            " 4.6823055e-19]\n",
            "Matriz de Confusão:\n",
            "[[59  0]\n",
            " [47  0]]\n",
            "              precision    recall  f1-score   support\n",
            "\n",
            "           0       0.56      1.00      0.72        59\n",
            "           1       0.00      0.00      0.00        47\n",
            "\n",
            "    accuracy                           0.56       106\n",
            "   macro avg       0.28      0.50      0.36       106\n",
            "weighted avg       0.31      0.56      0.40       106\n",
            "\n"
          ]
        },
        {
          "output_type": "stream",
          "name": "stderr",
          "text": [
            "/usr/local/lib/python3.10/dist-packages/sklearn/metrics/_classification.py:1344: UndefinedMetricWarning: Precision and F-score are ill-defined and being set to 0.0 in labels with no predicted samples. Use `zero_division` parameter to control this behavior.\n",
            "  _warn_prf(average, modifier, msg_start, len(result))\n",
            "/usr/local/lib/python3.10/dist-packages/sklearn/metrics/_classification.py:1344: UndefinedMetricWarning: Precision and F-score are ill-defined and being set to 0.0 in labels with no predicted samples. Use `zero_division` parameter to control this behavior.\n",
            "  _warn_prf(average, modifier, msg_start, len(result))\n",
            "/usr/local/lib/python3.10/dist-packages/sklearn/metrics/_classification.py:1344: UndefinedMetricWarning: Precision and F-score are ill-defined and being set to 0.0 in labels with no predicted samples. Use `zero_division` parameter to control this behavior.\n",
            "  _warn_prf(average, modifier, msg_start, len(result))\n"
          ]
        }
      ]
    },
    {
      "cell_type": "code",
      "source": [
        "model_vgg16 = create_vgg16()\n",
        "model_vgg16.compile(optimizer=SGD(learning_rate=0.1),\n",
        "                loss='binary_crossentropy',\n",
        "      metrics=['accuracy'])\n",
        "learn_rate_history.append(model_vgg16.fit(train_generator, epochs=5, steps_per_epoch=len(train_generator),\n",
        "      validation_steps=len(val_generator),\n",
        "      validation_data=val_generator))\n",
        "learn_rate_history_test = model_vgg16.evaluate(test_generator, verbose=5)\n",
        "\n",
        "print(retornarAnalise(model_vgg16))"
      ],
      "metadata": {
        "id": "uJdmCPr9kfgm"
      },
      "execution_count": null,
      "outputs": []
    }
  ]
}