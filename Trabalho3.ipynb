{
  "nbformat": 4,
  "nbformat_minor": 0,
  "metadata": {
    "colab": {
      "provenance": [],
      "gpuType": "T4",
      "collapsed_sections": [
        "I_ALN_9KdgkB",
        "2xSNiXnMdlXR",
        "fD55TVJBbp-R",
        "0gMo5Y0ZcHiF"
      ]
    },
    "kernelspec": {
      "name": "python3",
      "display_name": "Python 3"
    },
    "language_info": {
      "name": "python"
    },
    "accelerator": "GPU"
  },
  "cells": [
    {
      "cell_type": "code",
      "source": [
        "!pip install numba"
      ],
      "metadata": {
        "colab": {
          "base_uri": "https://localhost:8080/"
        },
        "id": "dwcoN3VK2VDm",
        "outputId": "bb2e4da1-c86b-4728-f9c9-ae0a18f63261"
      },
      "execution_count": null,
      "outputs": [
        {
          "output_type": "stream",
          "name": "stdout",
          "text": [
            "Requirement already satisfied: numba in /usr/local/lib/python3.10/dist-packages (0.58.1)\n",
            "Requirement already satisfied: llvmlite<0.42,>=0.41.0dev0 in /usr/local/lib/python3.10/dist-packages (from numba) (0.41.1)\n",
            "Requirement already satisfied: numpy<1.27,>=1.22 in /usr/local/lib/python3.10/dist-packages (from numba) (1.23.5)\n"
          ]
        }
      ]
    },
    {
      "cell_type": "markdown",
      "source": [
        "# Iniciar"
      ],
      "metadata": {
        "id": "sAA8iXrO5x-b"
      }
    },
    {
      "cell_type": "markdown",
      "source": [
        "## Importações"
      ],
      "metadata": {
        "id": "I_ALN_9KdgkB"
      }
    },
    {
      "cell_type": "code",
      "source": [
        "import tensorflow as tf\n",
        "from tensorflow import keras\n",
        "from tensorflow.keras.models import Sequential\n",
        "from tensorflow.keras.layers import Dense, Conv2D, Flatten, Dropout, MaxPooling2D, Resizing\n",
        "from tensorflow.keras.optimizers import SGD\n",
        "from tensorflow.keras.utils import to_categorical\n",
        "from sklearn.metrics import classification_report, confusion_matrix\n",
        "import numpy as np\n",
        "import matplotlib.pyplot as plt\n",
        "\n",
        "from numba import cuda\n",
        "\n",
        "import gc\n",
        "\n",
        "from PIL import Image"
      ],
      "metadata": {
        "id": "TSphE4Vx34hi"
      },
      "execution_count": null,
      "outputs": []
    },
    {
      "cell_type": "code",
      "source": [
        "print(tf.__version__)\n",
        "print(tf.config.list_physical_devices('GPU'))\n"
      ],
      "metadata": {
        "id": "ja9fZzSzi1pX",
        "outputId": "f0066e8b-7d88-4a5c-ff6a-220a87369493",
        "colab": {
          "base_uri": "https://localhost:8080/"
        }
      },
      "execution_count": null,
      "outputs": [
        {
          "output_type": "stream",
          "name": "stdout",
          "text": [
            "2.14.0\n",
            "[PhysicalDevice(name='/physical_device:GPU:0', device_type='GPU')]\n"
          ]
        }
      ]
    },
    {
      "cell_type": "code",
      "source": [
        "from tensorflow.compat.v1 import ConfigProto\n",
        "from tensorflow.compat.v1 import InteractiveSession\n",
        "config = ConfigProto()\n",
        "config.gpu_options.allow_growth = True\n",
        "session = InteractiveSession(config=config)"
      ],
      "metadata": {
        "id": "hCshffYomTYZ"
      },
      "execution_count": null,
      "outputs": []
    },
    {
      "cell_type": "code",
      "source": [
        "cifar10 = keras.datasets.cifar10\n",
        "\n",
        "(train_images, train_labels), (test_images, test_labels) = cifar10.load_data()"
      ],
      "metadata": {
        "id": "NbyvGiwL9PMs"
      },
      "execution_count": null,
      "outputs": []
    },
    {
      "cell_type": "code",
      "source": [
        "#train_images = tf.image.resize(train_images, (224, 224))\n",
        "#test_images = tf.image.resize(test_images, (224, 224))\n",
        "#train_images = train_images [:300]\n",
        "#train_labels = train_labels [:300]\n",
        "#test_images = test_images [:300]\n",
        "#test_labels = test_labels [:300]"
      ],
      "metadata": {
        "id": "_lMlw5hNmfaH"
      },
      "execution_count": null,
      "outputs": []
    },
    {
      "cell_type": "code",
      "source": [
        "len(train_images)"
      ],
      "metadata": {
        "colab": {
          "base_uri": "https://localhost:8080/"
        },
        "id": "cSA29tbCjj_i",
        "outputId": "5fb01060-1f6d-4744-8836-c4b91a872de9"
      },
      "execution_count": null,
      "outputs": [
        {
          "output_type": "execute_result",
          "data": {
            "text/plain": [
              "50000"
            ]
          },
          "metadata": {},
          "execution_count": 6
        }
      ]
    },
    {
      "cell_type": "code",
      "source": [
        "len(test_images)"
      ],
      "metadata": {
        "colab": {
          "base_uri": "https://localhost:8080/"
        },
        "id": "OLmn0KAWjmAA",
        "outputId": "f2d6f79f-a681-4e26-9721-379834b26ef5"
      },
      "execution_count": null,
      "outputs": [
        {
          "output_type": "execute_result",
          "data": {
            "text/plain": [
              "10000"
            ]
          },
          "metadata": {},
          "execution_count": 7
        }
      ]
    },
    {
      "cell_type": "code",
      "source": [
        "train_images = train_images / 255.0\n",
        "test_images = test_images / 255.0\n",
        "\n",
        "#train_labels = to_categorical(train_labels)\n",
        "#test_labels = to_categorical(test_labels)"
      ],
      "metadata": {
        "id": "59W-AhRtjniB"
      },
      "execution_count": null,
      "outputs": []
    },
    {
      "cell_type": "code",
      "source": [
        "list_learn_rate = [1e-2,1e-3,1e-4]\n",
        "list_batch_size = [128,256,512]\n",
        "list_epochs = [10,20,30]"
      ],
      "metadata": {
        "id": "4YMp1rAzwbSO"
      },
      "execution_count": null,
      "outputs": []
    },
    {
      "cell_type": "markdown",
      "source": [],
      "metadata": {
        "id": "S-k4bUoodpOc"
      }
    },
    {
      "cell_type": "markdown",
      "source": [
        "## Definindo modelos"
      ],
      "metadata": {
        "id": "2xSNiXnMdlXR"
      }
    },
    {
      "cell_type": "markdown",
      "source": [
        "AlexNet https://pt.d2l.ai/chapter_convolutional-modern/alexnet.html"
      ],
      "metadata": {
        "id": "MIf4wSLJgFqP"
      }
    },
    {
      "cell_type": "code",
      "source": [
        "def create_alexnet(num_classes=10, batch_normalization = False, dropout = False):\n",
        "  # Definindo a arquitetura da AlexNet\n",
        "  model = tf.keras.models.Sequential()\n",
        "\n",
        "  # Adicionando as camadas convolucionais\n",
        "  model.add(tf.keras.layers.Resizing(224, 224, input_shape=(None, None, 3)))\n",
        "  model.add(tf.keras.layers.Conv2D(96, (11, 11), strides=(4, 4), padding='valid'))\n",
        "  if batch_normalization:\n",
        "    model.add(tf.keras.layers.BatchNormalization())\n",
        "  model.add(tf.keras.layers.Activation('relu'))\n",
        "  model.add(tf.keras.layers.MaxPooling2D(pool_size=(3, 3), strides=(2, 2)))\n",
        "\n",
        "  model.add(tf.keras.layers.Conv2D(256, (5, 5), padding='same'))\n",
        "  if batch_normalization:\n",
        "    model.add(tf.keras.layers.BatchNormalization())\n",
        "  model.add(tf.keras.layers.Activation('relu'))\n",
        "  model.add(tf.keras.layers.MaxPooling2D(pool_size=(3, 3), strides=(2, 2)))\n",
        "\n",
        "  model.add(tf.keras.layers.Conv2D(384, (3, 3), padding='same'))\n",
        "  if batch_normalization:\n",
        "    model.add(tf.keras.layers.BatchNormalization())\n",
        "  model.add(tf.keras.layers.Activation('relu'))\n",
        "\n",
        "  model.add(tf.keras.layers.Conv2D(384, (3, 3), padding='same'))\n",
        "  if batch_normalization:\n",
        "    model.add(tf.keras.layers.BatchNormalization())\n",
        "  model.add(tf.keras.layers.Activation('relu'))\n",
        "\n",
        "  model.add(tf.keras.layers.Conv2D(256, (3, 3), padding='same'))\n",
        "  if batch_normalization:\n",
        "    model.add(tf.keras.layers.BatchNormalization())\n",
        "  model.add(tf.keras.layers.Activation('relu'))\n",
        "  model.add(tf.keras.layers.MaxPooling2D(pool_size=(3, 3), strides=(2, 2)))\n",
        "\n",
        "  # Flatten para as camadas totalmente conectadas\n",
        "  model.add(tf.keras.layers.Flatten())\n",
        "\n",
        "  # Adicionando as camadas totalmente conectadas\n",
        "  model.add(tf.keras.layers.Dense(4096))\n",
        "  if batch_normalization:\n",
        "    model.add(tf.keras.layers.BatchNormalization())\n",
        "  model.add(tf.keras.layers.Activation('relu'))\n",
        "  if dropout:\n",
        "    model.add(tf.keras.layers.Dropout(0.5))\n",
        "\n",
        "  model.add(tf.keras.layers.Dense(4096))\n",
        "  if batch_normalization:\n",
        "    model.add(tf.keras.layers.BatchNormalization())\n",
        "  model.add(tf.keras.layers.Activation('relu'))\n",
        "  if dropout:\n",
        "    model.add(tf.keras.layers.Dropout(0.5))\n",
        "  model.add(tf.keras.layers.Dense(num_classes, activation='softmax'))\n",
        "  return model  # Número de classes para classificação\n",
        "  \"\"\"\n",
        "    model_alex = Sequential([\n",
        "        Resizing(224, 224, input_shape=(None, None, 3)),  # Add Resizing layer\n",
        "        Conv2D(96, (11, 11), strides=(4, 4), activation='relu'),\n",
        "        MaxPooling2D((3, 3), strides=(2, 2)),\n",
        "        Conv2D(256, (5, 5), padding='same', activation='relu'),\n",
        "        MaxPooling2D(pool_size=(3, 3), strides=(2, 2)),\n",
        "        Conv2D(384, (3, 3), padding='same', activation='relu'),\n",
        "        Conv2D(384, (3, 3), padding='same', activation='relu'),\n",
        "        Conv2D(256, (3, 3), padding='same', activation='relu'),\n",
        "        MaxPooling2D((3, 3), strides=(2, 2)),\n",
        "        Flatten(),\n",
        "        Dense(4096, activation='relu'),\n",
        "        Dense(4096, activation='relu'),\n",
        "        Dense(nodes, activation='softmax')\n",
        "    ])\n",
        "      return model_alex\n",
        "    \"\"\"\n",
        "\n",
        "\n",
        "\n"
      ],
      "metadata": {
        "id": "HX-6qr3of_Y2"
      },
      "execution_count": null,
      "outputs": []
    },
    {
      "cell_type": "code",
      "source": [
        "#cifar_model_alexnet = create_alexnet(10)\n",
        "#cifar_model_alexnet.summary()"
      ],
      "metadata": {
        "id": "mFGM3lACf48_"
      },
      "execution_count": null,
      "outputs": []
    },
    {
      "cell_type": "code",
      "source": [
        "def create_vgg16(num_classes=10, batch_normalization = False, dropout = False):\n",
        "    model = tf.keras.models.Sequential()\n",
        "\n",
        "    model.add(tf.keras.layers.Resizing(224, 224, input_shape=(None, None, 3)))\n",
        "    model.add(tf.keras.layers.Conv2D(64, (3, 3), padding='same'))\n",
        "    if batch_normalization:\n",
        "      model.add(tf.keras.layers.BatchNormalization())\n",
        "    model.add(tf.keras.layers.Activation('relu'))\n",
        "    model.add(tf.keras.layers.Conv2D(64, (3, 3), padding='same'))\n",
        "    if batch_normalization:\n",
        "      model.add(tf.keras.layers.BatchNormalization())\n",
        "    model.add(tf.keras.layers.Activation('relu'))\n",
        "    model.add(tf.keras.layers.MaxPooling2D((2, 2), strides=(2, 2)))\n",
        "\n",
        "    # Bloco 2\n",
        "    model.add(tf.keras.layers.Conv2D(128, (3, 3), padding='same'))\n",
        "    if batch_normalization:\n",
        "      model.add(tf.keras.layers.BatchNormalization())\n",
        "    model.add(tf.keras.layers.Activation('relu'))\n",
        "    model.add(tf.keras.layers.Conv2D(128, (3, 3), padding='same'))\n",
        "    if batch_normalization:\n",
        "      model.add(tf.keras.layers.BatchNormalization())\n",
        "    model.add(tf.keras.layers.Activation('relu'))\n",
        "    model.add(tf.keras.layers.MaxPooling2D((2, 2), strides=(2, 2)))\n",
        "\n",
        "    # Bloco 3\n",
        "    model.add(tf.keras.layers.Conv2D(256, (3, 3), padding='same'))\n",
        "    if batch_normalization:\n",
        "      model.add(tf.keras.layers.BatchNormalization())\n",
        "    model.add(tf.keras.layers.Activation('relu'))\n",
        "    model.add(tf.keras.layers.Conv2D(256, (3, 3), padding='same'))\n",
        "    if batch_normalization:\n",
        "      model.add(tf.keras.layers.BatchNormalization())\n",
        "    model.add(tf.keras.layers.Activation('relu'))\n",
        "    model.add(tf.keras.layers.Conv2D(256, (3, 3), padding='same'))\n",
        "    if batch_normalization:\n",
        "      model.add(tf.keras.layers.BatchNormalization())\n",
        "    model.add(tf.keras.layers.Activation('relu'))\n",
        "    model.add(tf.keras.layers.MaxPooling2D((2, 2), strides=(2, 2)))\n",
        "\n",
        "    # Bloco 4\n",
        "    model.add(tf.keras.layers.Conv2D(512, (3, 3), padding='same'))\n",
        "    if batch_normalization:\n",
        "      model.add(tf.keras.layers.BatchNormalization())\n",
        "    model.add(tf.keras.layers.Activation('relu'))\n",
        "    model.add(tf.keras.layers.Conv2D(512, (3, 3), padding='same'))\n",
        "    if batch_normalization:\n",
        "      model.add(tf.keras.layers.BatchNormalization())\n",
        "    model.add(tf.keras.layers.Activation('relu'))\n",
        "    model.add(tf.keras.layers.Conv2D(512, (3, 3), padding='same'))\n",
        "    if batch_normalization:\n",
        "      model.add(tf.keras.layers.BatchNormalization())\n",
        "    model.add(tf.keras.layers.Activation('relu'))\n",
        "    model.add(tf.keras.layers.MaxPooling2D((2, 2), strides=(2, 2)))\n",
        "\n",
        "    # Bloco 5\n",
        "    model.add(tf.keras.layers.Conv2D(512, (3, 3), padding='same'))\n",
        "    if batch_normalization:\n",
        "      model.add(tf.keras.layers.BatchNormalization())\n",
        "    model.add(tf.keras.layers.Activation('relu'))\n",
        "    model.add(tf.keras.layers.Conv2D(512, (3, 3), padding='same'))\n",
        "    if batch_normalization:\n",
        "      model.add(tf.keras.layers.BatchNormalization())\n",
        "    model.add(tf.keras.layers.Activation('relu'))\n",
        "    model.add(tf.keras.layers.Conv2D(512, (3, 3), padding='same'))\n",
        "    if batch_normalization:\n",
        "      model.add(tf.keras.layers.BatchNormalization())\n",
        "    model.add(tf.keras.layers.Activation('relu'))\n",
        "    model.add(tf.keras.layers.MaxPooling2D((2, 2), strides=(2, 2)))\n",
        "\n",
        "    # Camada densa\n",
        "    model.add(tf.keras.layers.Flatten())\n",
        "    model.add(tf.keras.layers.Dense(4096))\n",
        "    if batch_normalization:\n",
        "      model.add(tf.keras.layers.BatchNormalization())\n",
        "    model.add(tf.keras.layers.Activation('relu'))\n",
        "    if dropout:\n",
        "      model.add(tf.keras.layers.Dropout(0.5))\n",
        "    model.add(tf.keras.layers.Dense(4096))\n",
        "    if batch_normalization:\n",
        "      model.add(tf.keras.layers.BatchNormalization())\n",
        "    model.add(tf.keras.layers.Activation('relu'))\n",
        "    if dropout:\n",
        "      model.add(tf.keras.layers.Dropout(0.5))\n",
        "    model.add(tf.keras.layers.Dense(num_classes, activation='softmax'))\n",
        "\n",
        "    return model"
      ],
      "metadata": {
        "id": "EYvh04f2ZAfn"
      },
      "execution_count": null,
      "outputs": []
    },
    {
      "cell_type": "code",
      "source": [
        "#cifar_model_vgg16 = create_vgg16()\n",
        "#cifar_model_vgg16.summary()\n"
      ],
      "metadata": {
        "id": "CUGLwzRsaxuT"
      },
      "execution_count": null,
      "outputs": []
    },
    {
      "cell_type": "markdown",
      "source": [
        "# Testes Ciphar AlexNet"
      ],
      "metadata": {
        "id": "fD55TVJBbp-R"
      }
    },
    {
      "cell_type": "markdown",
      "source": [
        "##AlexNet Parte 1"
      ],
      "metadata": {
        "id": "HbB09Jtgli6Q"
      }
    },
    {
      "cell_type": "code",
      "source": [
        "learn_rate_history = []\n",
        "learn_rate_history_test = []\n",
        "for learn_rate in list_learn_rate:\n",
        "  cifar_model_alexnet = create_alexnet()\n",
        "  cifar_model_alexnet.compile(optimizer=SGD(learning_rate=learn_rate),\n",
        "              loss=tf.keras.losses.SparseCategoricalCrossentropy(from_logits=True),\n",
        "              metrics=['accuracy'])\n",
        "  learn_rate_history.append(cifar_model_alexnet.fit(train_images, train_labels, batch_size=256, epochs=20))\n",
        "  learn_rate_history_test = cifar_model_alexnet.evaluate(test_images,  test_labels, batch_size=256, verbose=5)"
      ],
      "metadata": {
        "colab": {
          "base_uri": "https://localhost:8080/"
        },
        "id": "bYIPL2zWh1SS",
        "outputId": "9560571f-9bce-4274-b2f4-03e0b8963b4c"
      },
      "execution_count": null,
      "outputs": [
        {
          "output_type": "stream",
          "name": "stdout",
          "text": [
            "Epoch 1/20\n"
          ]
        },
        {
          "output_type": "stream",
          "name": "stderr",
          "text": [
            "/usr/local/lib/python3.10/dist-packages/keras/src/backend.py:5729: UserWarning: \"`sparse_categorical_crossentropy` received `from_logits=True`, but the `output` argument was produced by a Softmax activation and thus does not represent logits. Was this intended?\n",
            "  output, from_logits = _get_logits(\n"
          ]
        },
        {
          "output_type": "stream",
          "name": "stdout",
          "text": [
            "196/196 [==============================] - 51s 195ms/step - loss: 2.2576 - accuracy: 0.1571\n",
            "Epoch 2/20\n",
            "196/196 [==============================] - 37s 188ms/step - loss: 2.0935 - accuracy: 0.2422\n",
            "Epoch 3/20\n",
            "196/196 [==============================] - 36s 182ms/step - loss: 1.9488 - accuracy: 0.2989\n",
            "Epoch 4/20\n",
            "196/196 [==============================] - 37s 187ms/step - loss: 1.8166 - accuracy: 0.3493\n",
            "Epoch 5/20\n",
            "196/196 [==============================] - 36s 185ms/step - loss: 1.6969 - accuracy: 0.3975\n",
            "Epoch 6/20\n",
            "196/196 [==============================] - 36s 185ms/step - loss: 1.5965 - accuracy: 0.4346\n",
            "Epoch 7/20\n",
            "196/196 [==============================] - 37s 187ms/step - loss: 1.5024 - accuracy: 0.4672\n",
            "Epoch 8/20\n",
            "196/196 [==============================] - 37s 186ms/step - loss: 1.4379 - accuracy: 0.4910\n",
            "Epoch 9/20\n",
            "196/196 [==============================] - 37s 186ms/step - loss: 1.3719 - accuracy: 0.5142\n",
            "Epoch 10/20\n",
            "196/196 [==============================] - 37s 187ms/step - loss: 1.3246 - accuracy: 0.5322\n",
            "Epoch 11/20\n",
            "196/196 [==============================] - 37s 187ms/step - loss: 1.2753 - accuracy: 0.5527\n",
            "Epoch 12/20\n",
            "196/196 [==============================] - 37s 187ms/step - loss: 1.2176 - accuracy: 0.5746\n",
            "Epoch 13/20\n",
            "196/196 [==============================] - 37s 187ms/step - loss: 1.1727 - accuracy: 0.5901\n",
            "Epoch 14/20\n",
            "196/196 [==============================] - 37s 187ms/step - loss: 1.1237 - accuracy: 0.6098\n",
            "Epoch 15/20\n",
            "196/196 [==============================] - 37s 190ms/step - loss: 1.0792 - accuracy: 0.6252\n",
            "Epoch 16/20\n",
            "196/196 [==============================] - 37s 188ms/step - loss: 1.0349 - accuracy: 0.6441\n",
            "Epoch 17/20\n",
            "196/196 [==============================] - 37s 187ms/step - loss: 0.9926 - accuracy: 0.6572\n",
            "Epoch 18/20\n",
            "196/196 [==============================] - 37s 187ms/step - loss: 0.9496 - accuracy: 0.6737\n",
            "Epoch 19/20\n",
            "196/196 [==============================] - 37s 187ms/step - loss: 0.9101 - accuracy: 0.6869\n",
            "Epoch 20/20\n",
            "196/196 [==============================] - 37s 187ms/step - loss: 0.8640 - accuracy: 0.7037\n",
            "Epoch 1/20\n",
            "196/196 [==============================] - 38s 189ms/step - loss: 2.3023 - accuracy: 0.1301\n",
            "Epoch 2/20\n",
            "196/196 [==============================] - 36s 183ms/step - loss: 2.3004 - accuracy: 0.1215\n",
            "Epoch 3/20\n",
            "196/196 [==============================] - 36s 183ms/step - loss: 2.2987 - accuracy: 0.1083\n",
            "Epoch 4/20\n",
            "196/196 [==============================] - 36s 185ms/step - loss: 2.2965 - accuracy: 0.1088\n",
            "Epoch 5/20\n",
            "196/196 [==============================] - 36s 182ms/step - loss: 2.2935 - accuracy: 0.1090\n",
            "Epoch 6/20\n",
            "196/196 [==============================] - 36s 183ms/step - loss: 2.2891 - accuracy: 0.1109\n",
            "Epoch 7/20\n",
            "196/196 [==============================] - 36s 183ms/step - loss: 2.2824 - accuracy: 0.1231\n",
            "Epoch 8/20\n",
            "196/196 [==============================] - 36s 184ms/step - loss: 2.2717 - accuracy: 0.1442\n",
            "Epoch 9/20\n",
            "196/196 [==============================] - 36s 184ms/step - loss: 2.2534 - accuracy: 0.1711\n",
            "Epoch 10/20\n",
            "196/196 [==============================] - 36s 184ms/step - loss: 2.2175 - accuracy: 0.2133\n",
            "Epoch 11/20\n",
            "196/196 [==============================] - 36s 184ms/step - loss: 2.1444 - accuracy: 0.2458\n",
            "Epoch 12/20\n",
            "196/196 [==============================] - 36s 184ms/step - loss: 2.0528 - accuracy: 0.2631\n",
            "Epoch 13/20\n",
            "196/196 [==============================] - 36s 183ms/step - loss: 2.0082 - accuracy: 0.2705\n",
            "Epoch 14/20\n",
            "196/196 [==============================] - 36s 183ms/step - loss: 1.9872 - accuracy: 0.2810\n",
            "Epoch 15/20\n",
            "196/196 [==============================] - 36s 183ms/step - loss: 1.9596 - accuracy: 0.2936\n",
            "Epoch 16/20\n",
            "196/196 [==============================] - 36s 184ms/step - loss: 1.9283 - accuracy: 0.3085\n",
            "Epoch 17/20\n",
            "196/196 [==============================] - 36s 184ms/step - loss: 1.9109 - accuracy: 0.3152\n",
            "Epoch 18/20\n",
            "196/196 [==============================] - 36s 184ms/step - loss: 1.8826 - accuracy: 0.3280\n",
            "Epoch 19/20\n",
            "196/196 [==============================] - 36s 184ms/step - loss: 1.8585 - accuracy: 0.3365\n",
            "Epoch 20/20\n",
            "196/196 [==============================] - 36s 184ms/step - loss: 1.8272 - accuracy: 0.3475\n",
            "Epoch 1/20\n",
            "196/196 [==============================] - 37s 184ms/step - loss: 2.3030 - accuracy: 0.1000\n",
            "Epoch 2/20\n",
            "196/196 [==============================] - 36s 183ms/step - loss: 2.3027 - accuracy: 0.0999\n",
            "Epoch 3/20\n",
            "196/196 [==============================] - 36s 183ms/step - loss: 2.3025 - accuracy: 0.1000\n",
            "Epoch 4/20\n",
            "196/196 [==============================] - 36s 183ms/step - loss: 2.3023 - accuracy: 0.1000\n",
            "Epoch 5/20\n",
            "196/196 [==============================] - 36s 184ms/step - loss: 2.3021 - accuracy: 0.1001\n",
            "Epoch 6/20\n",
            "196/196 [==============================] - 36s 184ms/step - loss: 2.3019 - accuracy: 0.1005\n",
            "Epoch 7/20\n",
            "196/196 [==============================] - 36s 184ms/step - loss: 2.3017 - accuracy: 0.1012\n",
            "Epoch 8/20\n",
            "196/196 [==============================] - 36s 184ms/step - loss: 2.3015 - accuracy: 0.1036\n",
            "Epoch 9/20\n",
            "196/196 [==============================] - 36s 184ms/step - loss: 2.3013 - accuracy: 0.1069\n",
            "Epoch 10/20\n",
            "196/196 [==============================] - 36s 183ms/step - loss: 2.3012 - accuracy: 0.1124\n",
            "Epoch 11/20\n",
            "196/196 [==============================] - 36s 183ms/step - loss: 2.3010 - accuracy: 0.1214\n",
            "Epoch 12/20\n",
            "196/196 [==============================] - 36s 184ms/step - loss: 2.3008 - accuracy: 0.1307\n",
            "Epoch 13/20\n",
            "196/196 [==============================] - 36s 184ms/step - loss: 2.3006 - accuracy: 0.1376\n",
            "Epoch 14/20\n",
            "196/196 [==============================] - 36s 184ms/step - loss: 2.3004 - accuracy: 0.1430\n",
            "Epoch 15/20\n",
            "196/196 [==============================] - 36s 184ms/step - loss: 2.3002 - accuracy: 0.1459\n",
            "Epoch 16/20\n",
            "196/196 [==============================] - 36s 183ms/step - loss: 2.3001 - accuracy: 0.1483\n",
            "Epoch 17/20\n",
            "196/196 [==============================] - 36s 183ms/step - loss: 2.2999 - accuracy: 0.1493\n",
            "Epoch 18/20\n",
            "196/196 [==============================] - 36s 183ms/step - loss: 2.2997 - accuracy: 0.1495\n",
            "Epoch 19/20\n",
            "196/196 [==============================] - 36s 183ms/step - loss: 2.2995 - accuracy: 0.1502\n",
            "Epoch 20/20\n",
            "196/196 [==============================] - 36s 184ms/step - loss: 2.2993 - accuracy: 0.1507\n"
          ]
        }
      ]
    },
    {
      "cell_type": "code",
      "source": [
        "import matplotlib.pyplot as plt\n",
        "\n",
        "for i in range (len(learn_rate_history)):\n",
        "  plt.plot(learn_rate_history[i].history[\"loss\"],label=f'loss: {list_learn_rate[i]}')\n",
        "  plt.legend()\n",
        "\n"
      ],
      "metadata": {
        "id": "mGKM_-enk7aI",
        "colab": {
          "base_uri": "https://localhost:8080/",
          "height": 430
        },
        "outputId": "f1f6d247-7c61-41b9-fc60-245985df58d4"
      },
      "execution_count": null,
      "outputs": [
        {
          "output_type": "display_data",
          "data": {
            "text/plain": [
              "<Figure size 640x480 with 1 Axes>"
            ],
            "image/png": "[encoded data removed]"
          },
          "metadata": {}
        }
      ]
    },
    {
      "cell_type": "code",
      "source": [
        "for i in range (len(learn_rate_history)):\n",
        "  plt.plot(learn_rate_history[i].history[\"accuracy\"],label=f'accuracy: {list_learn_rate[i]}')\n",
        "  plt.legend()"
      ],
      "metadata": {
        "colab": {
          "base_uri": "https://localhost:8080/",
          "height": 430
        },
        "id": "e94miAIJ19ua",
        "outputId": "4b18832a-a14f-428c-fd63-9f3113de651c"
      },
      "execution_count": null,
      "outputs": [
        {
          "output_type": "display_data",
          "data": {
            "text/plain": [
              "<Figure size 640x480 with 1 Axes>"
            ],
            "image/png": "[encoded data removed]"
          },
          "metadata": {}
        }
      ]
    },
    {
      "cell_type": "code",
      "source": [
        "accuracies = [history.history[\"accuracy\"] for history in learn_rate_history]\n",
        "best_accuracy_index = max(range(len(accuracies)), key=lambda i: accuracies[i][-1])\n",
        "best_learn_rate_for_accuracy = list_learn_rate[best_accuracy_index]\n",
        "\n",
        "print(f\"Melhor taxa de aprendizado para a maior accuracy: {best_learn_rate_for_accuracy}\")\n"
      ],
      "metadata": {
        "colab": {
          "base_uri": "https://localhost:8080/"
        },
        "id": "XFX1zBuE3yzv",
        "outputId": "2a1541cb-d75d-4f95-db59-6ddea0e4cf76"
      },
      "execution_count": null,
      "outputs": [
        {
          "output_type": "stream",
          "name": "stdout",
          "text": [
            "Melhor taxa de aprendizado para a maior accuracy: 0.01\n"
          ]
        }
      ]
    },
    {
      "cell_type": "code",
      "source": [
        "history_batchsize = []\n",
        "history_test_batchsize = []\n",
        "best_accuracy = 0\n",
        "best_batch_size = None\n",
        "contador = 0\n",
        "\n",
        "for batch_size in list_batch_size:\n",
        "  cifar_model_alexnet = create_alexnet(10)\n",
        "  cifar_model_alexnet.compile(optimizer=SGD(learning_rate=best_learn_rate_for_accuracy),\n",
        "              loss=tf.keras.losses.SparseCategoricalCrossentropy(from_logits=True),\n",
        "              metrics=['accuracy'])\n",
        "  history_batchsize.append(cifar_model_alexnet.fit(train_images, train_labels, batch_size=batch_size, epochs=20))\n",
        "  history_test_batchsize.append(cifar_model_alexnet.evaluate(test_images,  test_labels, batch_size=batch_size, verbose=5))\n",
        "\n",
        "  test_accuracy = history_test_batchsize[contador][1]\n",
        "\n",
        "  contador = contador + 1\n",
        "  if test_accuracy > best_accuracy:\n",
        "      best_accuracy = test_accuracy\n",
        "      best_batch_size = batch_size\n"
      ],
      "metadata": {
        "colab": {
          "base_uri": "https://localhost:8080/"
        },
        "id": "Z-Ivq9Z64MWC",
        "outputId": "127d0192-3088-40a0-80aa-788475591594"
      },
      "execution_count": null,
      "outputs": [
        {
          "output_type": "stream",
          "name": "stdout",
          "text": [
            "Epoch 1/20\n",
            "391/391 [==============================] - 43s 99ms/step - loss: 2.1887 - accuracy: 0.1894\n",
            "Epoch 2/20\n",
            "391/391 [==============================] - 38s 96ms/step - loss: 1.8706 - accuracy: 0.3294\n",
            "Epoch 3/20\n",
            "391/391 [==============================] - 38s 97ms/step - loss: 1.6138 - accuracy: 0.4263\n",
            "Epoch 4/20\n",
            "391/391 [==============================] - 38s 97ms/step - loss: 1.4631 - accuracy: 0.4805\n",
            "Epoch 5/20\n",
            "391/391 [==============================] - 38s 97ms/step - loss: 1.3605 - accuracy: 0.5196\n",
            "Epoch 6/20\n",
            "391/391 [==============================] - 38s 97ms/step - loss: 1.2756 - accuracy: 0.5507\n",
            "Epoch 7/20\n",
            "391/391 [==============================] - 38s 98ms/step - loss: 1.1962 - accuracy: 0.5830\n",
            "Epoch 8/20\n",
            "391/391 [==============================] - 38s 98ms/step - loss: 1.1179 - accuracy: 0.6088\n",
            "Epoch 9/20\n",
            "391/391 [==============================] - 38s 98ms/step - loss: 1.0400 - accuracy: 0.6392\n",
            "Epoch 10/20\n",
            "391/391 [==============================] - 38s 97ms/step - loss: 0.9722 - accuracy: 0.6622\n",
            "Epoch 11/20\n",
            "391/391 [==============================] - 38s 98ms/step - loss: 0.8931 - accuracy: 0.6899\n",
            "Epoch 12/20\n",
            "391/391 [==============================] - 38s 98ms/step - loss: 0.8185 - accuracy: 0.7182\n",
            "Epoch 13/20\n",
            "391/391 [==============================] - 38s 97ms/step - loss: 0.7442 - accuracy: 0.7427\n",
            "Epoch 14/20\n",
            "391/391 [==============================] - 38s 97ms/step - loss: 0.6643 - accuracy: 0.7720\n",
            "Epoch 15/20\n",
            "391/391 [==============================] - 38s 98ms/step - loss: 0.5760 - accuracy: 0.8039\n",
            "Epoch 16/20\n",
            "391/391 [==============================] - 38s 98ms/step - loss: 0.4880 - accuracy: 0.8312\n",
            "Epoch 17/20\n",
            "391/391 [==============================] - 38s 98ms/step - loss: 0.3969 - accuracy: 0.8667\n",
            "Epoch 18/20\n",
            "391/391 [==============================] - 38s 98ms/step - loss: 0.3210 - accuracy: 0.8945\n",
            "Epoch 19/20\n",
            "391/391 [==============================] - 38s 98ms/step - loss: 0.2251 - accuracy: 0.9291\n",
            "Epoch 20/20\n",
            "391/391 [==============================] - 38s 97ms/step - loss: 0.2702 - accuracy: 0.9274\n",
            "Epoch 1/20\n",
            "196/196 [==============================] - 38s 189ms/step - loss: 2.2756 - accuracy: 0.1437\n",
            "Epoch 2/20\n",
            "196/196 [==============================] - 36s 184ms/step - loss: 2.1204 - accuracy: 0.2304\n",
            "Epoch 3/20\n",
            "196/196 [==============================] - 36s 184ms/step - loss: 1.9694 - accuracy: 0.2916\n",
            "Epoch 4/20\n",
            "196/196 [==============================] - 37s 187ms/step - loss: 1.8238 - accuracy: 0.3490\n",
            "Epoch 5/20\n",
            "196/196 [==============================] - 36s 184ms/step - loss: 1.6834 - accuracy: 0.3995\n",
            "Epoch 6/20\n",
            "196/196 [==============================] - 36s 186ms/step - loss: 1.5738 - accuracy: 0.4394\n",
            "Epoch 7/20\n",
            "196/196 [==============================] - 37s 187ms/step - loss: 1.4927 - accuracy: 0.4734\n",
            "Epoch 8/20\n",
            "196/196 [==============================] - 37s 186ms/step - loss: 1.4144 - accuracy: 0.5013\n",
            "Epoch 9/20\n",
            "196/196 [==============================] - 36s 186ms/step - loss: 1.3587 - accuracy: 0.5228\n",
            "Epoch 10/20\n",
            "196/196 [==============================] - 36s 186ms/step - loss: 1.3049 - accuracy: 0.5415\n",
            "Epoch 11/20\n",
            "196/196 [==============================] - 36s 186ms/step - loss: 1.2567 - accuracy: 0.5592\n",
            "Epoch 12/20\n",
            "196/196 [==============================] - 37s 186ms/step - loss: 1.2059 - accuracy: 0.5776\n",
            "Epoch 13/20\n",
            "196/196 [==============================] - 37s 187ms/step - loss: 1.1687 - accuracy: 0.5916\n",
            "Epoch 14/20\n",
            "196/196 [==============================] - 37s 187ms/step - loss: 1.1155 - accuracy: 0.6128\n",
            "Epoch 15/20\n",
            "196/196 [==============================] - 37s 186ms/step - loss: 1.0760 - accuracy: 0.6280\n",
            "Epoch 16/20\n",
            "196/196 [==============================] - 36s 186ms/step - loss: 1.0283 - accuracy: 0.6439\n",
            "Epoch 17/20\n",
            "196/196 [==============================] - 36s 186ms/step - loss: 0.9834 - accuracy: 0.6607\n",
            "Epoch 18/20\n",
            "196/196 [==============================] - 36s 186ms/step - loss: 0.9452 - accuracy: 0.6744\n",
            "Epoch 19/20\n",
            "196/196 [==============================] - 36s 186ms/step - loss: 0.8991 - accuracy: 0.6901\n",
            "Epoch 20/20\n",
            "196/196 [==============================] - 36s 186ms/step - loss: 0.8456 - accuracy: 0.7085\n",
            "Epoch 1/20\n",
            "98/98 [==============================] - 56s 455ms/step - loss: 2.2955 - accuracy: 0.1228\n",
            "Epoch 2/20\n",
            "98/98 [==============================] - 36s 364ms/step - loss: 2.2473 - accuracy: 0.1666\n",
            "Epoch 3/20\n",
            "98/98 [==============================] - 37s 374ms/step - loss: 2.1534 - accuracy: 0.2207\n",
            "Epoch 4/20\n",
            "98/98 [==============================] - 37s 374ms/step - loss: 2.0578 - accuracy: 0.2623\n",
            "Epoch 5/20\n",
            "98/98 [==============================] - 36s 372ms/step - loss: 1.9744 - accuracy: 0.2909\n",
            "Epoch 6/20\n",
            "98/98 [==============================] - 37s 374ms/step - loss: 1.9087 - accuracy: 0.3175\n",
            "Epoch 7/20\n",
            "98/98 [==============================] - 37s 375ms/step - loss: 1.8268 - accuracy: 0.3491\n",
            "Epoch 8/20\n",
            "98/98 [==============================] - 37s 374ms/step - loss: 1.7510 - accuracy: 0.3787\n",
            "Epoch 9/20\n",
            "98/98 [==============================] - 37s 374ms/step - loss: 1.6940 - accuracy: 0.3998\n",
            "Epoch 10/20\n",
            "98/98 [==============================] - 37s 374ms/step - loss: 1.6424 - accuracy: 0.4199\n",
            "Epoch 11/20\n",
            "98/98 [==============================] - 37s 374ms/step - loss: 1.5753 - accuracy: 0.4437\n",
            "Epoch 12/20\n",
            "98/98 [==============================] - 37s 375ms/step - loss: 1.5332 - accuracy: 0.4594\n",
            "Epoch 13/20\n",
            "98/98 [==============================] - 37s 376ms/step - loss: 1.4929 - accuracy: 0.4721\n",
            "Epoch 14/20\n",
            "98/98 [==============================] - 37s 376ms/step - loss: 1.4518 - accuracy: 0.4898\n",
            "Epoch 15/20\n",
            "98/98 [==============================] - 37s 376ms/step - loss: 1.4127 - accuracy: 0.4999\n",
            "Epoch 16/20\n",
            "98/98 [==============================] - 37s 375ms/step - loss: 1.3808 - accuracy: 0.5138\n",
            "Epoch 17/20\n",
            "98/98 [==============================] - 37s 376ms/step - loss: 1.3510 - accuracy: 0.5260\n",
            "Epoch 18/20\n",
            "98/98 [==============================] - 37s 377ms/step - loss: 1.3205 - accuracy: 0.5390\n",
            "Epoch 19/20\n",
            "98/98 [==============================] - 37s 377ms/step - loss: 1.2987 - accuracy: 0.5443\n",
            "Epoch 20/20\n",
            "98/98 [==============================] - 37s 377ms/step - loss: 1.2693 - accuracy: 0.5556\n"
          ]
        }
      ]
    },
    {
      "cell_type": "code",
      "source": [
        "print(f\"Melhor batchsize para a maior accuracy: {best_batch_size}\")"
      ],
      "metadata": {
        "colab": {
          "base_uri": "https://localhost:8080/"
        },
        "id": "oV_cgxOk4ezf",
        "outputId": "3cc6b6b0-070c-4a60-8821-49b6519ce9fb"
      },
      "execution_count": null,
      "outputs": [
        {
          "output_type": "stream",
          "name": "stdout",
          "text": [
            "Melhor batchsize para a maior accuracy: 128\n"
          ]
        }
      ]
    },
    {
      "cell_type": "markdown",
      "source": [
        "## AlexNet parte 2"
      ],
      "metadata": {
        "id": "5PlSyEsplXje"
      }
    },
    {
      "cell_type": "code",
      "source": [
        "best_learn_rate_for_accuracy = 0.01\n",
        "best_batch_size = 128"
      ],
      "metadata": {
        "id": "KlPTo3XVlLaD"
      },
      "execution_count": null,
      "outputs": []
    },
    {
      "cell_type": "code",
      "source": [
        "epochs_history = []\n",
        "epochs_history_test = []\n",
        "\n",
        "best_accuracy = 0\n",
        "best_epochs = None\n",
        "contador = 0\n",
        "\n",
        "for epoch in list_epochs:\n",
        "  cifar_model_alexnet = create_alexnet(10)\n",
        "  cifar_model_alexnet.compile(optimizer=SGD(learning_rate=best_learn_rate_for_accuracy),\n",
        "              loss=tf.keras.losses.SparseCategoricalCrossentropy(from_logits=True),\n",
        "              metrics=['accuracy'])\n",
        "  epochs_history.append(cifar_model_alexnet.fit(train_images, train_labels, batch_size=best_batch_size, epochs=epoch))\n",
        "  epochs_history_test.append(cifar_model_alexnet.evaluate(test_images,  test_labels, batch_size=10, verbose=5))\n",
        "\n",
        "  test_accuracy = epochs_history_test[contador][1]\n",
        "\n",
        "  contador = contador + 1\n",
        "\n",
        "  if test_accuracy > best_accuracy:\n",
        "    best_accuracy = test_accuracy\n",
        "    best_epochs = epoch"
      ],
      "metadata": {
        "colab": {
          "base_uri": "https://localhost:8080/"
        },
        "id": "SwXNL4Pu4M-J",
        "outputId": "f58e77f2-9068-4f6b-8ab4-73835e884f65"
      },
      "execution_count": null,
      "outputs": [
        {
          "output_type": "stream",
          "name": "stdout",
          "text": [
            "Epoch 1/10\n"
          ]
        },
        {
          "output_type": "stream",
          "name": "stderr",
          "text": [
            "/usr/local/lib/python3.10/dist-packages/keras/src/backend.py:5729: UserWarning: \"`sparse_categorical_crossentropy` received `from_logits=True`, but the `output` argument was produced by a Softmax activation and thus does not represent logits. Was this intended?\n",
            "  output, from_logits = _get_logits(\n"
          ]
        },
        {
          "output_type": "stream",
          "name": "stdout",
          "text": [
            "391/391 [==============================] - 50s 93ms/step - loss: 2.1982 - accuracy: 0.1826\n",
            "Epoch 2/10\n",
            "391/391 [==============================] - 35s 90ms/step - loss: 1.9236 - accuracy: 0.3084\n",
            "Epoch 3/10\n",
            "391/391 [==============================] - 36s 91ms/step - loss: 1.6859 - accuracy: 0.3988\n",
            "Epoch 4/10\n",
            "391/391 [==============================] - 37s 94ms/step - loss: 1.5213 - accuracy: 0.4599\n",
            "Epoch 5/10\n",
            "391/391 [==============================] - 36s 93ms/step - loss: 1.4033 - accuracy: 0.5025\n",
            "Epoch 6/10\n",
            "391/391 [==============================] - 36s 93ms/step - loss: 1.3125 - accuracy: 0.5371\n",
            "Epoch 7/10\n",
            "391/391 [==============================] - 37s 94ms/step - loss: 1.2278 - accuracy: 0.5671\n",
            "Epoch 8/10\n",
            "391/391 [==============================] - 37s 94ms/step - loss: 1.1485 - accuracy: 0.5981\n",
            "Epoch 9/10\n",
            "391/391 [==============================] - 37s 94ms/step - loss: 1.0698 - accuracy: 0.6311\n",
            "Epoch 10/10\n",
            "391/391 [==============================] - 37s 94ms/step - loss: 0.9940 - accuracy: 0.6535\n",
            "Epoch 1/20\n",
            "391/391 [==============================] - 37s 93ms/step - loss: 2.2030 - accuracy: 0.1790\n",
            "Epoch 2/20\n",
            "391/391 [==============================] - 37s 94ms/step - loss: 1.9329 - accuracy: 0.3041\n",
            "Epoch 3/20\n",
            "391/391 [==============================] - 37s 94ms/step - loss: 1.6999 - accuracy: 0.3933\n",
            "Epoch 4/20\n",
            "391/391 [==============================] - 37s 94ms/step - loss: 1.5269 - accuracy: 0.4548\n",
            "Epoch 5/20\n",
            "391/391 [==============================] - 37s 94ms/step - loss: 1.4048 - accuracy: 0.5011\n",
            "Epoch 6/20\n",
            "391/391 [==============================] - 37s 94ms/step - loss: 1.3123 - accuracy: 0.5372\n",
            "Epoch 7/20\n",
            "391/391 [==============================] - 37s 95ms/step - loss: 1.2198 - accuracy: 0.5711\n",
            "Epoch 8/20\n",
            "391/391 [==============================] - 37s 95ms/step - loss: 1.1440 - accuracy: 0.5987\n",
            "Epoch 9/20\n",
            "391/391 [==============================] - 37s 95ms/step - loss: 1.0637 - accuracy: 0.6311\n",
            "Epoch 10/20\n",
            "391/391 [==============================] - 37s 95ms/step - loss: 0.9887 - accuracy: 0.6582\n",
            "Epoch 11/20\n",
            "391/391 [==============================] - 37s 95ms/step - loss: 0.9108 - accuracy: 0.6852\n",
            "Epoch 12/20\n",
            "391/391 [==============================] - 38s 96ms/step - loss: 0.8407 - accuracy: 0.7114\n",
            "Epoch 13/20\n",
            "391/391 [==============================] - 37s 96ms/step - loss: 0.7661 - accuracy: 0.7367\n",
            "Epoch 14/20\n",
            "391/391 [==============================] - 37s 95ms/step - loss: 0.6905 - accuracy: 0.7623\n",
            "Epoch 15/20\n",
            "391/391 [==============================] - 37s 95ms/step - loss: 0.6084 - accuracy: 0.7896\n",
            "Epoch 16/20\n",
            "391/391 [==============================] - 37s 95ms/step - loss: 0.5304 - accuracy: 0.8194\n",
            "Epoch 17/20\n",
            "391/391 [==============================] - 37s 94ms/step - loss: 0.4460 - accuracy: 0.8465\n",
            "Epoch 18/20\n",
            "391/391 [==============================] - 37s 95ms/step - loss: 0.3604 - accuracy: 0.8787\n",
            "Epoch 19/20\n",
            "391/391 [==============================] - 38s 97ms/step - loss: 0.2858 - accuracy: 0.9090\n",
            "Epoch 20/20\n",
            "391/391 [==============================] - 37s 95ms/step - loss: 0.2886 - accuracy: 0.9183\n",
            "Epoch 1/30\n",
            "391/391 [==============================] - 38s 94ms/step - loss: 2.2027 - accuracy: 0.1902\n",
            "Epoch 2/30\n",
            "391/391 [==============================] - 37s 94ms/step - loss: 1.8968 - accuracy: 0.3183\n",
            "Epoch 3/30\n",
            "391/391 [==============================] - 37s 94ms/step - loss: 1.6623 - accuracy: 0.4096\n",
            "Epoch 4/30\n",
            "391/391 [==============================] - 37s 94ms/step - loss: 1.4931 - accuracy: 0.4696\n",
            "Epoch 5/30\n",
            "391/391 [==============================] - 37s 95ms/step - loss: 1.3789 - accuracy: 0.5119\n",
            "Epoch 6/30\n",
            "391/391 [==============================] - 37s 95ms/step - loss: 1.2872 - accuracy: 0.5458\n",
            "Epoch 7/30\n",
            "391/391 [==============================] - 37s 95ms/step - loss: 1.2060 - accuracy: 0.5781\n",
            "Epoch 8/30\n",
            "391/391 [==============================] - 37s 94ms/step - loss: 1.1231 - accuracy: 0.6084\n",
            "Epoch 9/30\n",
            "391/391 [==============================] - 37s 95ms/step - loss: 1.0498 - accuracy: 0.6343\n",
            "Epoch 10/30\n",
            "391/391 [==============================] - 37s 95ms/step - loss: 0.9809 - accuracy: 0.6591\n",
            "Epoch 11/30\n",
            "391/391 [==============================] - 37s 95ms/step - loss: 0.9109 - accuracy: 0.6835\n",
            "Epoch 12/30\n",
            "391/391 [==============================] - 37s 95ms/step - loss: 0.8331 - accuracy: 0.7118\n",
            "Epoch 13/30\n",
            "391/391 [==============================] - 37s 94ms/step - loss: 0.7566 - accuracy: 0.7383\n",
            "Epoch 14/30\n",
            "391/391 [==============================] - 37s 95ms/step - loss: 0.6760 - accuracy: 0.7671\n",
            "Epoch 15/30\n",
            "391/391 [==============================] - 37s 95ms/step - loss: 0.5918 - accuracy: 0.7969\n",
            "Epoch 16/30\n",
            "391/391 [==============================] - 37s 95ms/step - loss: 0.5182 - accuracy: 0.8208\n",
            "Epoch 17/30\n",
            "391/391 [==============================] - 37s 95ms/step - loss: 0.4289 - accuracy: 0.8540\n",
            "Epoch 18/30\n",
            "391/391 [==============================] - 37s 95ms/step - loss: 0.3274 - accuracy: 0.8912\n",
            "Epoch 19/30\n",
            "391/391 [==============================] - 37s 95ms/step - loss: 0.2562 - accuracy: 0.9183\n",
            "Epoch 20/30\n",
            "391/391 [==============================] - 37s 95ms/step - loss: 0.1947 - accuracy: 0.9453\n",
            "Epoch 21/30\n",
            "391/391 [==============================] - 37s 94ms/step - loss: 0.3789 - accuracy: 0.8955\n",
            "Epoch 22/30\n",
            "391/391 [==============================] - 37s 95ms/step - loss: 0.2107 - accuracy: 0.9395\n",
            "Epoch 23/30\n",
            "391/391 [==============================] - 37s 95ms/step - loss: 0.2417 - accuracy: 0.9422\n",
            "Epoch 24/30\n",
            "391/391 [==============================] - 37s 95ms/step - loss: 0.2802 - accuracy: 0.9343\n",
            "Epoch 25/30\n",
            "391/391 [==============================] - 37s 95ms/step - loss: 0.1733 - accuracy: 0.9505\n",
            "Epoch 26/30\n",
            "391/391 [==============================] - 37s 95ms/step - loss: 0.0234 - accuracy: 0.9968\n",
            "Epoch 27/30\n",
            "391/391 [==============================] - 37s 96ms/step - loss: 0.0044 - accuracy: 0.9998\n",
            "Epoch 28/30\n",
            "391/391 [==============================] - 37s 95ms/step - loss: 0.0022 - accuracy: 0.9999\n",
            "Epoch 29/30\n",
            "391/391 [==============================] - 37s 95ms/step - loss: 0.0014 - accuracy: 0.9999\n",
            "Epoch 30/30\n",
            "391/391 [==============================] - 37s 95ms/step - loss: 0.0010 - accuracy: 0.9999\n"
          ]
        }
      ]
    },
    {
      "cell_type": "code",
      "source": [
        "print(f\"Melhor epochs para a maior accuracy: {best_epochs}\")"
      ],
      "metadata": {
        "id": "1-IagAoX_dsa",
        "colab": {
          "base_uri": "https://localhost:8080/"
        },
        "outputId": "0878c1a5-4c96-4f77-f435-71d692634d15"
      },
      "execution_count": null,
      "outputs": [
        {
          "output_type": "stream",
          "name": "stdout",
          "text": [
            "Melhor epochs para a maior accuracy: 30\n"
          ]
        }
      ]
    },
    {
      "cell_type": "markdown",
      "source": [
        "## Parte 3"
      ],
      "metadata": {
        "id": "leOqQINMVv3O"
      }
    },
    {
      "cell_type": "code",
      "source": [
        "best_learn_rate_for_accuracy = 0.01\n",
        "best_batch_size = 128\n",
        "best_epochs = 30"
      ],
      "metadata": {
        "id": "NAXkOw9cV26R"
      },
      "execution_count": null,
      "outputs": []
    },
    {
      "cell_type": "code",
      "source": [
        "# Reshaping targets to match the TensorFlow's default shape for classification\n",
        "train_labels = train_labels.reshape(-1, 1)\n",
        "test_labels = test_labels.reshape(-1, 1)\n",
        "\n",
        "\n",
        "# Converting labels from integers to one-hot vectors\n",
        "num_classes = 10\n",
        "train_labels = to_categorical(train_labels, num_classes)\n",
        "test_labels = to_categorical(test_labels, num_classes)\n",
        "\n",
        "def result_confusion_matrix(model):\n",
        "  # Generating predictions for the test set\n",
        "  y_pred = model.predict(test_images)\n",
        "  y_pred = np.argmax(y_pred, axis=1)\n",
        "\n",
        "  # Creating the confusion matrix\n",
        "  y_test_label = np.argmax(test_labels, axis=1)\n",
        "  cm = confusion_matrix(y_test_label, y_pred)\n",
        "\n",
        "  # Displaying the confusion matrix\n",
        "  plt.imshow(cm, interpolation='nearest', cmap=plt.cm.Blues)\n",
        "  plt.title(\"Confusion matrix\")\n",
        "  plt.colorbar()\n",
        "  tick_marks = np.arange(num_classes)\n",
        "  plt.xticks(tick_marks, range(num_classes))\n",
        "  plt.yticks(tick_marks, range(num_classes))\n",
        "  plt.tight_layout()\n",
        "  plt.ylabel('True label')\n",
        "  plt.xlabel('Predicted label')\n",
        "  plt.show()\n",
        "\n",
        "\"\"\"\n",
        "def result_confusion_matrix():\n",
        "  predictions = cifar_model_alexnet.predict(test_images)\n",
        "  predicted_classes = np.argmax(predictions, axis=1)\n",
        "  true_classes = np.argmax(test_labels, axis=1)\n",
        "\n",
        "  # Calcular a matriz de confusão\n",
        "  confusion_mtx = confusion_matrix(true_classes, predicted_classes)\n",
        "\n",
        "  # Imprimir a matriz de confusão\n",
        "  print(\"Matriz de Confusão:\")\n",
        "  print(confusion_mtx)\n",
        "\n",
        "  # Calcular as métricas de classificação por classe\n",
        "  class_metrics = classification_report(true_classes, predicted_classes)\n",
        "  print(\"\\nMétricas por classe:\")\n",
        "  print(class_metrics)\n",
        "\"\"\"\n",
        "\n"
      ],
      "metadata": {
        "id": "611yuPHIW3kK",
        "colab": {
          "base_uri": "https://localhost:8080/",
          "height": 125
        },
        "outputId": "c9ec0593-23fb-473a-931e-f895e7260b7e"
      },
      "execution_count": null,
      "outputs": [
        {
          "output_type": "execute_result",
          "data": {
            "text/plain": [
              "'\\ndef result_confusion_matrix():\\n  predictions = cifar_model_alexnet.predict(test_images)\\n  predicted_classes = np.argmax(predictions, axis=1)\\n  true_classes = np.argmax(test_labels, axis=1)\\n\\n  # Calcular a matriz de confusão\\n  confusion_mtx = confusion_matrix(true_classes, predicted_classes)\\n\\n  # Imprimir a matriz de confusão\\n  print(\"Matriz de Confusão:\")\\n  print(confusion_mtx)\\n\\n  # Calcular as métricas de classificação por classe\\n  class_metrics = classification_report(true_classes, predicted_classes)\\n  print(\"\\nMétricas por classe:\")\\n  print(class_metrics)\\n'"
            ],
            "application/vnd.google.colaboratory.intrinsic+json": {
              "type": "string"
            }
          },
          "metadata": {},
          "execution_count": 15
        }
      ]
    },
    {
      "cell_type": "code",
      "source": [
        "history_dropout = []\n",
        "history_dropout_test = []\n",
        "cifar_model_alexnet = create_alexnet(dropout = True)\n",
        "cifar_model_alexnet.compile(optimizer=SGD(learning_rate=best_learn_rate_for_accuracy),\n",
        "              loss='categorical_crossentropy', metrics=['accuracy'])\n",
        "history_dropout.append(cifar_model_alexnet.fit(train_images, train_labels, batch_size=best_batch_size, epochs=best_epochs))\n",
        "history_dropout_test.append(cifar_model_alexnet.evaluate(test_images,  test_labels, batch_size=best_batch_size, verbose=5))"
      ],
      "metadata": {
        "id": "7i049X8xypX2",
        "colab": {
          "base_uri": "https://localhost:8080/"
        },
        "outputId": "a1083d07-5f81-4ea7-f7b8-e08578fb805d"
      },
      "execution_count": null,
      "outputs": [
        {
          "output_type": "stream",
          "name": "stdout",
          "text": [
            "Epoch 1/30\n",
            "391/391 [==============================] - 39s 96ms/step - loss: 2.2561 - accuracy: 0.1402\n",
            "Epoch 2/30\n",
            "391/391 [==============================] - 37s 95ms/step - loss: 2.0454 - accuracy: 0.2473\n",
            "Epoch 3/30\n",
            "391/391 [==============================] - 37s 95ms/step - loss: 1.8715 - accuracy: 0.3190\n",
            "Epoch 4/30\n",
            "391/391 [==============================] - 37s 96ms/step - loss: 1.7006 - accuracy: 0.3818\n",
            "Epoch 5/30\n",
            "391/391 [==============================] - 37s 96ms/step - loss: 1.5749 - accuracy: 0.4287\n",
            "Epoch 6/30\n",
            "391/391 [==============================] - 38s 96ms/step - loss: 1.4818 - accuracy: 0.4630\n",
            "Epoch 7/30\n",
            "391/391 [==============================] - 37s 96ms/step - loss: 1.4050 - accuracy: 0.4938\n",
            "Epoch 8/30\n",
            "391/391 [==============================] - 37s 96ms/step - loss: 1.3361 - accuracy: 0.5208\n",
            "Epoch 9/30\n",
            "391/391 [==============================] - 37s 95ms/step - loss: 1.2723 - accuracy: 0.5480\n",
            "Epoch 10/30\n",
            "391/391 [==============================] - 37s 95ms/step - loss: 1.2088 - accuracy: 0.5711\n",
            "Epoch 11/30\n",
            "391/391 [==============================] - 37s 95ms/step - loss: 1.1549 - accuracy: 0.5927\n",
            "Epoch 12/30\n",
            "391/391 [==============================] - 37s 96ms/step - loss: 1.1000 - accuracy: 0.6139\n",
            "Epoch 13/30\n",
            "391/391 [==============================] - 37s 96ms/step - loss: 1.0434 - accuracy: 0.6333\n",
            "Epoch 14/30\n",
            "391/391 [==============================] - 37s 96ms/step - loss: 0.9977 - accuracy: 0.6516\n",
            "Epoch 15/30\n",
            "391/391 [==============================] - 37s 96ms/step - loss: 0.9503 - accuracy: 0.6678\n",
            "Epoch 16/30\n",
            "391/391 [==============================] - 37s 95ms/step - loss: 0.9096 - accuracy: 0.6798\n",
            "Epoch 17/30\n",
            "391/391 [==============================] - 37s 95ms/step - loss: 0.8670 - accuracy: 0.6983\n",
            "Epoch 18/30\n",
            "391/391 [==============================] - 37s 96ms/step - loss: 0.8283 - accuracy: 0.7096\n",
            "Epoch 19/30\n",
            "391/391 [==============================] - 37s 95ms/step - loss: 0.7915 - accuracy: 0.7231\n",
            "Epoch 20/30\n",
            "391/391 [==============================] - 37s 96ms/step - loss: 0.7579 - accuracy: 0.7376\n",
            "Epoch 21/30\n",
            "391/391 [==============================] - 37s 95ms/step - loss: 0.7202 - accuracy: 0.7492\n",
            "Epoch 22/30\n",
            "391/391 [==============================] - 37s 96ms/step - loss: 0.6856 - accuracy: 0.7604\n",
            "Epoch 23/30\n",
            "391/391 [==============================] - 37s 95ms/step - loss: 0.6474 - accuracy: 0.7741\n",
            "Epoch 24/30\n",
            "391/391 [==============================] - 37s 95ms/step - loss: 0.6229 - accuracy: 0.7846\n",
            "Epoch 25/30\n",
            "391/391 [==============================] - 37s 95ms/step - loss: 0.5921 - accuracy: 0.7939\n",
            "Epoch 26/30\n",
            "391/391 [==============================] - 37s 95ms/step - loss: 0.5616 - accuracy: 0.8030\n",
            "Epoch 27/30\n",
            "391/391 [==============================] - 37s 95ms/step - loss: 0.5301 - accuracy: 0.8166\n",
            "Epoch 28/30\n",
            "391/391 [==============================] - 37s 95ms/step - loss: 0.5037 - accuracy: 0.8253\n",
            "Epoch 29/30\n",
            "391/391 [==============================] - 37s 96ms/step - loss: 0.4732 - accuracy: 0.8342\n",
            "Epoch 30/30\n",
            "391/391 [==============================] - 37s 96ms/step - loss: 0.4517 - accuracy: 0.8438\n"
          ]
        }
      ]
    },
    {
      "cell_type": "code",
      "source": [
        "result_confusion_matrix(cifar_model_alexnet)"
      ],
      "metadata": {
        "colab": {
          "base_uri": "https://localhost:8080/",
          "height": 524
        },
        "id": "zx3AhM8Wkang",
        "outputId": "3959b5a9-46eb-43d2-95d1-4073dc32d4dc"
      },
      "execution_count": null,
      "outputs": [
        {
          "output_type": "stream",
          "name": "stdout",
          "text": [
            "313/313 [==============================] - 4s 10ms/step\n"
          ]
        },
        {
          "output_type": "display_data",
          "data": {
            "text/plain": [
              "<Figure size 640x480 with 2 Axes>"
            ],
            "image/png": "[encoded data removed]"
          },
          "metadata": {}
        }
      ]
    },
    {
      "cell_type": "code",
      "source": [
        "batch_normalization_history = []\n",
        "batch_normalization_history_test = []\n",
        "cifar_model_alexnet = create_alexnet(10, batch_normalization = True, dropout = True)\n",
        "cifar_model_alexnet.compile(optimizer=SGD(learning_rate=best_learn_rate_for_accuracy),\n",
        "              loss='categorical_crossentropy', metrics=['accuracy'])\n",
        "batch_normalization_history.append(cifar_model_alexnet.fit(train_images, train_labels, batch_size=best_batch_size, epochs=best_epochs))\n",
        "batch_normalization_history_test.append(cifar_model_alexnet.evaluate(test_images,  test_labels, batch_size=best_batch_size, verbose=5))\n"
      ],
      "metadata": {
        "id": "xDKFJ79712M_",
        "colab": {
          "base_uri": "https://localhost:8080/"
        },
        "outputId": "e5e4b253-63f0-4339-aef1-a294730b7844"
      },
      "execution_count": null,
      "outputs": [
        {
          "output_type": "stream",
          "name": "stdout",
          "text": [
            "Epoch 1/30\n",
            "391/391 [==============================] - 53s 122ms/step - loss: 1.8276 - accuracy: 0.3874\n",
            "Epoch 2/30\n",
            "391/391 [==============================] - 48s 122ms/step - loss: 1.3495 - accuracy: 0.5352\n",
            "Epoch 3/30\n",
            "391/391 [==============================] - 47s 119ms/step - loss: 1.1085 - accuracy: 0.6137\n",
            "Epoch 4/30\n",
            "391/391 [==============================] - 46s 118ms/step - loss: 0.9567 - accuracy: 0.6661\n",
            "Epoch 5/30\n",
            "391/391 [==============================] - 46s 119ms/step - loss: 0.8422 - accuracy: 0.7033\n",
            "Epoch 6/30\n",
            "391/391 [==============================] - 46s 118ms/step - loss: 0.7560 - accuracy: 0.7357\n",
            "Epoch 7/30\n",
            "391/391 [==============================] - 46s 118ms/step - loss: 0.6828 - accuracy: 0.7605\n",
            "Epoch 8/30\n",
            "391/391 [==============================] - 46s 118ms/step - loss: 0.6191 - accuracy: 0.7828\n",
            "Epoch 9/30\n",
            "391/391 [==============================] - 46s 118ms/step - loss: 0.5613 - accuracy: 0.8023\n",
            "Epoch 10/30\n",
            "391/391 [==============================] - 46s 118ms/step - loss: 0.5157 - accuracy: 0.8169\n",
            "Epoch 11/30\n",
            "391/391 [==============================] - 46s 118ms/step - loss: 0.4685 - accuracy: 0.8349\n",
            "Epoch 12/30\n",
            "391/391 [==============================] - 46s 118ms/step - loss: 0.4184 - accuracy: 0.8521\n",
            "Epoch 13/30\n",
            "391/391 [==============================] - 46s 118ms/step - loss: 0.3796 - accuracy: 0.8658\n",
            "Epoch 14/30\n",
            "391/391 [==============================] - 46s 118ms/step - loss: 0.3366 - accuracy: 0.8819\n",
            "Epoch 15/30\n",
            "391/391 [==============================] - 46s 118ms/step - loss: 0.3024 - accuracy: 0.8930\n",
            "Epoch 16/30\n",
            "391/391 [==============================] - 46s 118ms/step - loss: 0.2699 - accuracy: 0.9052\n",
            "Epoch 17/30\n",
            "391/391 [==============================] - 46s 118ms/step - loss: 0.2375 - accuracy: 0.9151\n",
            "Epoch 18/30\n",
            "391/391 [==============================] - 46s 118ms/step - loss: 0.2070 - accuracy: 0.9273\n",
            "Epoch 19/30\n",
            "391/391 [==============================] - 46s 119ms/step - loss: 0.1812 - accuracy: 0.9370\n",
            "Epoch 20/30\n",
            "391/391 [==============================] - 46s 118ms/step - loss: 0.1590 - accuracy: 0.9451\n",
            "Epoch 21/30\n",
            "391/391 [==============================] - 46s 118ms/step - loss: 0.1326 - accuracy: 0.9544\n",
            "Epoch 22/30\n",
            "391/391 [==============================] - 46s 118ms/step - loss: 0.1160 - accuracy: 0.9619\n",
            "Epoch 23/30\n",
            "391/391 [==============================] - 46s 118ms/step - loss: 0.1053 - accuracy: 0.9646\n",
            "Epoch 24/30\n",
            "391/391 [==============================] - 46s 118ms/step - loss: 0.0916 - accuracy: 0.9693\n",
            "Epoch 25/30\n",
            "391/391 [==============================] - 46s 118ms/step - loss: 0.0800 - accuracy: 0.9734\n",
            "Epoch 26/30\n",
            "391/391 [==============================] - 46s 119ms/step - loss: 0.0657 - accuracy: 0.9791\n",
            "Epoch 27/30\n",
            "391/391 [==============================] - 46s 119ms/step - loss: 0.0598 - accuracy: 0.9812\n",
            "Epoch 28/30\n",
            "391/391 [==============================] - 46s 118ms/step - loss: 0.0533 - accuracy: 0.9826\n",
            "Epoch 29/30\n",
            "391/391 [==============================] - 46s 118ms/step - loss: 0.0507 - accuracy: 0.9838\n",
            "Epoch 30/30\n",
            "391/391 [==============================] - 46s 118ms/step - loss: 0.0441 - accuracy: 0.9860\n"
          ]
        }
      ]
    },
    {
      "cell_type": "code",
      "source": [
        "result_confusion_matrix(cifar_model_alexnet)"
      ],
      "metadata": {
        "colab": {
          "base_uri": "https://localhost:8080/",
          "height": 524
        },
        "id": "PXIGRRZylTK2",
        "outputId": "c1fc2be3-adfc-412e-eb8c-00290c2a536b"
      },
      "execution_count": null,
      "outputs": [
        {
          "output_type": "stream",
          "name": "stdout",
          "text": [
            "313/313 [==============================] - 4s 12ms/step\n"
          ]
        },
        {
          "output_type": "display_data",
          "data": {
            "text/plain": [
              "<Figure size 640x480 with 2 Axes>"
            ],
            "image/png": "[encoded data removed]"
          },
          "metadata": {}
        }
      ]
    },
    {
      "cell_type": "code",
      "source": [
        "predictions = cifar_model_alexnet.predict(test_images)\n",
        "predicted_classes = np.argmax(predictions, axis=1)\n",
        "true_classes = np.argmax(test_labels, axis=1)\n",
        "\n",
        "class_metrics = classification_report(true_classes, predicted_classes)"
      ],
      "metadata": {
        "colab": {
          "base_uri": "https://localhost:8080/"
        },
        "id": "O2wcy-rps4R_",
        "outputId": "6f33a3f9-4a7d-460b-e898-d87cd1dd7b29"
      },
      "execution_count": null,
      "outputs": [
        {
          "output_type": "stream",
          "name": "stdout",
          "text": [
            "313/313 [==============================] - 4s 12ms/step\n"
          ]
        }
      ]
    },
    {
      "cell_type": "code",
      "source": [
        "confusion_mtx = confusion_matrix(true_classes, predicted_classes)\n",
        "\n",
        "# Imprimir a matriz de confusão\n",
        "print(\"Matriz de Confusão:\")\n",
        "print(confusion_mtx)"
      ],
      "metadata": {
        "colab": {
          "base_uri": "https://localhost:8080/"
        },
        "id": "UFsCXghwyu6y",
        "outputId": "b73ac1cc-2fd8-4d5d-cfbf-2c5bff5bab42"
      },
      "execution_count": null,
      "outputs": [
        {
          "output_type": "stream",
          "name": "stdout",
          "text": [
            "Matriz de Confusão:\n",
            "[[765  13  71  13  23   1  18   6  81   9]\n",
            " [ 11 886   5   8   5   1  13   2  37  32]\n",
            " [ 27   2 762  30  65  28  62  13   8   3]\n",
            " [  9   4  72 623  63  99  87  13  23   7]\n",
            " [  6   1  53  29 815  15  57  16   8   0]\n",
            " [  3   2  48 115  51 710  42  22   7   0]\n",
            " [  1   1  19  20  17   6 933   0   3   0]\n",
            " [  6   0  35  20  61  39  11 821   2   5]\n",
            " [ 15   5  17   3   9   1   9   2 930   9]\n",
            " [ 19  54   7  12  11   5  14  10  44 824]]\n"
          ]
        }
      ]
    },
    {
      "cell_type": "code",
      "source": [
        "print(\"\\nMétricas por classe:\")\n",
        "print(class_metrics)"
      ],
      "metadata": {
        "colab": {
          "base_uri": "https://localhost:8080/"
        },
        "id": "07lZEFkeyjO3",
        "outputId": "a924f13d-e912-4917-a8cf-367bac7b72a0"
      },
      "execution_count": null,
      "outputs": [
        {
          "output_type": "stream",
          "name": "stdout",
          "text": [
            "\n",
            "Métricas por classe:\n",
            "              precision    recall  f1-score   support\n",
            "\n",
            "           0       0.89      0.77      0.82      1000\n",
            "           1       0.92      0.89      0.90      1000\n",
            "           2       0.70      0.76      0.73      1000\n",
            "           3       0.71      0.62      0.67      1000\n",
            "           4       0.73      0.81      0.77      1000\n",
            "           5       0.78      0.71      0.75      1000\n",
            "           6       0.75      0.93      0.83      1000\n",
            "           7       0.91      0.82      0.86      1000\n",
            "           8       0.81      0.93      0.87      1000\n",
            "           9       0.93      0.82      0.87      1000\n",
            "\n",
            "    accuracy                           0.81     10000\n",
            "   macro avg       0.81      0.81      0.81     10000\n",
            "weighted avg       0.81      0.81      0.81     10000\n",
            "\n"
          ]
        }
      ]
    },
    {
      "cell_type": "markdown",
      "source": [
        "# Testes Ciphar VGG16"
      ],
      "metadata": {
        "id": "0gMo5Y0ZcHiF"
      }
    },
    {
      "cell_type": "markdown",
      "source": [
        "## VGG16 Parte 1"
      ],
      "metadata": {
        "id": "QA-J6sp92hm0"
      }
    },
    {
      "cell_type": "code",
      "source": [
        "list_learn_rate = [1e-2,1e-3,1e-4]\n",
        "list_batch_size = [128]\n",
        "list_epochs = [5,10,15]"
      ],
      "metadata": {
        "id": "mgw9thhQ0Dfz"
      },
      "execution_count": null,
      "outputs": []
    },
    {
      "cell_type": "code",
      "source": [
        "learn_rate_history = []\n",
        "learn_rate_history_test = []\n",
        "for learn_rate in list_learn_rate:\n",
        "  cifar_model_vgg16 = create_vgg16()\n",
        "  cifar_model_vgg16.compile(optimizer=SGD(learning_rate=learn_rate),\n",
        "              loss=tf.keras.losses.SparseCategoricalCrossentropy(from_logits=True),\n",
        "              metrics=['accuracy'])\n",
        "  learn_rate_history.append(cifar_model_vgg16.fit(train_images, train_labels, batch_size=128, epochs=10))\n",
        "  learn_rate_history_test = cifar_model_vgg16.evaluate(test_images,  test_labels, batch_size=128, verbose=5)"
      ],
      "metadata": {
        "id": "1_fWZH8lcHiH",
        "colab": {
          "base_uri": "https://localhost:8080/"
        },
        "outputId": "42df505c-56b4-4c03-f5b0-12a2891756bb"
      },
      "execution_count": null,
      "outputs": [
        {
          "output_type": "stream",
          "name": "stdout",
          "text": [
            "Epoch 1/10\n"
          ]
        },
        {
          "output_type": "stream",
          "name": "stderr",
          "text": [
            "/usr/local/lib/python3.10/dist-packages/keras/src/backend.py:5729: UserWarning: \"`sparse_categorical_crossentropy` received `from_logits=True`, but the `output` argument was produced by a Softmax activation and thus does not represent logits. Was this intended?\n",
            "  output, from_logits = _get_logits(\n"
          ]
        },
        {
          "output_type": "stream",
          "name": "stdout",
          "text": [
            "107/391 [=======>......................] - ETA: 8:05 - loss: 2.3020 - accuracy: 0.1190"
          ]
        }
      ]
    },
    {
      "cell_type": "code",
      "source": [
        "import matplotlib.pyplot as plt\n",
        "\n",
        "for i in range (len(learn_rate_history)):\n",
        "  plt.plot(learn_rate_history[i].history[\"loss\"],label=f'loss: {list_learn_rate[i]}')\n",
        "  plt.legend()\n",
        "\n"
      ],
      "metadata": {
        "id": "gULXx1yxcHiH"
      },
      "execution_count": null,
      "outputs": []
    },
    {
      "cell_type": "code",
      "source": [
        "for i in range (len(learn_rate_history)):\n",
        "  plt.plot(learn_rate_history[i].history[\"accuracy\"],label=f'accuracy: {list_learn_rate[i]}')\n",
        "  plt.legend()"
      ],
      "metadata": {
        "id": "roD61whRcHiI"
      },
      "execution_count": null,
      "outputs": []
    },
    {
      "cell_type": "code",
      "source": [
        "accuracies = [history.history[\"accuracy\"] for history in learn_rate_history]\n",
        "best_accuracy_index = max(range(len(accuracies)), key=lambda i: accuracies[i][-1])\n",
        "best_learn_rate_for_accuracy = list_learn_rate[best_accuracy_index]\n",
        "\n",
        "print(f\"Melhor taxa de aprendizado para a maior accuracy: {best_learn_rate_for_accuracy}\")\n"
      ],
      "metadata": {
        "id": "rEyA2AAlcHiI"
      },
      "execution_count": null,
      "outputs": []
    },
    {
      "cell_type": "code",
      "source": [
        "history_batchsize = []\n",
        "history_test_batchsize = []\n",
        "best_accuracy = 0\n",
        "best_batch_size = None\n",
        "contador = 0\n",
        "\n",
        "for batch_size in list_batch_size:\n",
        "  cifar_model_vgg16 = create_vgg16()\n",
        "  cifar_model_vgg16.compile(optimizer=SGD(learning_rate=best_learn_rate_for_accuracy),\n",
        "              loss=tf.keras.losses.SparseCategoricalCrossentropy(from_logits=True),\n",
        "              metrics=['accuracy'])\n",
        "  history_batchsize.append(cifar_model_vgg16.fit(train_images, train_labels, batch_size=batch_size, epochs=20))\n",
        "  history_test_batchsize.append(cifar_model_vgg16.evaluate(test_images,  test_labels, batch_size=batch_size, verbose=5))\n",
        "\n",
        "  test_accuracy = history_test_batchsize[contador][1]\n",
        "\n",
        "  contador = contador + 1\n",
        "  if test_accuracy > best_accuracy:\n",
        "      best_accuracy = test_accuracy\n",
        "      best_batch_size = batch_size\n"
      ],
      "metadata": {
        "id": "_PGGcxRVcHiI"
      },
      "execution_count": null,
      "outputs": []
    },
    {
      "cell_type": "code",
      "source": [
        "print(f\"Melhor batchsize para a maior accuracy: {best_batch_size}\")"
      ],
      "metadata": {
        "id": "jvwGnphbcHiJ"
      },
      "execution_count": null,
      "outputs": []
    },
    {
      "cell_type": "markdown",
      "source": [
        "## VGG 16 Parte 2"
      ],
      "metadata": {
        "id": "bG2erzqH2rR_"
      }
    },
    {
      "cell_type": "code",
      "source": [
        "best_learn_rate_for_accuracy = 0.01\n",
        "best_batch_size = 128"
      ],
      "metadata": {
        "id": "Z3m9hHWtEBVl"
      },
      "execution_count": null,
      "outputs": []
    },
    {
      "cell_type": "code",
      "source": [
        "epochs_history = []\n",
        "epochs_history_test = []\n",
        "\n",
        "best_accuracy = 0\n",
        "best_epochs = None\n",
        "contador = 0\n",
        "\n",
        "for epoch in list_epochs:\n",
        "  cifar_model_vgg16 = create_vgg16(10)\n",
        "  cifar_model_vgg16.compile(optimizer=SGD(learning_rate=best_learn_rate_for_accuracy),\n",
        "              loss=tf.keras.losses.SparseCategoricalCrossentropy(from_logits=True),\n",
        "              metrics=['accuracy'])\n",
        "  epochs_history.append(cifar_model_vgg16.fit(train_images, train_labels, batch_size=best_batch_size, epochs=epoch))\n",
        "  epochs_history_test.append(cifar_model_vgg16.evaluate(test_images,  test_labels, batch_size=best_batch_size, verbose=5))\n",
        "\n",
        "  test_accuracy = epochs_history_test[contador][1]\n",
        "\n",
        "  contador = contador + 1\n",
        "\n",
        "  if test_accuracy > best_accuracy:\n",
        "    best_accuracy = test_accuracy\n",
        "    best_epochs = epoch"
      ],
      "metadata": {
        "colab": {
          "base_uri": "https://localhost:8080/",
          "height": 1000
        },
        "outputId": "db4b3953-0956-4aa3-9793-486182dcc69a",
        "id": "t4bRsVyTcHiJ"
      },
      "execution_count": null,
      "outputs": [
        {
          "output_type": "stream",
          "name": "stdout",
          "text": [
            "Epoch 1/5\n"
          ]
        },
        {
          "output_type": "error",
          "ename": "ResourceExhaustedError",
          "evalue": "ignored",
          "traceback": [
            "\u001b[0;31m---------------------------------------------------------------------------\u001b[0m",
            "\u001b[0;31mResourceExhaustedError\u001b[0m                    Traceback (most recent call last)",
            "\u001b[0;32m<ipython-input-25-40a54b533a99>\u001b[0m in \u001b[0;36m<cell line: 8>\u001b[0;34m()\u001b[0m\n\u001b[1;32m     11\u001b[0m               \u001b[0mloss\u001b[0m\u001b[0;34m=\u001b[0m\u001b[0mtf\u001b[0m\u001b[0;34m.\u001b[0m\u001b[0mkeras\u001b[0m\u001b[0;34m.\u001b[0m\u001b[0mlosses\u001b[0m\u001b[0;34m.\u001b[0m\u001b[0mSparseCategoricalCrossentropy\u001b[0m\u001b[0;34m(\u001b[0m\u001b[0mfrom_logits\u001b[0m\u001b[0;34m=\u001b[0m\u001b[0;32mTrue\u001b[0m\u001b[0;34m)\u001b[0m\u001b[0;34m,\u001b[0m\u001b[0;34m\u001b[0m\u001b[0;34m\u001b[0m\u001b[0m\n\u001b[1;32m     12\u001b[0m               metrics=['accuracy'])\n\u001b[0;32m---> 13\u001b[0;31m   \u001b[0mepochs_history\u001b[0m\u001b[0;34m.\u001b[0m\u001b[0mappend\u001b[0m\u001b[0;34m(\u001b[0m\u001b[0mcifar_model_vgg16\u001b[0m\u001b[0;34m.\u001b[0m\u001b[0mfit\u001b[0m\u001b[0;34m(\u001b[0m\u001b[0mtrain_images\u001b[0m\u001b[0;34m,\u001b[0m \u001b[0mtrain_labels\u001b[0m\u001b[0;34m,\u001b[0m \u001b[0mbatch_size\u001b[0m\u001b[0;34m=\u001b[0m\u001b[0mbest_batch_size\u001b[0m\u001b[0;34m,\u001b[0m \u001b[0mepochs\u001b[0m\u001b[0;34m=\u001b[0m\u001b[0mepoch\u001b[0m\u001b[0;34m)\u001b[0m\u001b[0;34m)\u001b[0m\u001b[0;34m\u001b[0m\u001b[0;34m\u001b[0m\u001b[0m\n\u001b[0m\u001b[1;32m     14\u001b[0m   \u001b[0mepochs_history_test\u001b[0m\u001b[0;34m.\u001b[0m\u001b[0mappend\u001b[0m\u001b[0;34m(\u001b[0m\u001b[0mcifar_model_vgg16\u001b[0m\u001b[0;34m.\u001b[0m\u001b[0mevaluate\u001b[0m\u001b[0;34m(\u001b[0m\u001b[0mtest_images\u001b[0m\u001b[0;34m,\u001b[0m  \u001b[0mtest_labels\u001b[0m\u001b[0;34m,\u001b[0m \u001b[0mbatch_size\u001b[0m\u001b[0;34m=\u001b[0m\u001b[0;36m10\u001b[0m\u001b[0;34m,\u001b[0m \u001b[0mverbose\u001b[0m\u001b[0;34m=\u001b[0m\u001b[0;36m5\u001b[0m\u001b[0;34m)\u001b[0m\u001b[0;34m)\u001b[0m\u001b[0;34m\u001b[0m\u001b[0;34m\u001b[0m\u001b[0m\n\u001b[1;32m     15\u001b[0m \u001b[0;34m\u001b[0m\u001b[0m\n",
            "\u001b[0;32m/usr/local/lib/python3.10/dist-packages/keras/src/utils/traceback_utils.py\u001b[0m in \u001b[0;36merror_handler\u001b[0;34m(*args, **kwargs)\u001b[0m\n\u001b[1;32m     68\u001b[0m             \u001b[0;31m# To get the full stack trace, call:\u001b[0m\u001b[0;34m\u001b[0m\u001b[0;34m\u001b[0m\u001b[0m\n\u001b[1;32m     69\u001b[0m             \u001b[0;31m# `tf.debugging.disable_traceback_filtering()`\u001b[0m\u001b[0;34m\u001b[0m\u001b[0;34m\u001b[0m\u001b[0m\n\u001b[0;32m---> 70\u001b[0;31m             \u001b[0;32mraise\u001b[0m \u001b[0me\u001b[0m\u001b[0;34m.\u001b[0m\u001b[0mwith_traceback\u001b[0m\u001b[0;34m(\u001b[0m\u001b[0mfiltered_tb\u001b[0m\u001b[0;34m)\u001b[0m \u001b[0;32mfrom\u001b[0m \u001b[0;32mNone\u001b[0m\u001b[0;34m\u001b[0m\u001b[0;34m\u001b[0m\u001b[0m\n\u001b[0m\u001b[1;32m     71\u001b[0m         \u001b[0;32mfinally\u001b[0m\u001b[0;34m:\u001b[0m\u001b[0;34m\u001b[0m\u001b[0;34m\u001b[0m\u001b[0m\n\u001b[1;32m     72\u001b[0m             \u001b[0;32mdel\u001b[0m \u001b[0mfiltered_tb\u001b[0m\u001b[0;34m\u001b[0m\u001b[0;34m\u001b[0m\u001b[0m\n",
            "\u001b[0;32m/usr/local/lib/python3.10/dist-packages/tensorflow/python/eager/execute.py\u001b[0m in \u001b[0;36mquick_execute\u001b[0;34m(op_name, num_outputs, inputs, attrs, ctx, name)\u001b[0m\n\u001b[1;32m     58\u001b[0m         \u001b[0;32mfor\u001b[0m \u001b[0mt\u001b[0m \u001b[0;32min\u001b[0m \u001b[0minputs\u001b[0m\u001b[0;34m\u001b[0m\u001b[0;34m\u001b[0m\u001b[0m\n\u001b[1;32m     59\u001b[0m     ]\n\u001b[0;32m---> 60\u001b[0;31m     tensors = pywrap_tfe.TFE_Py_Execute(ctx._handle, device_name, op_name,\n\u001b[0m\u001b[1;32m     61\u001b[0m                                         inputs, attrs, num_outputs)\n\u001b[1;32m     62\u001b[0m   \u001b[0;32mexcept\u001b[0m \u001b[0mcore\u001b[0m\u001b[0;34m.\u001b[0m\u001b[0m_NotOkStatusException\u001b[0m \u001b[0;32mas\u001b[0m \u001b[0me\u001b[0m\u001b[0;34m:\u001b[0m\u001b[0;34m\u001b[0m\u001b[0;34m\u001b[0m\u001b[0m\n",
            "\u001b[0;31mResourceExhaustedError\u001b[0m: Graph execution error:\n\nDetected at node sequential_1/activation_16/Relu defined at (most recent call last):\n  File \"/usr/lib/python3.10/runpy.py\", line 196, in _run_module_as_main\n\n  File \"/usr/lib/python3.10/runpy.py\", line 86, in _run_code\n\n  File \"/usr/local/lib/python3.10/dist-packages/colab_kernel_launcher.py\", line 37, in <module>\n\n  File \"/usr/local/lib/python3.10/dist-packages/traitlets/config/application.py\", line 992, in launch_instance\n\n  File \"/usr/local/lib/python3.10/dist-packages/ipykernel/kernelapp.py\", line 619, in start\n\n  File \"/usr/local/lib/python3.10/dist-packages/tornado/platform/asyncio.py\", line 195, in start\n\n  File \"/usr/lib/python3.10/asyncio/base_events.py\", line 603, in run_forever\n\n  File \"/usr/lib/python3.10/asyncio/base_events.py\", line 1909, in _run_once\n\n  File \"/usr/lib/python3.10/asyncio/events.py\", line 80, in _run\n\n  File \"/usr/local/lib/python3.10/dist-packages/tornado/ioloop.py\", line 685, in <lambda>\n\n  File \"/usr/local/lib/python3.10/dist-packages/tornado/ioloop.py\", line 738, in _run_callback\n\n  File \"/usr/local/lib/python3.10/dist-packages/tornado/gen.py\", line 825, in inner\n\n  File \"/usr/local/lib/python3.10/dist-packages/tornado/gen.py\", line 786, in run\n\n  File \"/usr/local/lib/python3.10/dist-packages/ipykernel/kernelbase.py\", line 361, in process_one\n\n  File \"/usr/local/lib/python3.10/dist-packages/tornado/gen.py\", line 234, in wrapper\n\n  File \"/usr/local/lib/python3.10/dist-packages/ipykernel/kernelbase.py\", line 261, in dispatch_shell\n\n  File \"/usr/local/lib/python3.10/dist-packages/tornado/gen.py\", line 234, in wrapper\n\n  File \"/usr/local/lib/python3.10/dist-packages/ipykernel/kernelbase.py\", line 539, in execute_request\n\n  File \"/usr/local/lib/python3.10/dist-packages/tornado/gen.py\", line 234, in wrapper\n\n  File \"/usr/local/lib/python3.10/dist-packages/ipykernel/ipkernel.py\", line 302, in do_execute\n\n  File \"/usr/local/lib/python3.10/dist-packages/ipykernel/zmqshell.py\", line 539, in run_cell\n\n  File \"/usr/local/lib/python3.10/dist-packages/IPython/core/interactiveshell.py\", line 2975, in run_cell\n\n  File \"/usr/local/lib/python3.10/dist-packages/IPython/core/interactiveshell.py\", line 3030, in _run_cell\n\n  File \"/usr/local/lib/python3.10/dist-packages/IPython/core/async_helpers.py\", line 78, in _pseudo_sync_runner\n\n  File \"/usr/local/lib/python3.10/dist-packages/IPython/core/interactiveshell.py\", line 3257, in run_cell_async\n\n  File \"/usr/local/lib/python3.10/dist-packages/IPython/core/interactiveshell.py\", line 3473, in run_ast_nodes\n\n  File \"/usr/local/lib/python3.10/dist-packages/IPython/core/interactiveshell.py\", line 3553, in run_code\n\n  File \"<ipython-input-25-40a54b533a99>\", line 13, in <cell line: 8>\n\n  File \"/usr/local/lib/python3.10/dist-packages/keras/src/utils/traceback_utils.py\", line 65, in error_handler\n\n  File \"/usr/local/lib/python3.10/dist-packages/keras/src/engine/training.py\", line 1783, in fit\n\n  File \"/usr/local/lib/python3.10/dist-packages/keras/src/engine/training.py\", line 1377, in train_function\n\n  File \"/usr/local/lib/python3.10/dist-packages/keras/src/engine/training.py\", line 1360, in step_function\n\n  File \"/usr/local/lib/python3.10/dist-packages/keras/src/engine/training.py\", line 1349, in run_step\n\n  File \"/usr/local/lib/python3.10/dist-packages/keras/src/engine/training.py\", line 1126, in train_step\n\n  File \"/usr/local/lib/python3.10/dist-packages/keras/src/utils/traceback_utils.py\", line 65, in error_handler\n\n  File \"/usr/local/lib/python3.10/dist-packages/keras/src/engine/training.py\", line 589, in __call__\n\n  File \"/usr/local/lib/python3.10/dist-packages/keras/src/utils/traceback_utils.py\", line 65, in error_handler\n\n  File \"/usr/local/lib/python3.10/dist-packages/keras/src/engine/base_layer.py\", line 1149, in __call__\n\n  File \"/usr/local/lib/python3.10/dist-packages/keras/src/utils/traceback_utils.py\", line 96, in error_handler\n\n  File \"/usr/local/lib/python3.10/dist-packages/keras/src/engine/sequential.py\", line 398, in call\n\n  File \"/usr/local/lib/python3.10/dist-packages/keras/src/engine/functional.py\", line 515, in call\n\n  File \"/usr/local/lib/python3.10/dist-packages/keras/src/engine/functional.py\", line 672, in _run_internal_graph\n\n  File \"/usr/local/lib/python3.10/dist-packages/keras/src/utils/traceback_utils.py\", line 65, in error_handler\n\n  File \"/usr/local/lib/python3.10/dist-packages/keras/src/engine/base_layer.py\", line 1149, in __call__\n\n  File \"/usr/local/lib/python3.10/dist-packages/keras/src/utils/traceback_utils.py\", line 96, in error_handler\n\n  File \"/usr/local/lib/python3.10/dist-packages/keras/src/layers/core/activation.py\", line 59, in call\n\n  File \"/usr/local/lib/python3.10/dist-packages/keras/src/activations.py\", line 306, in relu\n\n  File \"/usr/local/lib/python3.10/dist-packages/keras/src/backend.py\", line 5397, in relu\n\nOOM when allocating tensor with shape[64,64,224,224] and type float on /job:localhost/replica:0/task:0/device:GPU:0 by allocator GPU_0_bfc\n\t [[{{node sequential_1/activation_16/Relu}}]]\nHint: If you want to see a list of allocated tensors when OOM happens, add report_tensor_allocations_upon_oom to RunOptions for current allocation info. This isn't available when running in Eager mode.\n [Op:__inference_train_function_32321]"
          ]
        }
      ]
    },
    {
      "cell_type": "code",
      "source": [
        "print(f\"Melhor epoch para a maior accuracy: {best_epochs}\")"
      ],
      "metadata": {
        "id": "xd7v0nnocHiK"
      },
      "execution_count": null,
      "outputs": []
    },
    {
      "cell_type": "code",
      "source": [
        "# Reshaping targets to match the TensorFlow's default shape for classification\n",
        "train_labels = train_labels.reshape(-1, 1)\n",
        "test_labels = test_labels.reshape(-1, 1)\n",
        "\n",
        "\n",
        "# Converting labels from integers to one-hot vectors\n",
        "num_classes = 10\n",
        "train_labels = to_categorical(train_labels, num_classes)\n",
        "test_labels = to_categorical(test_labels, num_classes)\n",
        "\n",
        "def result_confusion_matrix(model):\n",
        "  # Generating predictions for the test set\n",
        "  y_pred = model.predict(test_images)\n",
        "  y_pred = np.argmax(y_pred, axis=1)\n",
        "\n",
        "  # Creating the confusion matrix\n",
        "  y_test_label = np.argmax(test_labels, axis=1)\n",
        "  cm = confusion_matrix(y_test_label, y_pred)\n",
        "\n",
        "  # Displaying the confusion matrix\n",
        "  plt.imshow(cm, interpolation='nearest', cmap=plt.cm.Blues)\n",
        "  plt.title(\"Confusion matrix\")\n",
        "  plt.colorbar()\n",
        "  tick_marks = np.arange(num_classes)\n",
        "  plt.xticks(tick_marks, range(num_classes))\n",
        "  plt.yticks(tick_marks, range(num_classes))\n",
        "  plt.tight_layout()\n",
        "  plt.ylabel('True label')\n",
        "  plt.xlabel('Predicted label')\n",
        "  plt.show()"
      ],
      "metadata": {
        "id": "G2cFH8alzG4Y"
      },
      "execution_count": null,
      "outputs": []
    },
    {
      "cell_type": "code",
      "source": [
        "\n",
        "cifar_model_vgg16 = create_vgg16(10, dropout = True)\n",
        "cifar_model_vgg16.compile(optimizer=SGD(learning_rate=best_learn_rate_for_accuracy),\n",
        "              loss='categorical_crossentropy', metrics=['accuracy'])\n",
        "epochs_history.append(cifar_model_vgg16.fit(train_images, train_labels, batch_size=best_batch_size, epochs=best_epochs))\n",
        "epochs_history_test.append(cifar_model_vgg16.evaluate(test_images,  test_labels, batch_size=best_batch_size, verbose=5))\n",
        "\n",
        "result_confusion_matrix(cifar_model_vgg16)"
      ],
      "metadata": {
        "id": "0ctUTpWpcHiK"
      },
      "execution_count": null,
      "outputs": []
    },
    {
      "cell_type": "code",
      "source": [
        "#device = cuda.get_current_device()\n",
        "#device.reset()"
      ],
      "metadata": {
        "id": "34UR-Fq-2nyt"
      },
      "execution_count": null,
      "outputs": []
    },
    {
      "cell_type": "markdown",
      "source": [
        "## VGG 16 Parte 3"
      ],
      "metadata": {
        "id": "t0-G4VEe2xJo"
      }
    },
    {
      "cell_type": "code",
      "source": [
        "best_learn_rate_for_accuracy = 0.01\n",
        "best_batch_size = 128\n",
        "best_epochs = 30"
      ],
      "metadata": {
        "id": "FpxKs8QY20Bh"
      },
      "execution_count": null,
      "outputs": []
    },
    {
      "cell_type": "code",
      "source": [
        "\n",
        "gc.collect()\n",
        "tf.keras.backend.clear_session()\n",
        "\n",
        "cifar_model_vgg16 = create_vgg16(10, batch_normalization = True, dropout = True)\n",
        "cifar_model_vgg16.compile(optimizer=SGD(learning_rate=best_learn_rate_for_accuracy),\n",
        "              loss='categorical_crossentropy', metrics=['accuracy'])\n",
        "epochs_history.append(cifar_model_vgg16.fit(train_images, train_labels, batch_size=best_batch_size, epochs=best_epochs))\n",
        "epochs_history_test.append(cifar_model_vgg16.evaluate(test_images,  test_labels, batch_size=best_batch_size, verbose=5))\n",
        "\n",
        "result_confusion_matrix()"
      ],
      "metadata": {
        "id": "vWDCSY3GcHiL"
      },
      "execution_count": null,
      "outputs": []
    },
    {
      "cell_type": "code",
      "source": [
        "result_confusion_matrix()"
      ],
      "metadata": {
        "id": "hLZSdECpcHiM"
      },
      "execution_count": null,
      "outputs": []
    },
    {
      "cell_type": "code",
      "source": [
        "predictions = cifar_model_alexnet.predict(test_images)\n",
        "predicted_classes = np.argmax(predictions, axis=1)\n",
        "true_classes = np.argmax(test_labels, axis=1)\n",
        "\n",
        "class_metrics = classification_report(true_classes, predicted_classes)"
      ],
      "metadata": {
        "id": "YLpP2ChmzkLk"
      },
      "execution_count": null,
      "outputs": []
    },
    {
      "cell_type": "code",
      "source": [
        "print(\"\\nMétricas por classe:\")\n",
        "print(class_metrics)"
      ],
      "metadata": {
        "id": "n_reT86nznbI"
      },
      "execution_count": null,
      "outputs": []
    }
  ]
}